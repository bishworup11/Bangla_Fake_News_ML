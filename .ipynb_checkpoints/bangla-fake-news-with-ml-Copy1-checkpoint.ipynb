{
 "cells": [
  {
   "cell_type": "code",
   "execution_count": 3,
   "id": "34c724fa",
   "metadata": {
    "id": "z5UwaI8rU-jO",
    "papermill": {
     "duration": null,
     "end_time": null,
     "exception": null,
     "start_time": null,
     "status": "pending"
    },
    "tags": []
   },
   "outputs": [],
   "source": [
    "import warnings\n",
    "warnings.filterwarnings('ignore')\n",
    "import pandas as pd\n",
    "import numpy as np\n",
    "import matplotlib.pyplot as plt\n",
    "import cufflinks as cf\n",
    "import plotly\n",
    "import plotly.express as px\n",
    "import seaborn as sns\n",
    "from sklearn.model_selection import train_test_split\n",
    "from sklearn.metrics import accuracy_score\n",
    "from sklearn.metrics import classification_report\n",
    "import re\n",
    "import string\n",
    "\n",
    "from nltk.stem.porter import PorterStemmer\n",
    "from wordcloud import WordCloud\n",
    "from sklearn.feature_extraction.text import TfidfVectorizer\n",
    "from sklearn.model_selection import train_test_split\n",
    "from sklearn import metrics\n",
    "from sklearn.ensemble import RandomForestClassifier, AdaBoostClassifier, GradientBoostingClassifier\n",
    "from sklearn.linear_model import LogisticRegression\n",
    "from sklearn.tree import DecisionTreeClassifier\n",
    "from sklearn.naive_bayes import MultinomialNB\n",
    "from sklearn import metrics\n",
    "from sklearn.linear_model import PassiveAggressiveClassifier\n",
    "from datetime import datetime\n",
    "from sklearn.feature_extraction.text import CountVectorizer\n",
    "from pandas import DataFrame\n",
    "from collections import OrderedDict\n",
    "\n",
    "from sklearn.metrics import precision_score,recall_score,f1_score,roc_curve"
   ]
  },
  {
   "cell_type": "code",
   "execution_count": 4,
   "id": "db608975",
   "metadata": {
    "id": "R13MczujvLMj",
    "papermill": {
     "duration": null,
     "end_time": null,
     "exception": null,
     "start_time": null,
     "status": "pending"
    },
    "tags": []
   },
   "outputs": [],
   "source": [
    "df_true = pd.read_csv(\"LabeledAuthentic-7K.csv\")\n",
    "df_false = pd.read_csv(\"LabeledFake-1K.csv\")"
   ]
  },
  {
   "cell_type": "code",
   "execution_count": null,
   "id": "90ea6f81",
   "metadata": {
    "id": "wclEybvNU9rz",
    "papermill": {
     "duration": null,
     "end_time": null,
     "exception": null,
     "start_time": null,
     "status": "pending"
    },
    "tags": []
   },
   "outputs": [],
   "source": []
  },
  {
   "cell_type": "code",
   "execution_count": 5,
   "id": "9d9d27c3",
   "metadata": {
    "executionInfo": {
     "elapsed": 645,
     "status": "ok",
     "timestamp": 1700808537949,
     "user": {
      "displayName": "Sadia Khatun",
      "userId": "02347170218959633251"
     },
     "user_tz": -360
    },
    "id": "w26NhJpFvLMk",
    "outputId": "85a2b8cc-baca-4435-f0b2-6387e035f34b",
    "papermill": {
     "duration": null,
     "end_time": null,
     "exception": null,
     "start_time": null,
     "status": "pending"
    },
    "tags": []
   },
   "outputs": [
    {
     "data": {
      "text/html": [
       "<div>\n",
       "<style scoped>\n",
       "    .dataframe tbody tr th:only-of-type {\n",
       "        vertical-align: middle;\n",
       "    }\n",
       "\n",
       "    .dataframe tbody tr th {\n",
       "        vertical-align: top;\n",
       "    }\n",
       "\n",
       "    .dataframe thead th {\n",
       "        text-align: right;\n",
       "    }\n",
       "</style>\n",
       "<table border=\"1\" class=\"dataframe\">\n",
       "  <thead>\n",
       "    <tr style=\"text-align: right;\">\n",
       "      <th></th>\n",
       "      <th>articleID</th>\n",
       "      <th>domain</th>\n",
       "      <th>date</th>\n",
       "      <th>category</th>\n",
       "      <th>source</th>\n",
       "      <th>relation</th>\n",
       "      <th>headline</th>\n",
       "      <th>content</th>\n",
       "      <th>label</th>\n",
       "    </tr>\n",
       "  </thead>\n",
       "  <tbody>\n",
       "    <tr>\n",
       "      <th>0</th>\n",
       "      <td>1</td>\n",
       "      <td>bd-pratidin.com</td>\n",
       "      <td>2018-09-20 08:16:43</td>\n",
       "      <td>Sports</td>\n",
       "      <td>আফগান ক্রিকেট বোর্ড (এসিবি) প্রধান</td>\n",
       "      <td>Related</td>\n",
       "      <td>হঠাৎ আফগান ক্রিকেট বোর্ড প্রধানের পদত্যাগ</td>\n",
       "      <td>ক্রিকেট বিশ্বের নতুন চমকের নাম আফগানিস্তান। কয়...</td>\n",
       "      <td>1.0</td>\n",
       "    </tr>\n",
       "    <tr>\n",
       "      <th>1</th>\n",
       "      <td>2</td>\n",
       "      <td>jugantor.com</td>\n",
       "      <td>2018-09-20 20:20:20</td>\n",
       "      <td>Sports</td>\n",
       "      <td>Reporter</td>\n",
       "      <td>Related</td>\n",
       "      <td>টস হেরে বোলিংয়ে বাংলাদেশ</td>\n",
       "      <td>এশিয়া কাপের ষষ্ঠ ম্যাচে বাংলাদেশ দলের বিপক্ষে ...</td>\n",
       "      <td>1.0</td>\n",
       "    </tr>\n",
       "  </tbody>\n",
       "</table>\n",
       "</div>"
      ],
      "text/plain": [
       "   articleID           domain                 date category  \\\n",
       "0          1  bd-pratidin.com  2018-09-20 08:16:43   Sports   \n",
       "1          2     jugantor.com  2018-09-20 20:20:20   Sports   \n",
       "\n",
       "                               source relation  \\\n",
       "0  আফগান ক্রিকেট বোর্ড (এসিবি) প্রধান  Related   \n",
       "1                            Reporter  Related   \n",
       "\n",
       "                                    headline  \\\n",
       "0  হঠাৎ আফগান ক্রিকেট বোর্ড প্রধানের পদত্যাগ   \n",
       "1                   টস হেরে বোলিংয়ে বাংলাদেশ   \n",
       "\n",
       "                                             content  label  \n",
       "0  ক্রিকেট বিশ্বের নতুন চমকের নাম আফগানিস্তান। কয়...    1.0  \n",
       "1  এশিয়া কাপের ষষ্ঠ ম্যাচে বাংলাদেশ দলের বিপক্ষে ...    1.0  "
      ]
     },
     "execution_count": 5,
     "metadata": {},
     "output_type": "execute_result"
    }
   ],
   "source": [
    "df_true.head(2)"
   ]
  },
  {
   "cell_type": "code",
   "execution_count": 6,
   "id": "e60bc41c",
   "metadata": {
    "executionInfo": {
     "elapsed": 477,
     "status": "ok",
     "timestamp": 1700808541197,
     "user": {
      "displayName": "Sadia Khatun",
      "userId": "02347170218959633251"
     },
     "user_tz": -360
    },
    "id": "GXzKtf9svLMk",
    "outputId": "cbaed7d4-6716-4c2f-8e67-484e326b9578",
    "papermill": {
     "duration": null,
     "end_time": null,
     "exception": null,
     "start_time": null,
     "status": "pending"
    },
    "tags": []
   },
   "outputs": [
    {
     "data": {
      "text/html": [
       "<div>\n",
       "<style scoped>\n",
       "    .dataframe tbody tr th:only-of-type {\n",
       "        vertical-align: middle;\n",
       "    }\n",
       "\n",
       "    .dataframe tbody tr th {\n",
       "        vertical-align: top;\n",
       "    }\n",
       "\n",
       "    .dataframe thead th {\n",
       "        text-align: right;\n",
       "    }\n",
       "</style>\n",
       "<table border=\"1\" class=\"dataframe\">\n",
       "  <thead>\n",
       "    <tr style=\"text-align: right;\">\n",
       "      <th></th>\n",
       "      <th>articleID</th>\n",
       "      <th>domain</th>\n",
       "      <th>date</th>\n",
       "      <th>category</th>\n",
       "      <th>source</th>\n",
       "      <th>relation</th>\n",
       "      <th>headline</th>\n",
       "      <th>content</th>\n",
       "      <th>label</th>\n",
       "      <th>F-type</th>\n",
       "    </tr>\n",
       "  </thead>\n",
       "  <tbody>\n",
       "    <tr>\n",
       "      <th>0</th>\n",
       "      <td>1</td>\n",
       "      <td>channeldhaka.news</td>\n",
       "      <td>2019-03-14T13:34:14+00:00</td>\n",
       "      <td>International</td>\n",
       "      <td>Reporter</td>\n",
       "      <td>Unrelated</td>\n",
       "      <td>মুরগির হামলায় শেয়াল নিহত</td>\n",
       "      <td>বাংলায় একটা প্রবাদ আছে, শেয়ালের কাছে মুরগী বর্...</td>\n",
       "      <td>0</td>\n",
       "      <td>Satire</td>\n",
       "    </tr>\n",
       "    <tr>\n",
       "      <th>1</th>\n",
       "      <td>2</td>\n",
       "      <td>earki.com</td>\n",
       "      <td>সেম্বর ১৭, ২০১৮</td>\n",
       "      <td>Miscellaneous</td>\n",
       "      <td>Reporter</td>\n",
       "      <td>Unrelated</td>\n",
       "      <td>বিটিভিতে যেবার আমি ইন্টারভিউ দিতে গেলাম</td>\n",
       "      <td>BTV থেকে লোকজন আসছে, ইন্টারভিউ নিবে।চারজনের টি...</td>\n",
       "      <td>0</td>\n",
       "      <td>Satire</td>\n",
       "    </tr>\n",
       "  </tbody>\n",
       "</table>\n",
       "</div>"
      ],
      "text/plain": [
       "   articleID             domain                       date       category  \\\n",
       "0          1  channeldhaka.news  2019-03-14T13:34:14+00:00  International   \n",
       "1          2          earki.com           সেম্বর ১৭, ২০১৮   Miscellaneous   \n",
       "\n",
       "     source   relation                                 headline  \\\n",
       "0  Reporter  Unrelated                 মুরগির হামলায় শেয়াল নিহত   \n",
       "1  Reporter  Unrelated  বিটিভিতে যেবার আমি ইন্টারভিউ দিতে গেলাম   \n",
       "\n",
       "                                             content  label  F-type  \n",
       "0  বাংলায় একটা প্রবাদ আছে, শেয়ালের কাছে মুরগী বর্...      0  Satire  \n",
       "1  BTV থেকে লোকজন আসছে, ইন্টারভিউ নিবে।চারজনের টি...      0  Satire  "
      ]
     },
     "execution_count": 6,
     "metadata": {},
     "output_type": "execute_result"
    }
   ],
   "source": [
    "df_false.head(2)"
   ]
  },
  {
   "cell_type": "code",
   "execution_count": 7,
   "id": "45de7440",
   "metadata": {
    "executionInfo": {
     "elapsed": 651,
     "status": "ok",
     "timestamp": 1700808543675,
     "user": {
      "displayName": "Sadia Khatun",
      "userId": "02347170218959633251"
     },
     "user_tz": -360
    },
    "id": "hzZFMZM4vLMl",
    "outputId": "7a631ea1-d2f4-4497-de67-b27114dae351",
    "papermill": {
     "duration": null,
     "end_time": null,
     "exception": null,
     "start_time": null,
     "status": "pending"
    },
    "tags": []
   },
   "outputs": [
    {
     "data": {
      "text/plain": [
       "Index(['articleID', 'domain', 'date', 'category', 'source', 'relation',\n",
       "       'headline', 'content', 'label'],\n",
       "      dtype='object')"
      ]
     },
     "execution_count": 7,
     "metadata": {},
     "output_type": "execute_result"
    }
   ],
   "source": [
    "df_true.columns"
   ]
  },
  {
   "cell_type": "code",
   "execution_count": 8,
   "id": "ff16cea4",
   "metadata": {
    "id": "95PS01JKvLMl",
    "papermill": {
     "duration": null,
     "end_time": null,
     "exception": null,
     "start_time": null,
     "status": "pending"
    },
    "tags": []
   },
   "outputs": [],
   "source": [
    "drop_col=['articleID', 'domain', 'date', 'category', 'source', 'relation']\n",
    "df_true=df_true.drop(['articleID', 'domain', 'date', 'category', 'source', 'relation'],axis='columns')"
   ]
  },
  {
   "cell_type": "code",
   "execution_count": 9,
   "id": "0d3cd69e",
   "metadata": {
    "executionInfo": {
     "elapsed": 586,
     "status": "ok",
     "timestamp": 1700808546534,
     "user": {
      "displayName": "Sadia Khatun",
      "userId": "02347170218959633251"
     },
     "user_tz": -360
    },
    "id": "sFqwzVe6vLMl",
    "outputId": "d831468f-ef58-4df4-e278-56c3c402ab43",
    "papermill": {
     "duration": null,
     "end_time": null,
     "exception": null,
     "start_time": null,
     "status": "pending"
    },
    "tags": []
   },
   "outputs": [
    {
     "data": {
      "text/plain": [
       "Index(['articleID', 'domain', 'date', 'category', 'source', 'relation',\n",
       "       'headline', 'content', 'label', 'F-type'],\n",
       "      dtype='object')"
      ]
     },
     "execution_count": 9,
     "metadata": {},
     "output_type": "execute_result"
    }
   ],
   "source": [
    "df_false.columns"
   ]
  },
  {
   "cell_type": "code",
   "execution_count": 10,
   "id": "8b3d2bab",
   "metadata": {
    "id": "k0xvad-RvLMm",
    "papermill": {
     "duration": null,
     "end_time": null,
     "exception": null,
     "start_time": null,
     "status": "pending"
    },
    "tags": []
   },
   "outputs": [],
   "source": [
    "df_false=df_false.drop(['articleID', 'domain', 'date', 'category', 'source', 'relation','F-type'],axis='columns')"
   ]
  },
  {
   "cell_type": "code",
   "execution_count": 11,
   "id": "bd76f383",
   "metadata": {
    "executionInfo": {
     "elapsed": 8,
     "status": "ok",
     "timestamp": 1700808550230,
     "user": {
      "displayName": "Sadia Khatun",
      "userId": "02347170218959633251"
     },
     "user_tz": -360
    },
    "id": "KC_PK5xDvLMm",
    "outputId": "b832f381-60be-45ec-a3ac-34e083a4aae2",
    "papermill": {
     "duration": null,
     "end_time": null,
     "exception": null,
     "start_time": null,
     "status": "pending"
    },
    "tags": []
   },
   "outputs": [
    {
     "data": {
      "text/html": [
       "<div>\n",
       "<style scoped>\n",
       "    .dataframe tbody tr th:only-of-type {\n",
       "        vertical-align: middle;\n",
       "    }\n",
       "\n",
       "    .dataframe tbody tr th {\n",
       "        vertical-align: top;\n",
       "    }\n",
       "\n",
       "    .dataframe thead th {\n",
       "        text-align: right;\n",
       "    }\n",
       "</style>\n",
       "<table border=\"1\" class=\"dataframe\">\n",
       "  <thead>\n",
       "    <tr style=\"text-align: right;\">\n",
       "      <th></th>\n",
       "      <th>headline</th>\n",
       "      <th>content</th>\n",
       "      <th>label</th>\n",
       "    </tr>\n",
       "  </thead>\n",
       "  <tbody>\n",
       "    <tr>\n",
       "      <th>0</th>\n",
       "      <td>মুরগির হামলায় শেয়াল নিহত</td>\n",
       "      <td>বাংলায় একটা প্রবাদ আছে, শেয়ালের কাছে মুরগী বর্...</td>\n",
       "      <td>0</td>\n",
       "    </tr>\n",
       "    <tr>\n",
       "      <th>1</th>\n",
       "      <td>বিটিভিতে যেবার আমি ইন্টারভিউ দিতে গেলাম</td>\n",
       "      <td>BTV থেকে লোকজন আসছে, ইন্টারভিউ নিবে।চারজনের টি...</td>\n",
       "      <td>0</td>\n",
       "    </tr>\n",
       "    <tr>\n",
       "      <th>2</th>\n",
       "      <td>বিদেশ থেকে উন্নতমানের বিরোধীদল আমদানি করার পরা...</td>\n",
       "      <td>অদ্ভুত বিরোধীদলহীনতায় ভুগছে সরকার। এ এক অন্যরক...</td>\n",
       "      <td>0</td>\n",
       "    </tr>\n",
       "    <tr>\n",
       "      <th>3</th>\n",
       "      <td>অবসর নেয়ার ঘোষণা দিলেন মেসি !</td>\n",
       "      <td>রাশিয়া বিশ্বকাপ নকআউট পর্বে ফ্রান্সের সাথে ৪-৩...</td>\n",
       "      <td>0</td>\n",
       "    </tr>\n",
       "    <tr>\n",
       "      <th>4</th>\n",
       "      <td>মাদারফাকার নহে, ব্রাদারফাকার: সাকা | দৈনিক মতি...</td>\n",
       "      <td>নিজস্ব মতিবেদক‘মাদারফাকার নহে, আমি ব্রাদারফাকা...</td>\n",
       "      <td>0</td>\n",
       "    </tr>\n",
       "    <tr>\n",
       "      <th>...</th>\n",
       "      <td>...</td>\n",
       "      <td>...</td>\n",
       "      <td>...</td>\n",
       "    </tr>\n",
       "    <tr>\n",
       "      <th>1294</th>\n",
       "      <td>রাজশাহীতে স্বামীর হাঁচির আওয়াজে ঘুমের মধ্যেই স...</td>\n",
       "      <td>রাজশাহীর সাহেব বাজার মোড়ে রাতে ঘুমের মধ্যে হাস...</td>\n",
       "      <td>0</td>\n",
       "    </tr>\n",
       "    <tr>\n",
       "      <th>1295</th>\n",
       "      <td>IAS ইন্টারভিউ এ মেয়েটিকে জিজ্ঞসা করা হল মেয়েদে...</td>\n",
       "      <td>IAS পরীক্ষায় এমন এমন অবাক করে দেওয়া প্রশ্ন এসে...</td>\n",
       "      <td>0</td>\n",
       "    </tr>\n",
       "    <tr>\n",
       "      <th>1296</th>\n",
       "      <td>শাওমি মোবাইল বিস্ফোরণে কলেজছাত্রের মৃত্যু!</td>\n",
       "      <td>শাওমি মোবাইল ফোন বিস্ফোরণ হয়ে স্বপ্নীল মজুমদা...</td>\n",
       "      <td>0</td>\n",
       "    </tr>\n",
       "    <tr>\n",
       "      <th>1297</th>\n",
       "      <td>ফেসবুকে যেভাবে নতুন মন্ত্রীদের অভিনন্দন বার্তা...</td>\n",
       "      <td>আপনাকে নতুন মন্ত্রিসভার সদস্যদের অভিনন্দন জানা...</td>\n",
       "      <td>0</td>\n",
       "    </tr>\n",
       "    <tr>\n",
       "      <th>1298</th>\n",
       "      <td>মাঝ আকাশে পর্ন দেখার অভিযোগে পাইলট আটক!</td>\n",
       "      <td>বিমান যখন আকাশে তখন আর কোনও দিকে খেয়াল না রেখ...</td>\n",
       "      <td>0</td>\n",
       "    </tr>\n",
       "  </tbody>\n",
       "</table>\n",
       "<p>1299 rows × 3 columns</p>\n",
       "</div>"
      ],
      "text/plain": [
       "                                               headline  \\\n",
       "0                              মুরগির হামলায় শেয়াল নিহত   \n",
       "1               বিটিভিতে যেবার আমি ইন্টারভিউ দিতে গেলাম   \n",
       "2     বিদেশ থেকে উন্নতমানের বিরোধীদল আমদানি করার পরা...   \n",
       "3                         অবসর নেয়ার ঘোষণা দিলেন মেসি !   \n",
       "4     মাদারফাকার নহে, ব্রাদারফাকার: সাকা | দৈনিক মতি...   \n",
       "...                                                 ...   \n",
       "1294  রাজশাহীতে স্বামীর হাঁচির আওয়াজে ঘুমের মধ্যেই স...   \n",
       "1295  IAS ইন্টারভিউ এ মেয়েটিকে জিজ্ঞসা করা হল মেয়েদে...   \n",
       "1296         শাওমি মোবাইল বিস্ফোরণে কলেজছাত্রের মৃত্যু!   \n",
       "1297  ফেসবুকে যেভাবে নতুন মন্ত্রীদের অভিনন্দন বার্তা...   \n",
       "1298            মাঝ আকাশে পর্ন দেখার অভিযোগে পাইলট আটক!   \n",
       "\n",
       "                                                content  label  \n",
       "0     বাংলায় একটা প্রবাদ আছে, শেয়ালের কাছে মুরগী বর্...      0  \n",
       "1     BTV থেকে লোকজন আসছে, ইন্টারভিউ নিবে।চারজনের টি...      0  \n",
       "2     অদ্ভুত বিরোধীদলহীনতায় ভুগছে সরকার। এ এক অন্যরক...      0  \n",
       "3     রাশিয়া বিশ্বকাপ নকআউট পর্বে ফ্রান্সের সাথে ৪-৩...      0  \n",
       "4     নিজস্ব মতিবেদক‘মাদারফাকার নহে, আমি ব্রাদারফাকা...      0  \n",
       "...                                                 ...    ...  \n",
       "1294  রাজশাহীর সাহেব বাজার মোড়ে রাতে ঘুমের মধ্যে হাস...      0  \n",
       "1295  IAS পরীক্ষায় এমন এমন অবাক করে দেওয়া প্রশ্ন এসে...      0  \n",
       "1296  শাওমি মোবাইল ফোন বিস্ফোরণ হয়ে স্বপ্নীল মজুমদা...      0  \n",
       "1297  আপনাকে নতুন মন্ত্রিসভার সদস্যদের অভিনন্দন জানা...      0  \n",
       "1298  বিমান যখন আকাশে তখন আর কোনও দিকে খেয়াল না রেখ...      0  \n",
       "\n",
       "[1299 rows x 3 columns]"
      ]
     },
     "execution_count": 11,
     "metadata": {},
     "output_type": "execute_result"
    }
   ],
   "source": [
    "df_false"
   ]
  },
  {
   "cell_type": "markdown",
   "id": "24965a83-11de-4a91-8e8f-401a42d783a5",
   "metadata": {},
   "source": [
    "# Distribution of Fake News and Real News"
   ]
  },
  {
   "cell_type": "code",
   "execution_count": 12,
   "id": "449fd893-0e36-4268-813a-c1efb80dbfb8",
   "metadata": {},
   "outputs": [
    {
     "data": {
      "text/plain": [
       "Text(0, 0.5, 'Proportion of News Articles')"
      ]
     },
     "execution_count": 12,
     "metadata": {},
     "output_type": "execute_result"
    },
    {
     "data": {
      "image/png": "[encoded data removed]",
      "text/plain": [
       "<Figure size 1000x500 with 1 Axes>"
      ]
     },
     "metadata": {},
     "output_type": "display_data"
    },
    {
     "data": {
      "image/png": "[encoded data removed]",
      "text/plain": [
       "<Figure size 1000x500 with 1 Axes>"
      ]
     },
     "metadata": {},
     "output_type": "display_data"
    }
   ],
   "source": [
    "plt.figure(figsize=(10, 5))\n",
    "plt.bar('Fake News', len(df_false), color='red')\n",
    "plt.bar('Real News', len(df_true), color='green')\n",
    "plt.title('Distribution of Fake News and Real News', size=15)\n",
    "plt.xlabel('News Type', size=15)\n",
    "plt.ylabel('# of News Articles', size=15)\n",
    "\n",
    "\n",
    "total_len = len(df_false) + len(df_true)\n",
    "plt.figure(figsize=(10, 5))\n",
    "plt.bar('Fake News', len(df_false) / total_len, color='red')\n",
    "plt.bar('Real News', len(df_true) / total_len, color='green')\n",
    "plt.title('Distribution of Fake News and Real News', size=15)\n",
    "plt.xlabel('News Type', size=15)\n",
    "plt.ylabel('Proportion of News Articles', size=15)"
   ]
  },
  {
   "cell_type": "code",
   "execution_count": 13,
   "id": "7457d712",
   "metadata": {
    "id": "l95OggFJvLMm",
    "papermill": {
     "duration": null,
     "end_time": null,
     "exception": null,
     "start_time": null,
     "status": "pending"
    },
    "tags": []
   },
   "outputs": [],
   "source": [
    "ban_df=pd.concat([df_true,df_false],axis=0)"
   ]
  },
  {
   "cell_type": "code",
   "execution_count": 14,
   "id": "98f3352b",
   "metadata": {
    "executionInfo": {
     "elapsed": 605,
     "status": "ok",
     "timestamp": 1700819775132,
     "user": {
      "displayName": "Sadia Khatun",
      "userId": "02347170218959633251"
     },
     "user_tz": -360
    },
    "id": "fRryzpgxvLMn",
    "outputId": "cd5aa7f8-3040-4465-8b08-7a2350c4c76f",
    "papermill": {
     "duration": null,
     "end_time": null,
     "exception": null,
     "start_time": null,
     "status": "pending"
    },
    "tags": []
   },
   "outputs": [
    {
     "data": {
      "text/html": [
       "<div>\n",
       "<style scoped>\n",
       "    .dataframe tbody tr th:only-of-type {\n",
       "        vertical-align: middle;\n",
       "    }\n",
       "\n",
       "    .dataframe tbody tr th {\n",
       "        vertical-align: top;\n",
       "    }\n",
       "\n",
       "    .dataframe thead th {\n",
       "        text-align: right;\n",
       "    }\n",
       "</style>\n",
       "<table border=\"1\" class=\"dataframe\">\n",
       "  <thead>\n",
       "    <tr style=\"text-align: right;\">\n",
       "      <th></th>\n",
       "      <th>headline</th>\n",
       "      <th>content</th>\n",
       "      <th>label</th>\n",
       "    </tr>\n",
       "  </thead>\n",
       "  <tbody>\n",
       "    <tr>\n",
       "      <th>0</th>\n",
       "      <td>হঠাৎ আফগান ক্রিকেট বোর্ড প্রধানের পদত্যাগ</td>\n",
       "      <td>ক্রিকেট বিশ্বের নতুন চমকের নাম আফগানিস্তান। কয়...</td>\n",
       "      <td>1.0</td>\n",
       "    </tr>\n",
       "    <tr>\n",
       "      <th>1</th>\n",
       "      <td>টস হেরে বোলিংয়ে বাংলাদেশ</td>\n",
       "      <td>এশিয়া কাপের ষষ্ঠ ম্যাচে বাংলাদেশ দলের বিপক্ষে ...</td>\n",
       "      <td>1.0</td>\n",
       "    </tr>\n",
       "    <tr>\n",
       "      <th>2</th>\n",
       "      <td>রাজধানীতে বিশেষ অভিযানে আটক ৪৩</td>\n",
       "      <td>রাজধানীতে মাদক বিরোধী বিশেষ অভিযান পরিচালনা কর...</td>\n",
       "      <td>1.0</td>\n",
       "    </tr>\n",
       "  </tbody>\n",
       "</table>\n",
       "</div>"
      ],
      "text/plain": [
       "                                    headline  \\\n",
       "0  হঠাৎ আফগান ক্রিকেট বোর্ড প্রধানের পদত্যাগ   \n",
       "1                   টস হেরে বোলিংয়ে বাংলাদেশ   \n",
       "2             রাজধানীতে বিশেষ অভিযানে আটক ৪৩   \n",
       "\n",
       "                                             content  label  \n",
       "0  ক্রিকেট বিশ্বের নতুন চমকের নাম আফগানিস্তান। কয়...    1.0  \n",
       "1  এশিয়া কাপের ষষ্ঠ ম্যাচে বাংলাদেশ দলের বিপক্ষে ...    1.0  \n",
       "2  রাজধানীতে মাদক বিরোধী বিশেষ অভিযান পরিচালনা কর...    1.0  "
      ]
     },
     "execution_count": 14,
     "metadata": {},
     "output_type": "execute_result"
    }
   ],
   "source": [
    "ban_df.head(3)"
   ]
  },
  {
   "cell_type": "code",
   "execution_count": 15,
   "id": "6bb935e9",
   "metadata": {
    "executionInfo": {
     "elapsed": 5,
     "status": "ok",
     "timestamp": 1700808583629,
     "user": {
      "displayName": "Sadia Khatun",
      "userId": "02347170218959633251"
     },
     "user_tz": -360
    },
    "id": "0ilEey5QvLMn",
    "outputId": "75d97302-2fb9-4a34-e08f-455d74c51004",
    "papermill": {
     "duration": null,
     "end_time": null,
     "exception": null,
     "start_time": null,
     "status": "pending"
    },
    "tags": []
   },
   "outputs": [
    {
     "data": {
      "text/plain": [
       "(8501, 3)"
      ]
     },
     "execution_count": 15,
     "metadata": {},
     "output_type": "execute_result"
    }
   ],
   "source": [
    "ban_df.shape"
   ]
  },
  {
   "cell_type": "code",
   "execution_count": 16,
   "id": "a4e37946",
   "metadata": {
    "executionInfo": {
     "elapsed": 407,
     "status": "ok",
     "timestamp": 1700808586292,
     "user": {
      "displayName": "Sadia Khatun",
      "userId": "02347170218959633251"
     },
     "user_tz": -360
    },
    "id": "s1TU-vYcvLMn",
    "outputId": "b97e71c1-6906-4692-dae9-2b97b1971f61",
    "papermill": {
     "duration": null,
     "end_time": null,
     "exception": null,
     "start_time": null,
     "status": "pending"
    },
    "tags": []
   },
   "outputs": [
    {
     "data": {
      "text/plain": [
       "headline    0\n",
       "content     0\n",
       "label       0\n",
       "dtype: int64"
      ]
     },
     "execution_count": 16,
     "metadata": {},
     "output_type": "execute_result"
    }
   ],
   "source": [
    "ban_df.isnull().sum()"
   ]
  },
  {
   "cell_type": "code",
   "execution_count": 17,
   "id": "af1529ee",
   "metadata": {
    "executionInfo": {
     "elapsed": 703,
     "status": "ok",
     "timestamp": 1700808589816,
     "user": {
      "displayName": "Sadia Khatun",
      "userId": "02347170218959633251"
     },
     "user_tz": -360
    },
    "id": "ZEktJITsvLMo",
    "outputId": "8ec887a6-0e5a-41e3-f2ab-7b584047ee87",
    "papermill": {
     "duration": null,
     "end_time": null,
     "exception": null,
     "start_time": null,
     "status": "pending"
    },
    "tags": []
   },
   "outputs": [
    {
     "data": {
      "text/plain": [
       "0"
      ]
     },
     "execution_count": 17,
     "metadata": {},
     "output_type": "execute_result"
    }
   ],
   "source": [
    "ban_df.duplicated().sum()"
   ]
  },
  {
   "cell_type": "code",
   "execution_count": 18,
   "id": "31983b8f",
   "metadata": {
    "id": "aNYqCKPTvLMo",
    "papermill": {
     "duration": null,
     "end_time": null,
     "exception": null,
     "start_time": null,
     "status": "pending"
    },
    "tags": []
   },
   "outputs": [],
   "source": [
    "ban_df['Content'] = ban_df['headline'] + ban_df['content']"
   ]
  },
  {
   "cell_type": "code",
   "execution_count": 19,
   "id": "09b5101a",
   "metadata": {
    "executionInfo": {
     "elapsed": 417,
     "status": "ok",
     "timestamp": 1700808594086,
     "user": {
      "displayName": "Sadia Khatun",
      "userId": "02347170218959633251"
     },
     "user_tz": -360
    },
    "id": "YxNGSkd5vLMp",
    "outputId": "d01642f7-29e4-41b7-8138-21f9a4b79a3f",
    "papermill": {
     "duration": null,
     "end_time": null,
     "exception": null,
     "start_time": null,
     "status": "pending"
    },
    "tags": []
   },
   "outputs": [
    {
     "data": {
      "text/html": [
       "<div>\n",
       "<style scoped>\n",
       "    .dataframe tbody tr th:only-of-type {\n",
       "        vertical-align: middle;\n",
       "    }\n",
       "\n",
       "    .dataframe tbody tr th {\n",
       "        vertical-align: top;\n",
       "    }\n",
       "\n",
       "    .dataframe thead th {\n",
       "        text-align: right;\n",
       "    }\n",
       "</style>\n",
       "<table border=\"1\" class=\"dataframe\">\n",
       "  <thead>\n",
       "    <tr style=\"text-align: right;\">\n",
       "      <th></th>\n",
       "      <th>headline</th>\n",
       "      <th>content</th>\n",
       "      <th>label</th>\n",
       "      <th>Content</th>\n",
       "    </tr>\n",
       "  </thead>\n",
       "  <tbody>\n",
       "    <tr>\n",
       "      <th>0</th>\n",
       "      <td>হঠাৎ আফগান ক্রিকেট বোর্ড প্রধানের পদত্যাগ</td>\n",
       "      <td>ক্রিকেট বিশ্বের নতুন চমকের নাম আফগানিস্তান। কয়...</td>\n",
       "      <td>1.0</td>\n",
       "      <td>হঠাৎ আফগান ক্রিকেট বোর্ড প্রধানের পদত্যাগক্রিক...</td>\n",
       "    </tr>\n",
       "    <tr>\n",
       "      <th>1</th>\n",
       "      <td>টস হেরে বোলিংয়ে বাংলাদেশ</td>\n",
       "      <td>এশিয়া কাপের ষষ্ঠ ম্যাচে বাংলাদেশ দলের বিপক্ষে ...</td>\n",
       "      <td>1.0</td>\n",
       "      <td>টস হেরে বোলিংয়ে বাংলাদেশএশিয়া কাপের ষষ্ঠ ম্যাচ...</td>\n",
       "    </tr>\n",
       "    <tr>\n",
       "      <th>2</th>\n",
       "      <td>রাজধানীতে বিশেষ অভিযানে আটক ৪৩</td>\n",
       "      <td>রাজধানীতে মাদক বিরোধী বিশেষ অভিযান পরিচালনা কর...</td>\n",
       "      <td>1.0</td>\n",
       "      <td>রাজধানীতে বিশেষ অভিযানে আটক ৪৩রাজধানীতে মাদক ব...</td>\n",
       "    </tr>\n",
       "    <tr>\n",
       "      <th>3</th>\n",
       "      <td>উস্কানি রোধে নজরদারি থাকবে সামাজিক যোগাযোগ মাধ...</td>\n",
       "      <td>সনাতন ধর্মাবলম্বীদের সবচেয়ে বড় ধর্মীয় উৎসব দুর...</td>\n",
       "      <td>1.0</td>\n",
       "      <td>উস্কানি রোধে নজরদারি থাকবে সামাজিক যোগাযোগ মাধ...</td>\n",
       "    </tr>\n",
       "    <tr>\n",
       "      <th>4</th>\n",
       "      <td>'যেখানে তেল আসত ৭ দিনে, এখন তা আসবে অতি দ্রুত'</td>\n",
       "      <td>ভারত থেকে পাইপ লাইনের মাধ্যমে সরাসরি দেশে জ্বা...</td>\n",
       "      <td>1.0</td>\n",
       "      <td>'যেখানে তেল আসত ৭ দিনে, এখন তা আসবে অতি দ্রুত'...</td>\n",
       "    </tr>\n",
       "  </tbody>\n",
       "</table>\n",
       "</div>"
      ],
      "text/plain": [
       "                                            headline  \\\n",
       "0          হঠাৎ আফগান ক্রিকেট বোর্ড প্রধানের পদত্যাগ   \n",
       "1                           টস হেরে বোলিংয়ে বাংলাদেশ   \n",
       "2                     রাজধানীতে বিশেষ অভিযানে আটক ৪৩   \n",
       "3  উস্কানি রোধে নজরদারি থাকবে সামাজিক যোগাযোগ মাধ...   \n",
       "4     'যেখানে তেল আসত ৭ দিনে, এখন তা আসবে অতি দ্রুত'   \n",
       "\n",
       "                                             content  label  \\\n",
       "0  ক্রিকেট বিশ্বের নতুন চমকের নাম আফগানিস্তান। কয়...    1.0   \n",
       "1  এশিয়া কাপের ষষ্ঠ ম্যাচে বাংলাদেশ দলের বিপক্ষে ...    1.0   \n",
       "2  রাজধানীতে মাদক বিরোধী বিশেষ অভিযান পরিচালনা কর...    1.0   \n",
       "3  সনাতন ধর্মাবলম্বীদের সবচেয়ে বড় ধর্মীয় উৎসব দুর...    1.0   \n",
       "4  ভারত থেকে পাইপ লাইনের মাধ্যমে সরাসরি দেশে জ্বা...    1.0   \n",
       "\n",
       "                                             Content  \n",
       "0  হঠাৎ আফগান ক্রিকেট বোর্ড প্রধানের পদত্যাগক্রিক...  \n",
       "1  টস হেরে বোলিংয়ে বাংলাদেশএশিয়া কাপের ষষ্ঠ ম্যাচ...  \n",
       "2  রাজধানীতে বিশেষ অভিযানে আটক ৪৩রাজধানীতে মাদক ব...  \n",
       "3  উস্কানি রোধে নজরদারি থাকবে সামাজিক যোগাযোগ মাধ...  \n",
       "4  'যেখানে তেল আসত ৭ দিনে, এখন তা আসবে অতি দ্রুত'...  "
      ]
     },
     "execution_count": 19,
     "metadata": {},
     "output_type": "execute_result"
    }
   ],
   "source": [
    "ban_df.head()"
   ]
  },
  {
   "cell_type": "code",
   "execution_count": 20,
   "id": "fa0370dd",
   "metadata": {
    "id": "VwEmdP-YvLMp",
    "papermill": {
     "duration": null,
     "end_time": null,
     "exception": null,
     "start_time": null,
     "status": "pending"
    },
    "tags": []
   },
   "outputs": [],
   "source": [
    "ban_df1=ban_df.drop(['headline','content'],axis='columns')"
   ]
  },
  {
   "cell_type": "code",
   "execution_count": 21,
   "id": "87838560",
   "metadata": {
    "executionInfo": {
     "elapsed": 601,
     "status": "ok",
     "timestamp": 1700819881987,
     "user": {
      "displayName": "Sadia Khatun",
      "userId": "02347170218959633251"
     },
     "user_tz": -360
    },
    "id": "MLps8M9YvLMp",
    "outputId": "f82137f2-6b63-4fe8-8943-3eaf97f3feea",
    "papermill": {
     "duration": null,
     "end_time": null,
     "exception": null,
     "start_time": null,
     "status": "pending"
    },
    "tags": []
   },
   "outputs": [
    {
     "data": {
      "text/html": [
       "<div>\n",
       "<style scoped>\n",
       "    .dataframe tbody tr th:only-of-type {\n",
       "        vertical-align: middle;\n",
       "    }\n",
       "\n",
       "    .dataframe tbody tr th {\n",
       "        vertical-align: top;\n",
       "    }\n",
       "\n",
       "    .dataframe thead th {\n",
       "        text-align: right;\n",
       "    }\n",
       "</style>\n",
       "<table border=\"1\" class=\"dataframe\">\n",
       "  <thead>\n",
       "    <tr style=\"text-align: right;\">\n",
       "      <th></th>\n",
       "      <th>headline</th>\n",
       "      <th>content</th>\n",
       "      <th>label</th>\n",
       "      <th>Content</th>\n",
       "    </tr>\n",
       "  </thead>\n",
       "  <tbody>\n",
       "    <tr>\n",
       "      <th>0</th>\n",
       "      <td>হঠাৎ আফগান ক্রিকেট বোর্ড প্রধানের পদত্যাগ</td>\n",
       "      <td>ক্রিকেট বিশ্বের নতুন চমকের নাম আফগানিস্তান। কয়...</td>\n",
       "      <td>1.0</td>\n",
       "      <td>হঠাৎ আফগান ক্রিকেট বোর্ড প্রধানের পদত্যাগক্রিক...</td>\n",
       "    </tr>\n",
       "    <tr>\n",
       "      <th>1</th>\n",
       "      <td>টস হেরে বোলিংয়ে বাংলাদেশ</td>\n",
       "      <td>এশিয়া কাপের ষষ্ঠ ম্যাচে বাংলাদেশ দলের বিপক্ষে ...</td>\n",
       "      <td>1.0</td>\n",
       "      <td>টস হেরে বোলিংয়ে বাংলাদেশএশিয়া কাপের ষষ্ঠ ম্যাচ...</td>\n",
       "    </tr>\n",
       "    <tr>\n",
       "      <th>2</th>\n",
       "      <td>রাজধানীতে বিশেষ অভিযানে আটক ৪৩</td>\n",
       "      <td>রাজধানীতে মাদক বিরোধী বিশেষ অভিযান পরিচালনা কর...</td>\n",
       "      <td>1.0</td>\n",
       "      <td>রাজধানীতে বিশেষ অভিযানে আটক ৪৩রাজধানীতে মাদক ব...</td>\n",
       "    </tr>\n",
       "    <tr>\n",
       "      <th>3</th>\n",
       "      <td>উস্কানি রোধে নজরদারি থাকবে সামাজিক যোগাযোগ মাধ...</td>\n",
       "      <td>সনাতন ধর্মাবলম্বীদের সবচেয়ে বড় ধর্মীয় উৎসব দুর...</td>\n",
       "      <td>1.0</td>\n",
       "      <td>উস্কানি রোধে নজরদারি থাকবে সামাজিক যোগাযোগ মাধ...</td>\n",
       "    </tr>\n",
       "    <tr>\n",
       "      <th>4</th>\n",
       "      <td>'যেখানে তেল আসত ৭ দিনে, এখন তা আসবে অতি দ্রুত'</td>\n",
       "      <td>ভারত থেকে পাইপ লাইনের মাধ্যমে সরাসরি দেশে জ্বা...</td>\n",
       "      <td>1.0</td>\n",
       "      <td>'যেখানে তেল আসত ৭ দিনে, এখন তা আসবে অতি দ্রুত'...</td>\n",
       "    </tr>\n",
       "  </tbody>\n",
       "</table>\n",
       "</div>"
      ],
      "text/plain": [
       "                                            headline  \\\n",
       "0          হঠাৎ আফগান ক্রিকেট বোর্ড প্রধানের পদত্যাগ   \n",
       "1                           টস হেরে বোলিংয়ে বাংলাদেশ   \n",
       "2                     রাজধানীতে বিশেষ অভিযানে আটক ৪৩   \n",
       "3  উস্কানি রোধে নজরদারি থাকবে সামাজিক যোগাযোগ মাধ...   \n",
       "4     'যেখানে তেল আসত ৭ দিনে, এখন তা আসবে অতি দ্রুত'   \n",
       "\n",
       "                                             content  label  \\\n",
       "0  ক্রিকেট বিশ্বের নতুন চমকের নাম আফগানিস্তান। কয়...    1.0   \n",
       "1  এশিয়া কাপের ষষ্ঠ ম্যাচে বাংলাদেশ দলের বিপক্ষে ...    1.0   \n",
       "2  রাজধানীতে মাদক বিরোধী বিশেষ অভিযান পরিচালনা কর...    1.0   \n",
       "3  সনাতন ধর্মাবলম্বীদের সবচেয়ে বড় ধর্মীয় উৎসব দুর...    1.0   \n",
       "4  ভারত থেকে পাইপ লাইনের মাধ্যমে সরাসরি দেশে জ্বা...    1.0   \n",
       "\n",
       "                                             Content  \n",
       "0  হঠাৎ আফগান ক্রিকেট বোর্ড প্রধানের পদত্যাগক্রিক...  \n",
       "1  টস হেরে বোলিংয়ে বাংলাদেশএশিয়া কাপের ষষ্ঠ ম্যাচ...  \n",
       "2  রাজধানীতে বিশেষ অভিযানে আটক ৪৩রাজধানীতে মাদক ব...  \n",
       "3  উস্কানি রোধে নজরদারি থাকবে সামাজিক যোগাযোগ মাধ...  \n",
       "4  'যেখানে তেল আসত ৭ দিনে, এখন তা আসবে অতি দ্রুত'...  "
      ]
     },
     "execution_count": 21,
     "metadata": {},
     "output_type": "execute_result"
    }
   ],
   "source": [
    "ban_df.head()"
   ]
  },
  {
   "cell_type": "code",
   "execution_count": 22,
   "id": "1798d5b9",
   "metadata": {
    "executionInfo": {
     "elapsed": 609,
     "status": "ok",
     "timestamp": 1700819894519,
     "user": {
      "displayName": "Sadia Khatun",
      "userId": "02347170218959633251"
     },
     "user_tz": -360
    },
    "id": "n29qIxC8J39I",
    "outputId": "dc0f16fc-7e27-4b96-fafa-68ad665eca6f",
    "papermill": {
     "duration": null,
     "end_time": null,
     "exception": null,
     "start_time": null,
     "status": "pending"
    },
    "tags": []
   },
   "outputs": [
    {
     "data": {
      "text/html": [
       "<div>\n",
       "<style scoped>\n",
       "    .dataframe tbody tr th:only-of-type {\n",
       "        vertical-align: middle;\n",
       "    }\n",
       "\n",
       "    .dataframe tbody tr th {\n",
       "        vertical-align: top;\n",
       "    }\n",
       "\n",
       "    .dataframe thead th {\n",
       "        text-align: right;\n",
       "    }\n",
       "</style>\n",
       "<table border=\"1\" class=\"dataframe\">\n",
       "  <thead>\n",
       "    <tr style=\"text-align: right;\">\n",
       "      <th></th>\n",
       "      <th>label</th>\n",
       "      <th>Content</th>\n",
       "    </tr>\n",
       "  </thead>\n",
       "  <tbody>\n",
       "    <tr>\n",
       "      <th>0</th>\n",
       "      <td>1.0</td>\n",
       "      <td>হঠাৎ আফগান ক্রিকেট বোর্ড প্রধানের পদত্যাগক্রিক...</td>\n",
       "    </tr>\n",
       "    <tr>\n",
       "      <th>1</th>\n",
       "      <td>1.0</td>\n",
       "      <td>টস হেরে বোলিংয়ে বাংলাদেশএশিয়া কাপের ষষ্ঠ ম্যাচ...</td>\n",
       "    </tr>\n",
       "    <tr>\n",
       "      <th>2</th>\n",
       "      <td>1.0</td>\n",
       "      <td>রাজধানীতে বিশেষ অভিযানে আটক ৪৩রাজধানীতে মাদক ব...</td>\n",
       "    </tr>\n",
       "    <tr>\n",
       "      <th>3</th>\n",
       "      <td>1.0</td>\n",
       "      <td>উস্কানি রোধে নজরদারি থাকবে সামাজিক যোগাযোগ মাধ...</td>\n",
       "    </tr>\n",
       "    <tr>\n",
       "      <th>4</th>\n",
       "      <td>1.0</td>\n",
       "      <td>'যেখানে তেল আসত ৭ দিনে, এখন তা আসবে অতি দ্রুত'...</td>\n",
       "    </tr>\n",
       "  </tbody>\n",
       "</table>\n",
       "</div>"
      ],
      "text/plain": [
       "   label                                            Content\n",
       "0    1.0  হঠাৎ আফগান ক্রিকেট বোর্ড প্রধানের পদত্যাগক্রিক...\n",
       "1    1.0  টস হেরে বোলিংয়ে বাংলাদেশএশিয়া কাপের ষষ্ঠ ম্যাচ...\n",
       "2    1.0  রাজধানীতে বিশেষ অভিযানে আটক ৪৩রাজধানীতে মাদক ব...\n",
       "3    1.0  উস্কানি রোধে নজরদারি থাকবে সামাজিক যোগাযোগ মাধ...\n",
       "4    1.0  'যেখানে তেল আসত ৭ দিনে, এখন তা আসবে অতি দ্রুত'..."
      ]
     },
     "execution_count": 22,
     "metadata": {},
     "output_type": "execute_result"
    }
   ],
   "source": [
    "ban_df1.head()"
   ]
  },
  {
   "cell_type": "code",
   "execution_count": 23,
   "id": "5f0bdfb1",
   "metadata": {
    "id": "pbh5vY5bFU6G",
    "papermill": {
     "duration": null,
     "end_time": null,
     "exception": null,
     "start_time": null,
     "status": "pending"
    },
    "tags": []
   },
   "outputs": [],
   "source": [
    "ban_df2=ban_df.drop(['headline','content'],axis='columns')"
   ]
  },
  {
   "cell_type": "code",
   "execution_count": 24,
   "id": "6787237f",
   "metadata": {
    "id": "HFvK0_3iFUzu",
    "papermill": {
     "duration": null,
     "end_time": null,
     "exception": null,
     "start_time": null,
     "status": "pending"
    },
    "tags": []
   },
   "outputs": [],
   "source": [
    "ban_df3=ban_df.drop(['headline','content'],axis='columns')"
   ]
  },
  {
   "cell_type": "code",
   "execution_count": 25,
   "id": "ed0df78f",
   "metadata": {
    "id": "yi9pAh1DFUvf",
    "papermill": {
     "duration": null,
     "end_time": null,
     "exception": null,
     "start_time": null,
     "status": "pending"
    },
    "tags": []
   },
   "outputs": [],
   "source": [
    "ban_df4=ban_df.drop(['headline','content'],axis='columns')"
   ]
  },
  {
   "cell_type": "code",
   "execution_count": 26,
   "id": "9ffadc91",
   "metadata": {
    "id": "qsBvGWT3FeY2",
    "papermill": {
     "duration": null,
     "end_time": null,
     "exception": null,
     "start_time": null,
     "status": "pending"
    },
    "tags": []
   },
   "outputs": [],
   "source": [
    "ban_df5=ban_df.drop(['headline','content'],axis='columns')"
   ]
  },
  {
   "cell_type": "markdown",
   "id": "1d1b15a4",
   "metadata": {
    "id": "W34w6QkaxOfI",
    "papermill": {
     "duration": null,
     "end_time": null,
     "exception": null,
     "start_time": null,
     "status": "pending"
    },
    "tags": []
   },
   "source": [
    "# Creating a function to convert the text in lowercase, remove the extra space, special characeters, url and links"
   ]
  },
  {
   "cell_type": "code",
   "execution_count": 27,
   "id": "7b61353a",
   "metadata": {
    "id": "6sVva4urvw4y",
    "papermill": {
     "duration": null,
     "end_time": null,
     "exception": null,
     "start_time": null,
     "status": "pending"
    },
    "tags": []
   },
   "outputs": [],
   "source": [
    "def wordopt(Content):\n",
    "    Content = Content.lower()\n",
    "    Content = re.sub('\\[.*?\\]','',Content)\n",
    "    # Content = re.sub(\"\\\\W\", \" \", Content)\n",
    "    Content = re.sub('https?://\\S+|wwww\\.\\S+','',Content)\n",
    "    Content = re.sub('<.*?>+', '' ,Content)\n",
    "    Content = re.sub('[%s]' % re.escape(string.punctuation), '', Content)\n",
    "    Content = re.sub('\\n','',Content)\n",
    "    Content = re.sub('\\w*\\d\\w*','',Content)\n",
    "    return Content\n"
   ]
  },
  {
   "cell_type": "code",
   "execution_count": 28,
   "id": "862d9aae",
   "metadata": {
    "id": "OHg-ijb8vw1C",
    "papermill": {
     "duration": null,
     "end_time": null,
     "exception": null,
     "start_time": null,
     "status": "pending"
    },
    "tags": []
   },
   "outputs": [],
   "source": [
    "ban_df1['Content']=ban_df['Content'].apply(wordopt)"
   ]
  },
  {
   "cell_type": "code",
   "execution_count": 29,
   "id": "f574dd83",
   "metadata": {
    "executionInfo": {
     "elapsed": 372,
     "status": "ok",
     "timestamp": 1700819923210,
     "user": {
      "displayName": "Sadia Khatun",
      "userId": "02347170218959633251"
     },
     "user_tz": -360
    },
    "id": "xc4NZTvZvwwM",
    "outputId": "904c21a5-cac5-4452-9f6f-b33e3a931b5b",
    "papermill": {
     "duration": null,
     "end_time": null,
     "exception": null,
     "start_time": null,
     "status": "pending"
    },
    "tags": []
   },
   "outputs": [
    {
     "data": {
      "text/html": [
       "<div>\n",
       "<style scoped>\n",
       "    .dataframe tbody tr th:only-of-type {\n",
       "        vertical-align: middle;\n",
       "    }\n",
       "\n",
       "    .dataframe tbody tr th {\n",
       "        vertical-align: top;\n",
       "    }\n",
       "\n",
       "    .dataframe thead th {\n",
       "        text-align: right;\n",
       "    }\n",
       "</style>\n",
       "<table border=\"1\" class=\"dataframe\">\n",
       "  <thead>\n",
       "    <tr style=\"text-align: right;\">\n",
       "      <th></th>\n",
       "      <th>label</th>\n",
       "      <th>Content</th>\n",
       "    </tr>\n",
       "  </thead>\n",
       "  <tbody>\n",
       "    <tr>\n",
       "      <th>0</th>\n",
       "      <td>1.0</td>\n",
       "      <td>হঠাৎ আফগান ক্রিকেট বোর্ড প্রধানের পদত্যাগক্রিক...</td>\n",
       "    </tr>\n",
       "    <tr>\n",
       "      <th>1</th>\n",
       "      <td>1.0</td>\n",
       "      <td>টস হেরে বোলিংয়ে বাংলাদেশএশিয়া কাপের ষষ্ঠ ম্যাচ...</td>\n",
       "    </tr>\n",
       "    <tr>\n",
       "      <th>2</th>\n",
       "      <td>1.0</td>\n",
       "      <td>রাজধানীতে বিশেষ অভিযানে আটক াজধানীতে মাদক বিরো...</td>\n",
       "    </tr>\n",
       "    <tr>\n",
       "      <th>3</th>\n",
       "      <td>1.0</td>\n",
       "      <td>উস্কানি রোধে নজরদারি থাকবে সামাজিক যোগাযোগ মাধ...</td>\n",
       "    </tr>\n",
       "    <tr>\n",
       "      <th>4</th>\n",
       "      <td>1.0</td>\n",
       "      <td>যেখানে তেল আসত  দিনে এখন তা আসবে অতি দ্রুতভারত...</td>\n",
       "    </tr>\n",
       "    <tr>\n",
       "      <th>...</th>\n",
       "      <td>...</td>\n",
       "      <td>...</td>\n",
       "    </tr>\n",
       "    <tr>\n",
       "      <th>1294</th>\n",
       "      <td>0.0</td>\n",
       "      <td>রাজশাহীতে স্বামীর হাঁচির আওয়াজে ঘুমের মধ্যেই স...</td>\n",
       "    </tr>\n",
       "    <tr>\n",
       "      <th>1295</th>\n",
       "      <td>0.0</td>\n",
       "      <td>ias ইন্টারভিউ এ মেয়েটিকে জিজ্ঞসা করা হল মেয়েদে...</td>\n",
       "    </tr>\n",
       "    <tr>\n",
       "      <th>1296</th>\n",
       "      <td>0.0</td>\n",
       "      <td>শাওমি মোবাইল বিস্ফোরণে কলেজছাত্রের মৃত্যুশাওমি...</td>\n",
       "    </tr>\n",
       "    <tr>\n",
       "      <th>1297</th>\n",
       "      <td>0.0</td>\n",
       "      <td>ফেসবুকে যেভাবে নতুন মন্ত্রীদের অভিনন্দন বার্তা...</td>\n",
       "    </tr>\n",
       "    <tr>\n",
       "      <th>1298</th>\n",
       "      <td>0.0</td>\n",
       "      <td>মাঝ আকাশে পর্ন দেখার অভিযোগে পাইলট আটকবিমান যখ...</td>\n",
       "    </tr>\n",
       "  </tbody>\n",
       "</table>\n",
       "<p>8501 rows × 2 columns</p>\n",
       "</div>"
      ],
      "text/plain": [
       "      label                                            Content\n",
       "0       1.0  হঠাৎ আফগান ক্রিকেট বোর্ড প্রধানের পদত্যাগক্রিক...\n",
       "1       1.0  টস হেরে বোলিংয়ে বাংলাদেশএশিয়া কাপের ষষ্ঠ ম্যাচ...\n",
       "2       1.0  রাজধানীতে বিশেষ অভিযানে আটক াজধানীতে মাদক বিরো...\n",
       "3       1.0  উস্কানি রোধে নজরদারি থাকবে সামাজিক যোগাযোগ মাধ...\n",
       "4       1.0  যেখানে তেল আসত  দিনে এখন তা আসবে অতি দ্রুতভারত...\n",
       "...     ...                                                ...\n",
       "1294    0.0  রাজশাহীতে স্বামীর হাঁচির আওয়াজে ঘুমের মধ্যেই স...\n",
       "1295    0.0  ias ইন্টারভিউ এ মেয়েটিকে জিজ্ঞসা করা হল মেয়েদে...\n",
       "1296    0.0  শাওমি মোবাইল বিস্ফোরণে কলেজছাত্রের মৃত্যুশাওমি...\n",
       "1297    0.0  ফেসবুকে যেভাবে নতুন মন্ত্রীদের অভিনন্দন বার্তা...\n",
       "1298    0.0  মাঝ আকাশে পর্ন দেখার অভিযোগে পাইলট আটকবিমান যখ...\n",
       "\n",
       "[8501 rows x 2 columns]"
      ]
     },
     "execution_count": 29,
     "metadata": {},
     "output_type": "execute_result"
    }
   ],
   "source": [
    "ban_df1"
   ]
  },
  {
   "cell_type": "markdown",
   "id": "daf8d721",
   "metadata": {
    "id": "55j8AQLjKatY",
    "papermill": {
     "duration": null,
     "end_time": null,
     "exception": null,
     "start_time": null,
     "status": "pending"
    },
    "tags": []
   },
   "source": [
    "## Tokenize"
   ]
  },
  {
   "cell_type": "code",
   "execution_count": 30,
   "id": "5627aec2",
   "metadata": {
    "id": "D-hcm5fAK1cL",
    "papermill": {
     "duration": null,
     "end_time": null,
     "exception": null,
     "start_time": null,
     "status": "pending"
    },
    "tags": []
   },
   "outputs": [],
   "source": [
    "def tokenize_bangla(text):\n",
    "    # Define characters to be treated as separators (you can add more if needed)\n",
    "    separators = [' ', ',', '.', '!', '?', '...', '—', '(', ')', '[', ']', '{', '}', ':', ';']\n",
    "\n",
    "    # Initialize variables\n",
    "    current_word = \"\"\n",
    "    tokens = []\n",
    "\n",
    "    # Iterate through each character in the text\n",
    "    for char in text:\n",
    "        # If the character is a separator, add the current word to the tokens list\n",
    "        if char in separators:\n",
    "            if current_word:\n",
    "                tokens.append(current_word)\n",
    "                current_word = \"\"\n",
    "        else:\n",
    "            # Build the current word character by character\n",
    "            current_word += char\n",
    "\n",
    "    # Add the last word if not added yet\n",
    "    if current_word:\n",
    "        tokens.append(current_word)\n",
    "\n",
    "    return tokens"
   ]
  },
  {
   "cell_type": "code",
   "execution_count": 31,
   "id": "73fb8bda",
   "metadata": {
    "id": "mTzyIoZpK-26",
    "papermill": {
     "duration": null,
     "end_time": null,
     "exception": null,
     "start_time": null,
     "status": "pending"
    },
    "tags": []
   },
   "outputs": [],
   "source": [
    " ban_df1['Content']=ban_df1['Content'].apply(tokenize_bangla)"
   ]
  },
  {
   "cell_type": "markdown",
   "id": "6549645b",
   "metadata": {
    "id": "mx6vPNuHK434",
    "papermill": {
     "duration": null,
     "end_time": null,
     "exception": null,
     "start_time": null,
     "status": "pending"
    },
    "tags": []
   },
   "source": [
    "# Stop Word remove"
   ]
  },
  {
   "cell_type": "code",
   "execution_count": 32,
   "id": "351b8fa7",
   "metadata": {
    "id": "j9xKMtS4KhJl",
    "papermill": {
     "duration": null,
     "end_time": null,
     "exception": null,
     "start_time": null,
     "status": "pending"
    },
    "tags": []
   },
   "outputs": [],
   "source": [
    "def remove_stopwords_bangla(text):\n",
    "    stopwords_list = [\"অতএব\", \"অথচ\", \"অথবা\", \"অনুযায়ী\", \"অনেক\", \"অনেকে\",\n",
    "                      \"অনেকেই\", \"অন্তত\", \"অন্য\", \"অবধি\", \"অবশ্য\", \"অর্থাত\", \"আই\",\n",
    "                      \"আগামী\", \"আগে\", \"আগেই\", \"আছে\", \"আজ\", \"আদ্যভাগে\", \"আপনার\",\n",
    "                      \"আপনি\", \"আবার\", \"আমরা\", \"আমাকে\", \"আমাদের\", \"আমার\", \"আমি\", \"আর\",\n",
    "                      \"আরও\", \"ই\", \"ইত্যাদি\", \"ইহা\", \"উচিত\", \"উত্তর\", \"উনি\", \"উপর\", \"উপরে\", \"এ\",\n",
    "                      \"এঁদের\", \"এঁরা\", \"এই\", \"একই\", \"একটি\", \"একবার\", \"একে\", \"এক্\", \"এখন\", \"এখনও\",\n",
    "                      \"এখানে\", \"এখানেই\", \"এটা\", \"এটাই\", \"এটি\", \"এত\", \"এতটাই\", \"এতে\", \"এদের\", \"এব\",\n",
    "                      \"এবং\", \"এবার\", \"এমন\", \"এমনকী\", \"এমনি\", \"এর\", \"এরা\", \"এল\", \"এস\", \"এসে\", \"ঐ\",\n",
    "                      \"ও\", \"ওঁদের\", \"ওঁর\", \"ওঁরা\", \"ওই\", \"ওকে\", \"ওখানে\", \"ওদের\", \"ওর\", \"ওরা\", \"কখনও\", \"কত\", \"কবে\",\n",
    "                      \"কমনে\", \"কয়েক\", \"কয়েকটি\", \"করছে\", \"করছেন\", \"করতে\", \"করবে\", \"করবেন\", \"করলে\", \"করলেন\", \"করা\", \"করাই\",\n",
    "                      \"করায়\", \"করার\", \"করি\", \"করিতে\", \"করিয়া\", \"করিয়ে\", \"করে\", \"করেই\", \"করেছিলেন\", \"করেছে\", \"করেছেন\", \"করেন\", \"কাউকে\",\n",
    "                      \"কাছ\", \"কাছে\", \"কাজ\", \"কাজে\", \"কারও\", \"কারণ\", \"কি\", \"কিংবা\", \"কিছু\", \"কিছুই\", \"কিন্তু\", \"কী\", \"কে\", \"কেউ\", \"কেউই\", \"কেখা\", \"কেন\", \"কোটি\", \"কোন\", \"কোনও\", \"কোনো\",\n",
    "                      \"ক্ষেত্রে\", \"কয়েক\", \"খুব\", \"গিয়ে\", \"গিয়েছে\", \"গিয়ে\", \"গুলি\", \"গেছে\", \"গেল\", \"গেলে\", \"গোটা\", \"চলে\", \"চান\", \"চায়\", \"চার\", \"চালু\", \"চেয়ে\", \"চেষ্টা\", \"ছাড়া\", \"ছাড়াও\", \"ছিল\", \"ছিলেন\", \"জন\", \"জনকে\", \"জনের\", \"জন্য\", \"জন্যওজে\", \"জানতে\", \"জানা\", \"জানানো\", \"জানায়\", \"জানিয়ে\", \"জানিয়েছে\", \"জে\", \"জ্নজন\", \"টি\", \"ঠিক\", \"তখন\", \"তত\",\n",
    "                      \"তথা\", \"তবু\", \"তবে\", \"তা\", \"তাঁকে\", \"তাঁদের\", \"তাঁর\", \"তাঁরা\", \"তাঁাহারা\", \"তাই\", \"তাও\", \"তাকে\", \"তাতে\", \"তাদের\", \"তার\", \"তারপর\", \"তারা\", \"তারৈ\", \"তাহলে\", \"তাহা\", \"তাহাতে\", \"তাহার\", \"তিনঐ\", \"তিনি\", \"তিনিও\", \"তুমি\", \"তুলে\", \"তেমন\", \"তো\",\n",
    "                      \"তোমার\", \"থাকবে\", \"থাকবেন\", \"থাকা\", \"থাকায়\", \"থাকে\", \"থাকেন\", \"থেকে\", \"থেকেই\", \"থেকেও\", \"দিকে\", \"দিতে\", \"দিন\", \"দিয়ে\", \"দিয়েছে\", \"দিয়েছেন\", \"দিলেন\", \"দু\", \"দুই\", \"দুটি\", \"দুটো\", \"দেওয়া\", \"দেওয়ার\", \"দেওয়া\", \"দেখতে\", \"দেখা\", \"দেখে\", \"দেন\", \"দেয়\", \"দ্বারা\", \"ধরা\", \"ধরে\", \"ধামার\", \"নতুন\", \"নয়\", \"না\", \"নাই\", \"নাকি\", \"নাগাদ\", \"নানা\", \"নিজে\", \"নিজেই\",\n",
    "                      \"নিজেদের\", \"নিজের\", \"নিতে\", \"নিয়ে\", \"নিয়ে\", \"নেই\", \"নেওয়া\", \"নেওয়ার\", \"নেওয়া\", \"নয়\", \"পক্ষে\", \"পর\", \"পরে\", \"পরেই\", \"পরেও\", \"পর্যন্ত\", \"পাওয়া\", \"পাচ\", \"পারি\", \"পারে\", \"পারেন\", \"পি\", \"পেয়ে\", \"পেয়্র্\", \"প্রতি\", \"প্রথম\", \"প্রভৃতি\", \"প্রযন্ত\", \"প্রাথমিক\", \"প্রায়\", \"প্রায়\", \"ফলে\", \"ফিরে\", \"ফের\", \"বক্তব্য\", \"বদলে\", \"বন\", \"বরং\", \"বলতে\", \"বলল\", \"বললেন\", \"বলা\", \"বলে\", \"বলেছেন\",\n",
    "                      \"বলেন\", \"বসে\", \"বহু\", \"বা\", \"বাদে\", \"বার\", \"বি\", \"বিনা\", \"বিভিন্ন\", \"বিশেষ\", \"বিষয়টি\", \"বেশ\", \"বেশি\", \"ব্যবহার\", \"ব্যাপারে\", \"ভাবে\", \"ভাবেই\", \"মতো\", \"মতোই\", \"মধ্যভাগে\", \"মধ্যে\", \"মধ্যেই\", \"মধ্যেও\", \"মনে\", \"মাত্র\", \"মাধ্যমে\", \"মোট\", \"মোটেই\", \"যখন\", \"যত\", \"যতটা\", \"যথেষ্ট\", \"যদি\", \"যদিও\", \"যা\", \"যাঁর\", \"যাঁরা\", \"যাওয়া\", \"যাওয়ার\", \"যাওয়া\", \"যাকে\", \"যাচ্ছে\", \"যাতে\", \"যাদের\", \"যান\",\n",
    "                      \"যাবে\", \"যায়\", \"যার\", \"যারা\", \"যিনি\", \"যে\", \"যেখানে\", \"যেতে\", \"যেন\", \"যেমন\", \"র\", \"রকম\", \"রয়েছে\", \"রাখা\", \"রেখে\", \"লক্ষ\", \"শুধু\", \"শুরু\", \"সঙ্গে\", \"সঙ্গেও\", \"সব\", \"সবার\", \"সমস্ত\", \"সম্প্রতি\", \"সহ\", \"সহিত\", \"সাধারণ\", \"সামনে\", \"সি\", \"সুতরাং\", \"সে\", \"সেই\", \"সেখান\", \"সেখানে\", \"সেটা\", \"সেটাই\", \"সেটাও\", \"সেটি\", \"স্পষ্ট\", \"স্বয়ং\", \"হইতে\", \"হইবে\", \"হইয়া\", \"হওয়া\", \"হওয়ায়\", \"হওয়ার\", \"হচ্ছে\", \"হত\", \"হতে\",\n",
    "                      \"হতেই\", \"হন\", \"হবে\", \"হবেন\", \"হয়\", \"হয়তো\", \"হয়নি\", \"হয়ে\", \"হয়েই\", \"হয়েছিল\", \"হয়েছে\", \"হয়েছেন\", \"হল\", \"হলে\", \"হলেই\",\n",
    "                      \"হলেও\", \"হলো\", \"হাজার\", \"হিসাবে\", \"হৈলে\", \"হোক\", \"হয়\"]\n",
    "                      \n",
    "    if isinstance(text, list):  # Check if text is a list\n",
    "        text = ' '.join(text)  # Convert list to string\n",
    "        \n",
    "    words = text.split()  # Tokenize the text into words\n",
    "    \n",
    "    filtered_words = [word for word in words if word not in stopwords_list]  # Remove stopwords\n",
    "    \n",
    "    processed_text = ' '.join(filtered_words)  # Join the filtered words\n",
    "    \n",
    "    return processed_text"
   ]
  },
  {
   "cell_type": "code",
   "execution_count": 33,
   "id": "eb996412",
   "metadata": {
    "id": "U52fO1k26pWt",
    "papermill": {
     "duration": null,
     "end_time": null,
     "exception": null,
     "start_time": null,
     "status": "pending"
    },
    "tags": []
   },
   "outputs": [],
   "source": [
    "ban_df1['Content'] = ban_df1['Content'].apply(remove_stopwords_bangla);"
   ]
  },
  {
   "cell_type": "code",
   "execution_count": 34,
   "id": "272df9cb",
   "metadata": {
    "executionInfo": {
     "elapsed": 9,
     "status": "ok",
     "timestamp": 1700819962328,
     "user": {
      "displayName": "Sadia Khatun",
      "userId": "02347170218959633251"
     },
     "user_tz": -360
    },
    "id": "8XaOF6Z86_62",
    "outputId": "180565b8-e8c6-4cd3-a733-60064d263259",
    "papermill": {
     "duration": null,
     "end_time": null,
     "exception": null,
     "start_time": null,
     "status": "pending"
    },
    "tags": []
   },
   "outputs": [
    {
     "data": {
      "text/plain": [
       "0       হঠাৎ আফগান ক্রিকেট বোর্ড প্রধানের পদত্যাগক্রিক...\n",
       "1       টস হেরে বোলিংয়ে বাংলাদেশএশিয়া কাপের ষষ্ঠ ম্যাচ...\n",
       "2       রাজধানীতে অভিযানে আটক াজধানীতে মাদক বিরোধী অভি...\n",
       "3       উস্কানি রোধে নজরদারি সামাজিক যোগাযোগ মাধ্যমেসন...\n",
       "4       তেল আসত দিনে আসবে অতি দ্রুতভারত পাইপ লাইনের সর...\n",
       "                              ...                        \n",
       "1294    রাজশাহীতে স্বামীর হাঁচির আওয়াজে ঘুমের স্ত্রী হ...\n",
       "1295    ias ইন্টারভিউ মেয়েটিকে জিজ্ঞসা মেয়েদের অঙ্গ বে...\n",
       "1296    শাওমি মোবাইল বিস্ফোরণে কলেজছাত্রের মৃত্যুশাওমি...\n",
       "1297    ফেসবুকে যেভাবে মন্ত্রীদের অভিনন্দন বার্তা জানা...\n",
       "1298    মাঝ আকাশে পর্ন দেখার অভিযোগে পাইলট আটকবিমান আক...\n",
       "Name: Content, Length: 8501, dtype: object"
      ]
     },
     "execution_count": 34,
     "metadata": {},
     "output_type": "execute_result"
    }
   ],
   "source": [
    "ban_df1['Content']"
   ]
  },
  {
   "cell_type": "code",
   "execution_count": 35,
   "id": "825e7526",
   "metadata": {
    "executionInfo": {
     "elapsed": 649,
     "status": "ok",
     "timestamp": 1700819977124,
     "user": {
      "displayName": "Sadia Khatun",
      "userId": "02347170218959633251"
     },
     "user_tz": -360
    },
    "id": "7PMYTQjOvwmz",
    "outputId": "6ee6e6a2-1d5e-4532-83ce-43130b618779",
    "papermill": {
     "duration": null,
     "end_time": null,
     "exception": null,
     "start_time": null,
     "status": "pending"
    },
    "tags": []
   },
   "outputs": [
    {
     "data": {
      "text/html": [
       "<div>\n",
       "<style scoped>\n",
       "    .dataframe tbody tr th:only-of-type {\n",
       "        vertical-align: middle;\n",
       "    }\n",
       "\n",
       "    .dataframe tbody tr th {\n",
       "        vertical-align: top;\n",
       "    }\n",
       "\n",
       "    .dataframe thead th {\n",
       "        text-align: right;\n",
       "    }\n",
       "</style>\n",
       "<table border=\"1\" class=\"dataframe\">\n",
       "  <thead>\n",
       "    <tr style=\"text-align: right;\">\n",
       "      <th></th>\n",
       "      <th>label</th>\n",
       "      <th>Content</th>\n",
       "    </tr>\n",
       "  </thead>\n",
       "  <tbody>\n",
       "    <tr>\n",
       "      <th>0</th>\n",
       "      <td>1.0</td>\n",
       "      <td>হঠাৎ আফগান ক্রিকেট বোর্ড প্রধানের পদত্যাগক্রিক...</td>\n",
       "    </tr>\n",
       "    <tr>\n",
       "      <th>1</th>\n",
       "      <td>1.0</td>\n",
       "      <td>টস হেরে বোলিংয়ে বাংলাদেশএশিয়া কাপের ষষ্ঠ ম্যাচ...</td>\n",
       "    </tr>\n",
       "    <tr>\n",
       "      <th>2</th>\n",
       "      <td>1.0</td>\n",
       "      <td>রাজধানীতে অভিযানে আটক াজধানীতে মাদক বিরোধী অভি...</td>\n",
       "    </tr>\n",
       "    <tr>\n",
       "      <th>3</th>\n",
       "      <td>1.0</td>\n",
       "      <td>উস্কানি রোধে নজরদারি সামাজিক যোগাযোগ মাধ্যমেসন...</td>\n",
       "    </tr>\n",
       "    <tr>\n",
       "      <th>4</th>\n",
       "      <td>1.0</td>\n",
       "      <td>তেল আসত দিনে আসবে অতি দ্রুতভারত পাইপ লাইনের সর...</td>\n",
       "    </tr>\n",
       "    <tr>\n",
       "      <th>...</th>\n",
       "      <td>...</td>\n",
       "      <td>...</td>\n",
       "    </tr>\n",
       "    <tr>\n",
       "      <th>1294</th>\n",
       "      <td>0.0</td>\n",
       "      <td>রাজশাহীতে স্বামীর হাঁচির আওয়াজে ঘুমের স্ত্রী হ...</td>\n",
       "    </tr>\n",
       "    <tr>\n",
       "      <th>1295</th>\n",
       "      <td>0.0</td>\n",
       "      <td>ias ইন্টারভিউ মেয়েটিকে জিজ্ঞসা মেয়েদের অঙ্গ বে...</td>\n",
       "    </tr>\n",
       "    <tr>\n",
       "      <th>1296</th>\n",
       "      <td>0.0</td>\n",
       "      <td>শাওমি মোবাইল বিস্ফোরণে কলেজছাত্রের মৃত্যুশাওমি...</td>\n",
       "    </tr>\n",
       "    <tr>\n",
       "      <th>1297</th>\n",
       "      <td>0.0</td>\n",
       "      <td>ফেসবুকে যেভাবে মন্ত্রীদের অভিনন্দন বার্তা জানা...</td>\n",
       "    </tr>\n",
       "    <tr>\n",
       "      <th>1298</th>\n",
       "      <td>0.0</td>\n",
       "      <td>মাঝ আকাশে পর্ন দেখার অভিযোগে পাইলট আটকবিমান আক...</td>\n",
       "    </tr>\n",
       "  </tbody>\n",
       "</table>\n",
       "<p>8501 rows × 2 columns</p>\n",
       "</div>"
      ],
      "text/plain": [
       "      label                                            Content\n",
       "0       1.0  হঠাৎ আফগান ক্রিকেট বোর্ড প্রধানের পদত্যাগক্রিক...\n",
       "1       1.0  টস হেরে বোলিংয়ে বাংলাদেশএশিয়া কাপের ষষ্ঠ ম্যাচ...\n",
       "2       1.0  রাজধানীতে অভিযানে আটক াজধানীতে মাদক বিরোধী অভি...\n",
       "3       1.0  উস্কানি রোধে নজরদারি সামাজিক যোগাযোগ মাধ্যমেসন...\n",
       "4       1.0  তেল আসত দিনে আসবে অতি দ্রুতভারত পাইপ লাইনের সর...\n",
       "...     ...                                                ...\n",
       "1294    0.0  রাজশাহীতে স্বামীর হাঁচির আওয়াজে ঘুমের স্ত্রী হ...\n",
       "1295    0.0  ias ইন্টারভিউ মেয়েটিকে জিজ্ঞসা মেয়েদের অঙ্গ বে...\n",
       "1296    0.0  শাওমি মোবাইল বিস্ফোরণে কলেজছাত্রের মৃত্যুশাওমি...\n",
       "1297    0.0  ফেসবুকে যেভাবে মন্ত্রীদের অভিনন্দন বার্তা জানা...\n",
       "1298    0.0  মাঝ আকাশে পর্ন দেখার অভিযোগে পাইলট আটকবিমান আক...\n",
       "\n",
       "[8501 rows x 2 columns]"
      ]
     },
     "execution_count": 35,
     "metadata": {},
     "output_type": "execute_result"
    }
   ],
   "source": [
    "ban_df1"
   ]
  },
  {
   "cell_type": "code",
   "execution_count": 36,
   "id": "9e5a6b3c",
   "metadata": {
    "executionInfo": {
     "elapsed": 8635,
     "status": "ok",
     "timestamp": 1700822357835,
     "user": {
      "displayName": "Sadia Khatun",
      "userId": "02347170218959633251"
     },
     "user_tz": -360
    },
    "id": "J1yIUOHK45D6",
    "outputId": "5163456e-0d73-4af6-9fae-a5dc7a44fe02",
    "papermill": {
     "duration": null,
     "end_time": null,
     "exception": null,
     "start_time": null,
     "status": "pending"
    },
    "tags": []
   },
   "outputs": [
    {
     "name": "stdout",
     "output_type": "stream",
     "text": [
      "Defaulting to user installation because normal site-packages is not writeable\n",
      "Requirement already satisfied: bangla-stemmer in c:\\users\\bishw\\appdata\\roaming\\python\\python311\\site-packages (1.0)\n"
     ]
    }
   ],
   "source": [
    "#turn on internet option in kernel\n",
    "!pip install bangla-stemmer\n",
    "from bangla_stemmer.stemmer import stemmer\n",
    "\n",
    "def Stemming(text):\n",
    "\n",
    "    x=str(text)\n",
    "    l=x.split()\n",
    "\n",
    "    stmr = stemmer.BanglaStemmer()\n",
    "    stm = stmr.stem(l)\n",
    "\n",
    "    out=' '.join(stm)\n",
    "\n",
    "    return out"
   ]
  },
  {
   "cell_type": "code",
   "execution_count": 37,
   "id": "8cee01e1",
   "metadata": {
    "id": "WFayJrmd5-LY",
    "papermill": {
     "duration": null,
     "end_time": null,
     "exception": null,
     "start_time": null,
     "status": "pending"
    },
    "tags": []
   },
   "outputs": [],
   "source": [
    "# ban_df1['Content'] = ban_df1['Content'].apply(Stemming);"
   ]
  },
  {
   "cell_type": "code",
   "execution_count": 38,
   "id": "93d8936c",
   "metadata": {
    "executionInfo": {
     "elapsed": 456,
     "status": "ok",
     "timestamp": 1700823346025,
     "user": {
      "displayName": "Sadia Khatun",
      "userId": "02347170218959633251"
     },
     "user_tz": -360
    },
    "id": "VbOS8L2H-EIp",
    "outputId": "7f4364fd-438d-4ecd-c9da-aaa1d81cb1bc",
    "papermill": {
     "duration": null,
     "end_time": null,
     "exception": null,
     "start_time": null,
     "status": "pending"
    },
    "tags": []
   },
   "outputs": [
    {
     "data": {
      "text/html": [
       "<div>\n",
       "<style scoped>\n",
       "    .dataframe tbody tr th:only-of-type {\n",
       "        vertical-align: middle;\n",
       "    }\n",
       "\n",
       "    .dataframe tbody tr th {\n",
       "        vertical-align: top;\n",
       "    }\n",
       "\n",
       "    .dataframe thead th {\n",
       "        text-align: right;\n",
       "    }\n",
       "</style>\n",
       "<table border=\"1\" class=\"dataframe\">\n",
       "  <thead>\n",
       "    <tr style=\"text-align: right;\">\n",
       "      <th></th>\n",
       "      <th>label</th>\n",
       "      <th>Content</th>\n",
       "    </tr>\n",
       "  </thead>\n",
       "  <tbody>\n",
       "    <tr>\n",
       "      <th>0</th>\n",
       "      <td>1.0</td>\n",
       "      <td>হঠাৎ আফগান ক্রিকেট বোর্ড প্রধানের পদত্যাগক্রিক...</td>\n",
       "    </tr>\n",
       "    <tr>\n",
       "      <th>1</th>\n",
       "      <td>1.0</td>\n",
       "      <td>টস হেরে বোলিংয়ে বাংলাদেশএশিয়া কাপের ষষ্ঠ ম্যাচ...</td>\n",
       "    </tr>\n",
       "    <tr>\n",
       "      <th>2</th>\n",
       "      <td>1.0</td>\n",
       "      <td>রাজধানীতে অভিযানে আটক াজধানীতে মাদক বিরোধী অভি...</td>\n",
       "    </tr>\n",
       "    <tr>\n",
       "      <th>3</th>\n",
       "      <td>1.0</td>\n",
       "      <td>উস্কানি রোধে নজরদারি সামাজিক যোগাযোগ মাধ্যমেসন...</td>\n",
       "    </tr>\n",
       "    <tr>\n",
       "      <th>4</th>\n",
       "      <td>1.0</td>\n",
       "      <td>তেল আসত দিনে আসবে অতি দ্রুতভারত পাইপ লাইনের সর...</td>\n",
       "    </tr>\n",
       "    <tr>\n",
       "      <th>...</th>\n",
       "      <td>...</td>\n",
       "      <td>...</td>\n",
       "    </tr>\n",
       "    <tr>\n",
       "      <th>1294</th>\n",
       "      <td>0.0</td>\n",
       "      <td>রাজশাহীতে স্বামীর হাঁচির আওয়াজে ঘুমের স্ত্রী হ...</td>\n",
       "    </tr>\n",
       "    <tr>\n",
       "      <th>1295</th>\n",
       "      <td>0.0</td>\n",
       "      <td>ias ইন্টারভিউ মেয়েটিকে জিজ্ঞসা মেয়েদের অঙ্গ বে...</td>\n",
       "    </tr>\n",
       "    <tr>\n",
       "      <th>1296</th>\n",
       "      <td>0.0</td>\n",
       "      <td>শাওমি মোবাইল বিস্ফোরণে কলেজছাত্রের মৃত্যুশাওমি...</td>\n",
       "    </tr>\n",
       "    <tr>\n",
       "      <th>1297</th>\n",
       "      <td>0.0</td>\n",
       "      <td>ফেসবুকে যেভাবে মন্ত্রীদের অভিনন্দন বার্তা জানা...</td>\n",
       "    </tr>\n",
       "    <tr>\n",
       "      <th>1298</th>\n",
       "      <td>0.0</td>\n",
       "      <td>মাঝ আকাশে পর্ন দেখার অভিযোগে পাইলট আটকবিমান আক...</td>\n",
       "    </tr>\n",
       "  </tbody>\n",
       "</table>\n",
       "<p>8501 rows × 2 columns</p>\n",
       "</div>"
      ],
      "text/plain": [
       "      label                                            Content\n",
       "0       1.0  হঠাৎ আফগান ক্রিকেট বোর্ড প্রধানের পদত্যাগক্রিক...\n",
       "1       1.0  টস হেরে বোলিংয়ে বাংলাদেশএশিয়া কাপের ষষ্ঠ ম্যাচ...\n",
       "2       1.0  রাজধানীতে অভিযানে আটক াজধানীতে মাদক বিরোধী অভি...\n",
       "3       1.0  উস্কানি রোধে নজরদারি সামাজিক যোগাযোগ মাধ্যমেসন...\n",
       "4       1.0  তেল আসত দিনে আসবে অতি দ্রুতভারত পাইপ লাইনের সর...\n",
       "...     ...                                                ...\n",
       "1294    0.0  রাজশাহীতে স্বামীর হাঁচির আওয়াজে ঘুমের স্ত্রী হ...\n",
       "1295    0.0  ias ইন্টারভিউ মেয়েটিকে জিজ্ঞসা মেয়েদের অঙ্গ বে...\n",
       "1296    0.0  শাওমি মোবাইল বিস্ফোরণে কলেজছাত্রের মৃত্যুশাওমি...\n",
       "1297    0.0  ফেসবুকে যেভাবে মন্ত্রীদের অভিনন্দন বার্তা জানা...\n",
       "1298    0.0  মাঝ আকাশে পর্ন দেখার অভিযোগে পাইলট আটকবিমান আক...\n",
       "\n",
       "[8501 rows x 2 columns]"
      ]
     },
     "execution_count": 38,
     "metadata": {},
     "output_type": "execute_result"
    }
   ],
   "source": [
    "ban_df1"
   ]
  },
  {
   "cell_type": "markdown",
   "id": "7e80d9ec",
   "metadata": {
    "id": "IvOSE3YeOElY",
    "papermill": {
     "duration": null,
     "end_time": null,
     "exception": null,
     "start_time": null,
     "status": "pending"
    },
    "tags": []
   },
   "source": [
    "# create X , y"
   ]
  },
  {
   "cell_type": "code",
   "execution_count": 39,
   "id": "f480c6f9",
   "metadata": {
    "id": "6q5k6Qw3Nw0F",
    "papermill": {
     "duration": null,
     "end_time": null,
     "exception": null,
     "start_time": null,
     "status": "pending"
    },
    "tags": []
   },
   "outputs": [],
   "source": [
    "X= ban_df1['Content']\n",
    "y=ban_df1['label']"
   ]
  },
  {
   "cell_type": "code",
   "execution_count": null,
   "id": "2039d65a",
   "metadata": {
    "id": "wyvnWppG6EN-",
    "papermill": {
     "duration": null,
     "end_time": null,
     "exception": null,
     "start_time": null,
     "status": "pending"
    },
    "tags": []
   },
   "outputs": [],
   "source": [
    "\n"
   ]
  },
  {
   "cell_type": "markdown",
   "id": "1fc9806e",
   "metadata": {
    "id": "zMGVPr2ZOrLL",
    "papermill": {
     "duration": null,
     "end_time": null,
     "exception": null,
     "start_time": null,
     "status": "pending"
    },
    "tags": []
   },
   "source": [
    "# Feature extraction"
   ]
  },
  {
   "cell_type": "markdown",
   "id": "cc3760be",
   "metadata": {
    "id": "MNHAWKW0Q2HR",
    "papermill": {
     "duration": null,
     "end_time": null,
     "exception": null,
     "start_time": null,
     "status": "pending"
    },
    "tags": []
   },
   "source": [
    "## train"
   ]
  },
  {
   "cell_type": "code",
   "execution_count": 40,
   "id": "2256e9c2",
   "metadata": {
    "id": "pv7r-1BnOqtY",
    "papermill": {
     "duration": null,
     "end_time": null,
     "exception": null,
     "start_time": null,
     "status": "pending"
    },
    "tags": []
   },
   "outputs": [],
   "source": [
    "from sklearn.feature_extraction.text import TfidfVectorizer"
   ]
  },
  {
   "cell_type": "code",
   "execution_count": 41,
   "id": "7e6ca9a3",
   "metadata": {
    "id": "7F3wwTRDPlkT",
    "papermill": {
     "duration": null,
     "end_time": null,
     "exception": null,
     "start_time": null,
     "status": "pending"
    },
    "tags": []
   },
   "outputs": [],
   "source": [
    "Tf_Idf = TfidfVectorizer()\n",
    "X=Tf_Idf.fit_transform(X)"
   ]
  },
  {
   "cell_type": "code",
   "execution_count": 42,
   "id": "0e064cd5",
   "metadata": {
    "executionInfo": {
     "elapsed": 430,
     "status": "ok",
     "timestamp": 1700823543623,
     "user": {
      "displayName": "Sadia Khatun",
      "userId": "02347170218959633251"
     },
     "user_tz": -360
    },
    "id": "djEMBZRBRKEM",
    "outputId": "300ee768-105a-4fda-da63-9156e39cfb36",
    "papermill": {
     "duration": null,
     "end_time": null,
     "exception": null,
     "start_time": null,
     "status": "pending"
    },
    "tags": []
   },
   "outputs": [
    {
     "data": {
      "text/plain": [
       "(8501, 12850)"
      ]
     },
     "execution_count": 42,
     "metadata": {},
     "output_type": "execute_result"
    }
   ],
   "source": [
    "X.shape"
   ]
  },
  {
   "cell_type": "markdown",
   "id": "cf9c1974",
   "metadata": {
    "id": "2rNqkv0_xdGA",
    "papermill": {
     "duration": null,
     "end_time": null,
     "exception": null,
     "start_time": null,
     "status": "pending"
    },
    "tags": []
   },
   "source": [
    "# train test split"
   ]
  },
  {
   "cell_type": "code",
   "execution_count": 43,
   "id": "b4571628",
   "metadata": {
    "id": "K63J4CUexcuc",
    "papermill": {
     "duration": null,
     "end_time": null,
     "exception": null,
     "start_time": null,
     "status": "pending"
    },
    "tags": []
   },
   "outputs": [],
   "source": [
    "from sklearn.model_selection import train_test_split\n",
    "\n",
    "X_train,X_test, y_train,y_test = train_test_split(X,y,test_size=0.2, random_state=121, stratify=y)"
   ]
  },
  {
   "cell_type": "markdown",
   "id": "25842c92",
   "metadata": {
    "id": "l_tDF0LFRfRn",
    "papermill": {
     "duration": null,
     "end_time": null,
     "exception": null,
     "start_time": null,
     "status": "pending"
    },
    "tags": []
   },
   "source": [
    "# Logistic Regression"
   ]
  },
  {
   "cell_type": "code",
   "execution_count": 44,
   "id": "b7464726",
   "metadata": {
    "executionInfo": {
     "elapsed": 1118,
     "status": "ok",
     "timestamp": 1700829150340,
     "user": {
      "displayName": "Sadia Khatun",
      "userId": "02347170218959633251"
     },
     "user_tz": -360
    },
    "id": "vHNf4IqZRbj5",
    "outputId": "9398921a-4518-426c-e038-2a8f2dc7e8c5",
    "papermill": {
     "duration": null,
     "end_time": null,
     "exception": null,
     "start_time": null,
     "status": "pending"
    },
    "tags": []
   },
   "outputs": [
    {
     "data": {
      "text/html": [
       "<style>#sk-container-id-1 {color: black;}#sk-container-id-1 pre{padding: 0;}#sk-container-id-1 div.sk-toggleable {background-color: white;}#sk-container-id-1 label.sk-toggleable__label {cursor: pointer;display: block;width: 100%;margin-bottom: 0;padding: 0.3em;box-sizing: border-box;text-align: center;}#sk-container-id-1 label.sk-toggleable__label-arrow:before {content: \"▸\";float: left;margin-right: 0.25em;color: #696969;}#sk-container-id-1 label.sk-toggleable__label-arrow:hover:before {color: black;}#sk-container-id-1 div.sk-estimator:hover label.sk-toggleable__label-arrow:before {color: black;}#sk-container-id-1 div.sk-toggleable__content {max-height: 0;max-width: 0;overflow: hidden;text-align: left;background-color: #f0f8ff;}#sk-container-id-1 div.sk-toggleable__content pre {margin: 0.2em;color: black;border-radius: 0.25em;background-color: #f0f8ff;}#sk-container-id-1 input.sk-toggleable__control:checked~div.sk-toggleable__content {max-height: 200px;max-width: 100%;overflow: auto;}#sk-container-id-1 input.sk-toggleable__control:checked~label.sk-toggleable__label-arrow:before {content: \"▾\";}#sk-container-id-1 div.sk-estimator input.sk-toggleable__control:checked~label.sk-toggleable__label {background-color: #d4ebff;}#sk-container-id-1 div.sk-label input.sk-toggleable__control:checked~label.sk-toggleable__label {background-color: #d4ebff;}#sk-container-id-1 input.sk-hidden--visually {border: 0;clip: rect(1px 1px 1px 1px);clip: rect(1px, 1px, 1px, 1px);height: 1px;margin: -1px;overflow: hidden;padding: 0;position: absolute;width: 1px;}#sk-container-id-1 div.sk-estimator {font-family: monospace;background-color: #f0f8ff;border: 1px dotted black;border-radius: 0.25em;box-sizing: border-box;margin-bottom: 0.5em;}#sk-container-id-1 div.sk-estimator:hover {background-color: #d4ebff;}#sk-container-id-1 div.sk-parallel-item::after {content: \"\";width: 100%;border-bottom: 1px solid gray;flex-grow: 1;}#sk-container-id-1 div.sk-label:hover label.sk-toggleable__label {background-color: #d4ebff;}#sk-container-id-1 div.sk-serial::before {content: \"\";position: absolute;border-left: 1px solid gray;box-sizing: border-box;top: 0;bottom: 0;left: 50%;z-index: 0;}#sk-container-id-1 div.sk-serial {display: flex;flex-direction: column;align-items: center;background-color: white;padding-right: 0.2em;padding-left: 0.2em;position: relative;}#sk-container-id-1 div.sk-item {position: relative;z-index: 1;}#sk-container-id-1 div.sk-parallel {display: flex;align-items: stretch;justify-content: center;background-color: white;position: relative;}#sk-container-id-1 div.sk-item::before, #sk-container-id-1 div.sk-parallel-item::before {content: \"\";position: absolute;border-left: 1px solid gray;box-sizing: border-box;top: 0;bottom: 0;left: 50%;z-index: -1;}#sk-container-id-1 div.sk-parallel-item {display: flex;flex-direction: column;z-index: 1;position: relative;background-color: white;}#sk-container-id-1 div.sk-parallel-item:first-child::after {align-self: flex-end;width: 50%;}#sk-container-id-1 div.sk-parallel-item:last-child::after {align-self: flex-start;width: 50%;}#sk-container-id-1 div.sk-parallel-item:only-child::after {width: 0;}#sk-container-id-1 div.sk-dashed-wrapped {border: 1px dashed gray;margin: 0 0.4em 0.5em 0.4em;box-sizing: border-box;padding-bottom: 0.4em;background-color: white;}#sk-container-id-1 div.sk-label label {font-family: monospace;font-weight: bold;display: inline-block;line-height: 1.2em;}#sk-container-id-1 div.sk-label-container {text-align: center;}#sk-container-id-1 div.sk-container {/* jupyter's `normalize.less` sets `[hidden] { display: none; }` but bootstrap.min.css set `[hidden] { display: none !important; }` so we also need the `!important` here to be able to override the default hidden behavior on the sphinx rendered scikit-learn.org. See: https://github.com/scikit-learn/scikit-learn/issues/21755 */display: inline-block !important;position: relative;}#sk-container-id-1 div.sk-text-repr-fallback {display: none;}</style><div id=\"sk-container-id-1\" class=\"sk-top-container\"><div class=\"sk-text-repr-fallback\"><pre>LogisticRegression()</pre><b>In a Jupyter environment, please rerun this cell to show the HTML representation or trust the notebook. <br />On GitHub, the HTML representation is unable to render, please try loading this page with nbviewer.org.</b></div><div class=\"sk-container\" hidden><div class=\"sk-item\"><div class=\"sk-estimator sk-toggleable\"><input class=\"sk-toggleable__control sk-hidden--visually\" id=\"sk-estimator-id-1\" type=\"checkbox\" checked><label for=\"sk-estimator-id-1\" class=\"sk-toggleable__label sk-toggleable__label-arrow\">LogisticRegression</label><div class=\"sk-toggleable__content\"><pre>LogisticRegression()</pre></div></div></div></div></div>"
      ],
      "text/plain": [
       "LogisticRegression()"
      ]
     },
     "execution_count": 44,
     "metadata": {},
     "output_type": "execute_result"
    }
   ],
   "source": [
    "LR=LogisticRegression()\n",
    "LR.fit(X_train,y_train)"
   ]
  },
  {
   "cell_type": "code",
   "execution_count": 45,
   "id": "fd649d61",
   "metadata": {
    "executionInfo": {
     "elapsed": 447,
     "status": "ok",
     "timestamp": 1700829163562,
     "user": {
      "displayName": "Sadia Khatun",
      "userId": "02347170218959633251"
     },
     "user_tz": -360
    },
    "id": "RLSnZhxfXeAm",
    "outputId": "2da5906f-8093-49d8-afa2-bc536854125a",
    "papermill": {
     "duration": null,
     "end_time": null,
     "exception": null,
     "start_time": null,
     "status": "pending"
    },
    "tags": []
   },
   "outputs": [
    {
     "name": "stdout",
     "output_type": "stream",
     "text": [
      "Test Accuracy: 0.9223985890652557\n",
      "Classification Report:\n",
      "              precision    recall  f1-score   support\n",
      "\n",
      "         0.0       0.93      0.53      0.68       260\n",
      "         1.0       0.92      0.99      0.96      1441\n",
      "\n",
      "    accuracy                           0.92      1701\n",
      "   macro avg       0.92      0.76      0.82      1701\n",
      "weighted avg       0.92      0.92      0.91      1701\n",
      "\n"
     ]
    }
   ],
   "source": [
    "y_pred_test1 = LR.predict(X_test)\n",
    "print(\"Test Accuracy:\", accuracy_score(y_test, y_pred_test1))\n",
    "print(\"Classification Report:\")\n",
    "print(classification_report(y_test, y_pred_test1))"
   ]
  },
  {
   "cell_type": "code",
   "execution_count": 46,
   "id": "14a896a1",
   "metadata": {
    "executionInfo": {
     "elapsed": 416,
     "status": "ok",
     "timestamp": 1700829175746,
     "user": {
      "displayName": "Sadia Khatun",
      "userId": "02347170218959633251"
     },
     "user_tz": -360
    },
    "id": "Dx1wqPIpKL-s",
    "outputId": "197253bf-b220-4e08-a0e8-13673180fd5f",
    "papermill": {
     "duration": null,
     "end_time": null,
     "exception": null,
     "start_time": null,
     "status": "pending"
    },
    "tags": []
   },
   "outputs": [
    {
     "name": "stdout",
     "output_type": "stream",
     "text": [
      "0.9219858156028369\n",
      "0.9923664122137404\n",
      "0.9558823529411765\n"
     ]
    }
   ],
   "source": [
    "precision_score_LR=precision_score(y_test,y_pred_test1)\n",
    "recall_score_LR=recall_score(y_test,y_pred_test1)\n",
    "f1_score_LR=f1_score(y_test,y_pred_test1)\n",
    "\n",
    "print(precision_score_LR)\n",
    "print(recall_score_LR)\n",
    "print(f1_score_LR)"
   ]
  },
  {
   "cell_type": "code",
   "execution_count": 47,
   "id": "25e418c0",
   "metadata": {
    "executionInfo": {
     "elapsed": 406,
     "status": "ok",
     "timestamp": 1700829227999,
     "user": {
      "displayName": "Sadia Khatun",
      "userId": "02347170218959633251"
     },
     "user_tz": -360
    },
    "id": "AVbA10qyP24o",
    "outputId": "1547d6fe-d58f-4209-a615-40e803702ccd",
    "papermill": {
     "duration": null,
     "end_time": null,
     "exception": null,
     "start_time": null,
     "status": "pending"
    },
    "tags": []
   },
   "outputs": [
    {
     "data": {
      "text/plain": [
       "(array([0.        , 0.46538462, 1.        ]),\n",
       " array([0.        , 0.99236641, 1.        ]),\n",
       " array([inf,  1.,  0.]))"
      ]
     },
     "execution_count": 47,
     "metadata": {},
     "output_type": "execute_result"
    }
   ],
   "source": [
    "fpr_lr,tpr_lr,th_lr=roc_curve(y_test,y_pred_test1)\n",
    "fpr_lr,tpr_lr,th_lr"
   ]
  },
  {
   "cell_type": "markdown",
   "id": "8b222bce",
   "metadata": {
    "id": "xP2jQ0N2QYdH",
    "papermill": {
     "duration": null,
     "end_time": null,
     "exception": null,
     "start_time": null,
     "status": "pending"
    },
    "tags": []
   },
   "source": [
    "plot roc_curve"
   ]
  },
  {
   "cell_type": "markdown",
   "id": "e7144b7f",
   "metadata": {
    "id": "5bBz-uxChE-y",
    "papermill": {
     "duration": null,
     "end_time": null,
     "exception": null,
     "start_time": null,
     "status": "pending"
    },
    "tags": []
   },
   "source": [
    "#Random Forest"
   ]
  },
  {
   "cell_type": "code",
   "execution_count": 48,
   "id": "8c05d0dd",
   "metadata": {
    "executionInfo": {
     "elapsed": 10020,
     "status": "ok",
     "timestamp": 1700829934559,
     "user": {
      "displayName": "Sadia Khatun",
      "userId": "02347170218959633251"
     },
     "user_tz": -360
    },
    "id": "N9PLfUByhBjk",
    "outputId": "bf34137b-35d5-4026-9b76-ecd38f96ff65",
    "papermill": {
     "duration": null,
     "end_time": null,
     "exception": null,
     "start_time": null,
     "status": "pending"
    },
    "tags": []
   },
   "outputs": [
    {
     "data": {
      "text/html": [
       "<style>#sk-container-id-2 {color: black;}#sk-container-id-2 pre{padding: 0;}#sk-container-id-2 div.sk-toggleable {background-color: white;}#sk-container-id-2 label.sk-toggleable__label {cursor: pointer;display: block;width: 100%;margin-bottom: 0;padding: 0.3em;box-sizing: border-box;text-align: center;}#sk-container-id-2 label.sk-toggleable__label-arrow:before {content: \"▸\";float: left;margin-right: 0.25em;color: #696969;}#sk-container-id-2 label.sk-toggleable__label-arrow:hover:before {color: black;}#sk-container-id-2 div.sk-estimator:hover label.sk-toggleable__label-arrow:before {color: black;}#sk-container-id-2 div.sk-toggleable__content {max-height: 0;max-width: 0;overflow: hidden;text-align: left;background-color: #f0f8ff;}#sk-container-id-2 div.sk-toggleable__content pre {margin: 0.2em;color: black;border-radius: 0.25em;background-color: #f0f8ff;}#sk-container-id-2 input.sk-toggleable__control:checked~div.sk-toggleable__content {max-height: 200px;max-width: 100%;overflow: auto;}#sk-container-id-2 input.sk-toggleable__control:checked~label.sk-toggleable__label-arrow:before {content: \"▾\";}#sk-container-id-2 div.sk-estimator input.sk-toggleable__control:checked~label.sk-toggleable__label {background-color: #d4ebff;}#sk-container-id-2 div.sk-label input.sk-toggleable__control:checked~label.sk-toggleable__label {background-color: #d4ebff;}#sk-container-id-2 input.sk-hidden--visually {border: 0;clip: rect(1px 1px 1px 1px);clip: rect(1px, 1px, 1px, 1px);height: 1px;margin: -1px;overflow: hidden;padding: 0;position: absolute;width: 1px;}#sk-container-id-2 div.sk-estimator {font-family: monospace;background-color: #f0f8ff;border: 1px dotted black;border-radius: 0.25em;box-sizing: border-box;margin-bottom: 0.5em;}#sk-container-id-2 div.sk-estimator:hover {background-color: #d4ebff;}#sk-container-id-2 div.sk-parallel-item::after {content: \"\";width: 100%;border-bottom: 1px solid gray;flex-grow: 1;}#sk-container-id-2 div.sk-label:hover label.sk-toggleable__label {background-color: #d4ebff;}#sk-container-id-2 div.sk-serial::before {content: \"\";position: absolute;border-left: 1px solid gray;box-sizing: border-box;top: 0;bottom: 0;left: 50%;z-index: 0;}#sk-container-id-2 div.sk-serial {display: flex;flex-direction: column;align-items: center;background-color: white;padding-right: 0.2em;padding-left: 0.2em;position: relative;}#sk-container-id-2 div.sk-item {position: relative;z-index: 1;}#sk-container-id-2 div.sk-parallel {display: flex;align-items: stretch;justify-content: center;background-color: white;position: relative;}#sk-container-id-2 div.sk-item::before, #sk-container-id-2 div.sk-parallel-item::before {content: \"\";position: absolute;border-left: 1px solid gray;box-sizing: border-box;top: 0;bottom: 0;left: 50%;z-index: -1;}#sk-container-id-2 div.sk-parallel-item {display: flex;flex-direction: column;z-index: 1;position: relative;background-color: white;}#sk-container-id-2 div.sk-parallel-item:first-child::after {align-self: flex-end;width: 50%;}#sk-container-id-2 div.sk-parallel-item:last-child::after {align-self: flex-start;width: 50%;}#sk-container-id-2 div.sk-parallel-item:only-child::after {width: 0;}#sk-container-id-2 div.sk-dashed-wrapped {border: 1px dashed gray;margin: 0 0.4em 0.5em 0.4em;box-sizing: border-box;padding-bottom: 0.4em;background-color: white;}#sk-container-id-2 div.sk-label label {font-family: monospace;font-weight: bold;display: inline-block;line-height: 1.2em;}#sk-container-id-2 div.sk-label-container {text-align: center;}#sk-container-id-2 div.sk-container {/* jupyter's `normalize.less` sets `[hidden] { display: none; }` but bootstrap.min.css set `[hidden] { display: none !important; }` so we also need the `!important` here to be able to override the default hidden behavior on the sphinx rendered scikit-learn.org. See: https://github.com/scikit-learn/scikit-learn/issues/21755 */display: inline-block !important;position: relative;}#sk-container-id-2 div.sk-text-repr-fallback {display: none;}</style><div id=\"sk-container-id-2\" class=\"sk-top-container\"><div class=\"sk-text-repr-fallback\"><pre>RandomForestClassifier(random_state=0)</pre><b>In a Jupyter environment, please rerun this cell to show the HTML representation or trust the notebook. <br />On GitHub, the HTML representation is unable to render, please try loading this page with nbviewer.org.</b></div><div class=\"sk-container\" hidden><div class=\"sk-item\"><div class=\"sk-estimator sk-toggleable\"><input class=\"sk-toggleable__control sk-hidden--visually\" id=\"sk-estimator-id-2\" type=\"checkbox\" checked><label for=\"sk-estimator-id-2\" class=\"sk-toggleable__label sk-toggleable__label-arrow\">RandomForestClassifier</label><div class=\"sk-toggleable__content\"><pre>RandomForestClassifier(random_state=0)</pre></div></div></div></div></div>"
      ],
      "text/plain": [
       "RandomForestClassifier(random_state=0)"
      ]
     },
     "execution_count": 48,
     "metadata": {},
     "output_type": "execute_result"
    }
   ],
   "source": [
    "Rando = RandomForestClassifier(n_estimators=100,random_state=0)\n",
    "Rando.fit(X_train,y_train)"
   ]
  },
  {
   "cell_type": "code",
   "execution_count": 49,
   "id": "37b2405a",
   "metadata": {
    "executionInfo": {
     "elapsed": 542,
     "status": "ok",
     "timestamp": 1700830016238,
     "user": {
      "displayName": "Sadia Khatun",
      "userId": "02347170218959633251"
     },
     "user_tz": -360
    },
    "id": "5yq-lH3ShIVs",
    "outputId": "e31d18f2-34b2-429a-c969-a0b50a140e6e",
    "papermill": {
     "duration": null,
     "end_time": null,
     "exception": null,
     "start_time": null,
     "status": "pending"
    },
    "tags": []
   },
   "outputs": [
    {
     "name": "stdout",
     "output_type": "stream",
     "text": [
      "Training Accuracy: 0.9206349206349206\n",
      "Classification Report:\n",
      "              precision    recall  f1-score   support\n",
      "\n",
      "         0.0       0.99      0.48      0.65       260\n",
      "         1.0       0.91      1.00      0.96      1441\n",
      "\n",
      "    accuracy                           0.92      1701\n",
      "   macro avg       0.95      0.74      0.80      1701\n",
      "weighted avg       0.93      0.92      0.91      1701\n",
      "\n"
     ]
    }
   ],
   "source": [
    "y_pred_test2 = Rando.predict(X_test)\n",
    "print(\"Training Accuracy:\", accuracy_score(y_test, y_pred_test2))\n",
    "\n",
    "print(\"Classification Report:\")\n",
    "print(classification_report(y_test, y_pred_test2))"
   ]
  },
  {
   "cell_type": "code",
   "execution_count": 50,
   "id": "0ed94fa1",
   "metadata": {
    "executionInfo": {
     "elapsed": 4,
     "status": "ok",
     "timestamp": 1700830020101,
     "user": {
      "displayName": "Sadia Khatun",
      "userId": "02347170218959633251"
     },
     "user_tz": -360
    },
    "id": "QtK6P8jAU3wN",
    "outputId": "26b27786-ef3a-4bff-f4f9-66a4943f0a88",
    "papermill": {
     "duration": null,
     "end_time": null,
     "exception": null,
     "start_time": null,
     "status": "pending"
    },
    "tags": []
   },
   "outputs": [
    {
     "name": "stdout",
     "output_type": "stream",
     "text": [
      "0.9148665819567979\n",
      "0.9993060374739764\n",
      "0.9552238805970148\n"
     ]
    }
   ],
   "source": [
    "precision_score_Rf=precision_score(y_test,y_pred_test2)\n",
    "recall_score_Rf=recall_score(y_test,y_pred_test2)\n",
    "f1_score_Rf=f1_score(y_test,y_pred_test2)\n",
    "\n",
    "print(precision_score_Rf)\n",
    "print(recall_score_Rf)\n",
    "print(f1_score_Rf)"
   ]
  },
  {
   "cell_type": "code",
   "execution_count": 51,
   "id": "fa15f154",
   "metadata": {
    "executionInfo": {
     "elapsed": 2196,
     "status": "ok",
     "timestamp": 1700830030791,
     "user": {
      "displayName": "Sadia Khatun",
      "userId": "02347170218959633251"
     },
     "user_tz": -360
    },
    "id": "GAElMUYIU69x",
    "outputId": "da72352c-addc-43c9-f2d7-78d0e32daf6a",
    "papermill": {
     "duration": null,
     "end_time": null,
     "exception": null,
     "start_time": null,
     "status": "pending"
    },
    "tags": []
   },
   "outputs": [
    {
     "data": {
      "text/plain": [
       "(array([0.        , 0.51538462, 1.        ]),\n",
       " array([0.        , 0.99930604, 1.        ]),\n",
       " array([inf,  1.,  0.]))"
      ]
     },
     "execution_count": 51,
     "metadata": {},
     "output_type": "execute_result"
    }
   ],
   "source": [
    "fpr_rf,tpr_rf,th_rf=roc_curve(y_test,y_pred_test2)\n",
    "fpr_rf,tpr_rf,th_rf"
   ]
  },
  {
   "cell_type": "markdown",
   "id": "dab0cade",
   "metadata": {
    "id": "k8YOEFkf_1tI",
    "papermill": {
     "duration": null,
     "end_time": null,
     "exception": null,
     "start_time": null,
     "status": "pending"
    },
    "tags": []
   },
   "source": [
    "# Support vector machine"
   ]
  },
  {
   "cell_type": "code",
   "execution_count": 52,
   "id": "ff4e0286",
   "metadata": {
    "executionInfo": {
     "elapsed": 30182,
     "status": "ok",
     "timestamp": 1700830336630,
     "user": {
      "displayName": "Sadia Khatun",
      "userId": "02347170218959633251"
     },
     "user_tz": -360
    },
    "id": "iLkzu8oEhZPf",
    "outputId": "cce4f069-9067-4de1-c58e-f948afbbdbb0",
    "papermill": {
     "duration": null,
     "end_time": null,
     "exception": null,
     "start_time": null,
     "status": "pending"
    },
    "tags": []
   },
   "outputs": [
    {
     "data": {
      "text/html": [
       "<style>#sk-container-id-3 {color: black;}#sk-container-id-3 pre{padding: 0;}#sk-container-id-3 div.sk-toggleable {background-color: white;}#sk-container-id-3 label.sk-toggleable__label {cursor: pointer;display: block;width: 100%;margin-bottom: 0;padding: 0.3em;box-sizing: border-box;text-align: center;}#sk-container-id-3 label.sk-toggleable__label-arrow:before {content: \"▸\";float: left;margin-right: 0.25em;color: #696969;}#sk-container-id-3 label.sk-toggleable__label-arrow:hover:before {color: black;}#sk-container-id-3 div.sk-estimator:hover label.sk-toggleable__label-arrow:before {color: black;}#sk-container-id-3 div.sk-toggleable__content {max-height: 0;max-width: 0;overflow: hidden;text-align: left;background-color: #f0f8ff;}#sk-container-id-3 div.sk-toggleable__content pre {margin: 0.2em;color: black;border-radius: 0.25em;background-color: #f0f8ff;}#sk-container-id-3 input.sk-toggleable__control:checked~div.sk-toggleable__content {max-height: 200px;max-width: 100%;overflow: auto;}#sk-container-id-3 input.sk-toggleable__control:checked~label.sk-toggleable__label-arrow:before {content: \"▾\";}#sk-container-id-3 div.sk-estimator input.sk-toggleable__control:checked~label.sk-toggleable__label {background-color: #d4ebff;}#sk-container-id-3 div.sk-label input.sk-toggleable__control:checked~label.sk-toggleable__label {background-color: #d4ebff;}#sk-container-id-3 input.sk-hidden--visually {border: 0;clip: rect(1px 1px 1px 1px);clip: rect(1px, 1px, 1px, 1px);height: 1px;margin: -1px;overflow: hidden;padding: 0;position: absolute;width: 1px;}#sk-container-id-3 div.sk-estimator {font-family: monospace;background-color: #f0f8ff;border: 1px dotted black;border-radius: 0.25em;box-sizing: border-box;margin-bottom: 0.5em;}#sk-container-id-3 div.sk-estimator:hover {background-color: #d4ebff;}#sk-container-id-3 div.sk-parallel-item::after {content: \"\";width: 100%;border-bottom: 1px solid gray;flex-grow: 1;}#sk-container-id-3 div.sk-label:hover label.sk-toggleable__label {background-color: #d4ebff;}#sk-container-id-3 div.sk-serial::before {content: \"\";position: absolute;border-left: 1px solid gray;box-sizing: border-box;top: 0;bottom: 0;left: 50%;z-index: 0;}#sk-container-id-3 div.sk-serial {display: flex;flex-direction: column;align-items: center;background-color: white;padding-right: 0.2em;padding-left: 0.2em;position: relative;}#sk-container-id-3 div.sk-item {position: relative;z-index: 1;}#sk-container-id-3 div.sk-parallel {display: flex;align-items: stretch;justify-content: center;background-color: white;position: relative;}#sk-container-id-3 div.sk-item::before, #sk-container-id-3 div.sk-parallel-item::before {content: \"\";position: absolute;border-left: 1px solid gray;box-sizing: border-box;top: 0;bottom: 0;left: 50%;z-index: -1;}#sk-container-id-3 div.sk-parallel-item {display: flex;flex-direction: column;z-index: 1;position: relative;background-color: white;}#sk-container-id-3 div.sk-parallel-item:first-child::after {align-self: flex-end;width: 50%;}#sk-container-id-3 div.sk-parallel-item:last-child::after {align-self: flex-start;width: 50%;}#sk-container-id-3 div.sk-parallel-item:only-child::after {width: 0;}#sk-container-id-3 div.sk-dashed-wrapped {border: 1px dashed gray;margin: 0 0.4em 0.5em 0.4em;box-sizing: border-box;padding-bottom: 0.4em;background-color: white;}#sk-container-id-3 div.sk-label label {font-family: monospace;font-weight: bold;display: inline-block;line-height: 1.2em;}#sk-container-id-3 div.sk-label-container {text-align: center;}#sk-container-id-3 div.sk-container {/* jupyter's `normalize.less` sets `[hidden] { display: none; }` but bootstrap.min.css set `[hidden] { display: none !important; }` so we also need the `!important` here to be able to override the default hidden behavior on the sphinx rendered scikit-learn.org. See: https://github.com/scikit-learn/scikit-learn/issues/21755 */display: inline-block !important;position: relative;}#sk-container-id-3 div.sk-text-repr-fallback {display: none;}</style><div id=\"sk-container-id-3\" class=\"sk-top-container\"><div class=\"sk-text-repr-fallback\"><pre>SVC()</pre><b>In a Jupyter environment, please rerun this cell to show the HTML representation or trust the notebook. <br />On GitHub, the HTML representation is unable to render, please try loading this page with nbviewer.org.</b></div><div class=\"sk-container\" hidden><div class=\"sk-item\"><div class=\"sk-estimator sk-toggleable\"><input class=\"sk-toggleable__control sk-hidden--visually\" id=\"sk-estimator-id-3\" type=\"checkbox\" checked><label for=\"sk-estimator-id-3\" class=\"sk-toggleable__label sk-toggleable__label-arrow\">SVC</label><div class=\"sk-toggleable__content\"><pre>SVC()</pre></div></div></div></div></div>"
      ],
      "text/plain": [
       "SVC()"
      ]
     },
     "execution_count": 52,
     "metadata": {},
     "output_type": "execute_result"
    }
   ],
   "source": [
    "from sklearn.svm import SVC\n",
    "\n",
    "\n",
    "svm_clf=SVC()\n",
    "svm_clf.fit(X_train,y_train)\n"
   ]
  },
  {
   "cell_type": "code",
   "execution_count": 53,
   "id": "11984fa3",
   "metadata": {
    "executionInfo": {
     "elapsed": 6023,
     "status": "ok",
     "timestamp": 1700830360363,
     "user": {
      "displayName": "Sadia Khatun",
      "userId": "02347170218959633251"
     },
     "user_tz": -360
    },
    "id": "LDlPzzXc_kXo",
    "outputId": "b7388084-20f9-48d3-fed2-19b8570b4a88",
    "papermill": {
     "duration": null,
     "end_time": null,
     "exception": null,
     "start_time": null,
     "status": "pending"
    },
    "tags": []
   },
   "outputs": [
    {
     "name": "stdout",
     "output_type": "stream",
     "text": [
      "Test Accuracy: 0.9447383891828336\n",
      "Classification Report:\n",
      "              precision    recall  f1-score   support\n",
      "\n",
      "         0.0       0.94      0.68      0.79       260\n",
      "         1.0       0.95      0.99      0.97      1441\n",
      "\n",
      "    accuracy                           0.94      1701\n",
      "   macro avg       0.94      0.84      0.88      1701\n",
      "weighted avg       0.94      0.94      0.94      1701\n",
      "\n"
     ]
    }
   ],
   "source": [
    "y_pred_test3 = svm_clf.predict(X_test)\n",
    "print(\"Test Accuracy:\", accuracy_score(y_test, y_pred_test3))\n",
    "print(\"Classification Report:\")\n",
    "print(classification_report(y_test, y_pred_test3))"
   ]
  },
  {
   "cell_type": "code",
   "execution_count": 54,
   "id": "fc6f3de6",
   "metadata": {
    "executionInfo": {
     "elapsed": 8,
     "status": "ok",
     "timestamp": 1700830363372,
     "user": {
      "displayName": "Sadia Khatun",
      "userId": "02347170218959633251"
     },
     "user_tz": -360
    },
    "id": "ch6cbSVwXWj4",
    "outputId": "bb610f1e-729d-44b4-daed-5285d432bba3",
    "papermill": {
     "duration": null,
     "end_time": null,
     "exception": null,
     "start_time": null,
     "status": "pending"
    },
    "tags": []
   },
   "outputs": [
    {
     "name": "stdout",
     "output_type": "stream",
     "text": [
      "0.9457313037723362\n",
      "0.9916724496877168\n",
      "0.9681571815718157\n"
     ]
    },
    {
     "data": {
      "text/plain": [
       "(array([0.        , 0.31538462, 1.        ]),\n",
       " array([0.        , 0.99167245, 1.        ]),\n",
       " array([inf,  1.,  0.]))"
      ]
     },
     "execution_count": 54,
     "metadata": {},
     "output_type": "execute_result"
    }
   ],
   "source": [
    "precision_score_sv=precision_score(y_test,y_pred_test3)\n",
    "recall_score_sv=recall_score(y_test,y_pred_test3)\n",
    "f1_score_sv=f1_score(y_test,y_pred_test3)\n",
    "\n",
    "print(precision_score_sv)\n",
    "print(recall_score_sv)\n",
    "print(f1_score_sv)\n",
    "\n",
    "fpr_sv,tpr_sv,th_sv=roc_curve(y_test,y_pred_test3)\n",
    "fpr_sv,tpr_sv,th_sv"
   ]
  },
  {
   "cell_type": "markdown",
   "id": "a0bf4ffb",
   "metadata": {
    "id": "KgQGQEv__7WS",
    "papermill": {
     "duration": null,
     "end_time": null,
     "exception": null,
     "start_time": null,
     "status": "pending"
    },
    "tags": []
   },
   "source": [
    "# decision Tree"
   ]
  },
  {
   "cell_type": "code",
   "execution_count": 55,
   "id": "df5f9c49",
   "metadata": {
    "executionInfo": {
     "elapsed": 6604,
     "status": "ok",
     "timestamp": 1700830557704,
     "user": {
      "displayName": "Sadia Khatun",
      "userId": "02347170218959633251"
     },
     "user_tz": -360
    },
    "id": "-aRDOYzO_1Im",
    "outputId": "c83eb6f0-9ba2-43bd-92f7-d96394526dfd",
    "papermill": {
     "duration": null,
     "end_time": null,
     "exception": null,
     "start_time": null,
     "status": "pending"
    },
    "tags": []
   },
   "outputs": [
    {
     "name": "stdout",
     "output_type": "stream",
     "text": [
      "Test  Accuracy: 0.908289241622575\n",
      "Classification Report:\n",
      "              precision    recall  f1-score   support\n",
      "\n",
      "         0.0       0.72      0.65      0.68       260\n",
      "         1.0       0.94      0.96      0.95      1441\n",
      "\n",
      "    accuracy                           0.91      1701\n",
      "   macro avg       0.83      0.80      0.81      1701\n",
      "weighted avg       0.90      0.91      0.91      1701\n",
      "\n"
     ]
    }
   ],
   "source": [
    "dt = DecisionTreeClassifier()\n",
    "dt.fit(X_train, y_train)\n",
    "\n",
    "y_pred_test4 = dt.predict(X_test)\n",
    "print(\"Test  Accuracy:\", accuracy_score(y_test, y_pred_test4))\n",
    "print(\"Classification Report:\")\n",
    "print(classification_report(y_test, y_pred_test4))"
   ]
  },
  {
   "cell_type": "code",
   "execution_count": 56,
   "id": "ceae53b1",
   "metadata": {
    "executionInfo": {
     "elapsed": 445,
     "status": "ok",
     "timestamp": 1700830564508,
     "user": {
      "displayName": "Sadia Khatun",
      "userId": "02347170218959633251"
     },
     "user_tz": -360
    },
    "id": "FEPHbUuPYVW9",
    "outputId": "77a4f43e-4c51-47e3-bdf3-e82aeb062334",
    "papermill": {
     "duration": null,
     "end_time": null,
     "exception": null,
     "start_time": null,
     "status": "pending"
    },
    "tags": []
   },
   "outputs": [
    {
     "name": "stdout",
     "output_type": "stream",
     "text": [
      "0.9373723621511232\n",
      "0.9555863983344899\n",
      "0.9463917525773196\n"
     ]
    },
    {
     "data": {
      "text/plain": [
       "(array([0.        , 0.35384615, 1.        ]),\n",
       " array([0.       , 0.9555864, 1.       ]),\n",
       " array([inf,  1.,  0.]))"
      ]
     },
     "execution_count": 56,
     "metadata": {},
     "output_type": "execute_result"
    }
   ],
   "source": [
    "precision_score_dt=precision_score(y_test,y_pred_test4)\n",
    "recall_score_dt=recall_score(y_test,y_pred_test4)\n",
    "f1_score_dt=f1_score(y_test,y_pred_test4)\n",
    "\n",
    "print(precision_score_dt)\n",
    "print(recall_score_dt)\n",
    "print(f1_score_dt)\n",
    "\n",
    "fpr_dt,tpr_dt,th_dt=roc_curve(y_test,y_pred_test4)\n",
    "fpr_dt,tpr_dt,th_dt"
   ]
  },
  {
   "cell_type": "markdown",
   "id": "03c81414",
   "metadata": {
    "id": "DhdWZa-rALhb",
    "papermill": {
     "duration": null,
     "end_time": null,
     "exception": null,
     "start_time": null,
     "status": "pending"
    },
    "tags": []
   },
   "source": [
    "## AdaBoostingClassifiers"
   ]
  },
  {
   "cell_type": "code",
   "execution_count": 57,
   "id": "a2b127b4",
   "metadata": {
    "executionInfo": {
     "elapsed": 11328,
     "status": "ok",
     "timestamp": 1700823945832,
     "user": {
      "displayName": "Sadia Khatun",
      "userId": "02347170218959633251"
     },
     "user_tz": -360
    },
    "id": "j8kmh3LTAPn7",
    "outputId": "9527a7f5-7c3e-42b6-dac5-8bb9696e4a2e",
    "papermill": {
     "duration": null,
     "end_time": null,
     "exception": null,
     "start_time": null,
     "status": "pending"
    },
    "tags": []
   },
   "outputs": [
    {
     "data": {
      "text/html": [
       "<style>#sk-container-id-4 {color: black;}#sk-container-id-4 pre{padding: 0;}#sk-container-id-4 div.sk-toggleable {background-color: white;}#sk-container-id-4 label.sk-toggleable__label {cursor: pointer;display: block;width: 100%;margin-bottom: 0;padding: 0.3em;box-sizing: border-box;text-align: center;}#sk-container-id-4 label.sk-toggleable__label-arrow:before {content: \"▸\";float: left;margin-right: 0.25em;color: #696969;}#sk-container-id-4 label.sk-toggleable__label-arrow:hover:before {color: black;}#sk-container-id-4 div.sk-estimator:hover label.sk-toggleable__label-arrow:before {color: black;}#sk-container-id-4 div.sk-toggleable__content {max-height: 0;max-width: 0;overflow: hidden;text-align: left;background-color: #f0f8ff;}#sk-container-id-4 div.sk-toggleable__content pre {margin: 0.2em;color: black;border-radius: 0.25em;background-color: #f0f8ff;}#sk-container-id-4 input.sk-toggleable__control:checked~div.sk-toggleable__content {max-height: 200px;max-width: 100%;overflow: auto;}#sk-container-id-4 input.sk-toggleable__control:checked~label.sk-toggleable__label-arrow:before {content: \"▾\";}#sk-container-id-4 div.sk-estimator input.sk-toggleable__control:checked~label.sk-toggleable__label {background-color: #d4ebff;}#sk-container-id-4 div.sk-label input.sk-toggleable__control:checked~label.sk-toggleable__label {background-color: #d4ebff;}#sk-container-id-4 input.sk-hidden--visually {border: 0;clip: rect(1px 1px 1px 1px);clip: rect(1px, 1px, 1px, 1px);height: 1px;margin: -1px;overflow: hidden;padding: 0;position: absolute;width: 1px;}#sk-container-id-4 div.sk-estimator {font-family: monospace;background-color: #f0f8ff;border: 1px dotted black;border-radius: 0.25em;box-sizing: border-box;margin-bottom: 0.5em;}#sk-container-id-4 div.sk-estimator:hover {background-color: #d4ebff;}#sk-container-id-4 div.sk-parallel-item::after {content: \"\";width: 100%;border-bottom: 1px solid gray;flex-grow: 1;}#sk-container-id-4 div.sk-label:hover label.sk-toggleable__label {background-color: #d4ebff;}#sk-container-id-4 div.sk-serial::before {content: \"\";position: absolute;border-left: 1px solid gray;box-sizing: border-box;top: 0;bottom: 0;left: 50%;z-index: 0;}#sk-container-id-4 div.sk-serial {display: flex;flex-direction: column;align-items: center;background-color: white;padding-right: 0.2em;padding-left: 0.2em;position: relative;}#sk-container-id-4 div.sk-item {position: relative;z-index: 1;}#sk-container-id-4 div.sk-parallel {display: flex;align-items: stretch;justify-content: center;background-color: white;position: relative;}#sk-container-id-4 div.sk-item::before, #sk-container-id-4 div.sk-parallel-item::before {content: \"\";position: absolute;border-left: 1px solid gray;box-sizing: border-box;top: 0;bottom: 0;left: 50%;z-index: -1;}#sk-container-id-4 div.sk-parallel-item {display: flex;flex-direction: column;z-index: 1;position: relative;background-color: white;}#sk-container-id-4 div.sk-parallel-item:first-child::after {align-self: flex-end;width: 50%;}#sk-container-id-4 div.sk-parallel-item:last-child::after {align-self: flex-start;width: 50%;}#sk-container-id-4 div.sk-parallel-item:only-child::after {width: 0;}#sk-container-id-4 div.sk-dashed-wrapped {border: 1px dashed gray;margin: 0 0.4em 0.5em 0.4em;box-sizing: border-box;padding-bottom: 0.4em;background-color: white;}#sk-container-id-4 div.sk-label label {font-family: monospace;font-weight: bold;display: inline-block;line-height: 1.2em;}#sk-container-id-4 div.sk-label-container {text-align: center;}#sk-container-id-4 div.sk-container {/* jupyter's `normalize.less` sets `[hidden] { display: none; }` but bootstrap.min.css set `[hidden] { display: none !important; }` so we also need the `!important` here to be able to override the default hidden behavior on the sphinx rendered scikit-learn.org. See: https://github.com/scikit-learn/scikit-learn/issues/21755 */display: inline-block !important;position: relative;}#sk-container-id-4 div.sk-text-repr-fallback {display: none;}</style><div id=\"sk-container-id-4\" class=\"sk-top-container\"><div class=\"sk-text-repr-fallback\"><pre>AdaBoostClassifier(estimator=DecisionTreeClassifier(max_depth=10),\n",
       "                   n_estimators=5, random_state=1)</pre><b>In a Jupyter environment, please rerun this cell to show the HTML representation or trust the notebook. <br />On GitHub, the HTML representation is unable to render, please try loading this page with nbviewer.org.</b></div><div class=\"sk-container\" hidden><div class=\"sk-item sk-dashed-wrapped\"><div class=\"sk-label-container\"><div class=\"sk-label sk-toggleable\"><input class=\"sk-toggleable__control sk-hidden--visually\" id=\"sk-estimator-id-4\" type=\"checkbox\" ><label for=\"sk-estimator-id-4\" class=\"sk-toggleable__label sk-toggleable__label-arrow\">AdaBoostClassifier</label><div class=\"sk-toggleable__content\"><pre>AdaBoostClassifier(estimator=DecisionTreeClassifier(max_depth=10),\n",
       "                   n_estimators=5, random_state=1)</pre></div></div></div><div class=\"sk-parallel\"><div class=\"sk-parallel-item\"><div class=\"sk-item\"><div class=\"sk-label-container\"><div class=\"sk-label sk-toggleable\"><input class=\"sk-toggleable__control sk-hidden--visually\" id=\"sk-estimator-id-5\" type=\"checkbox\" ><label for=\"sk-estimator-id-5\" class=\"sk-toggleable__label sk-toggleable__label-arrow\">estimator: DecisionTreeClassifier</label><div class=\"sk-toggleable__content\"><pre>DecisionTreeClassifier(max_depth=10)</pre></div></div></div><div class=\"sk-serial\"><div class=\"sk-item\"><div class=\"sk-estimator sk-toggleable\"><input class=\"sk-toggleable__control sk-hidden--visually\" id=\"sk-estimator-id-6\" type=\"checkbox\" ><label for=\"sk-estimator-id-6\" class=\"sk-toggleable__label sk-toggleable__label-arrow\">DecisionTreeClassifier</label><div class=\"sk-toggleable__content\"><pre>DecisionTreeClassifier(max_depth=10)</pre></div></div></div></div></div></div></div></div></div></div>"
      ],
      "text/plain": [
       "AdaBoostClassifier(estimator=DecisionTreeClassifier(max_depth=10),\n",
       "                   n_estimators=5, random_state=1)"
      ]
     },
     "execution_count": 57,
     "metadata": {},
     "output_type": "execute_result"
    }
   ],
   "source": [
    "Adab = AdaBoostClassifier(DecisionTreeClassifier(max_depth=10),n_estimators=5,random_state=1)\n",
    "Adab.fit(X_train, y_train)"
   ]
  },
  {
   "cell_type": "code",
   "execution_count": 58,
   "id": "1b4e2db6",
   "metadata": {
    "executionInfo": {
     "elapsed": 416,
     "status": "ok",
     "timestamp": 1700823968481,
     "user": {
      "displayName": "Sadia Khatun",
      "userId": "02347170218959633251"
     },
     "user_tz": -360
    },
    "id": "Xt2fpUW0AQCQ",
    "outputId": "f2957116-1af1-47f1-b095-32226f04faf5",
    "papermill": {
     "duration": null,
     "end_time": null,
     "exception": null,
     "start_time": null,
     "status": "pending"
    },
    "tags": []
   },
   "outputs": [
    {
     "name": "stdout",
     "output_type": "stream",
     "text": [
      "testing Accuracy: 0.8835978835978836\n",
      "Classification Report:\n",
      "              precision    recall  f1-score   support\n",
      "\n",
      "         0.0       0.64      0.55      0.59       260\n",
      "         1.0       0.92      0.94      0.93      1441\n",
      "\n",
      "    accuracy                           0.88      1701\n",
      "   macro avg       0.78      0.75      0.76      1701\n",
      "weighted avg       0.88      0.88      0.88      1701\n",
      "\n"
     ]
    }
   ],
   "source": [
    "y_pred_test = Adab.predict(X_test)\n",
    "print(\"testing Accuracy:\", accuracy_score(y_test, y_pred_test))\n",
    "print(\"Classification Report:\")\n",
    "print(classification_report(y_test, y_pred_test))"
   ]
  },
  {
   "cell_type": "code",
   "execution_count": null,
   "id": "3387e2ff-209b-425a-875b-6653b5d8299b",
   "metadata": {},
   "outputs": [],
   "source": []
  },
  {
   "cell_type": "code",
   "execution_count": 60,
   "id": "4d08329a-e033-403a-bff4-a50caaa9705f",
   "metadata": {},
   "outputs": [
    {
     "ename": "FileNotFoundError",
     "evalue": "[WinError 3] The system cannot find the path specified: 'train_dir'",
     "output_type": "error",
     "traceback": [
      "\u001b[1;31m---------------------------------------------------------------------------\u001b[0m",
      "\u001b[1;31mFileNotFoundError\u001b[0m                         Traceback (most recent call last)",
      "Cell \u001b[1;32mIn[60], line 8\u001b[0m\n\u001b[0;32m      5\u001b[0m test_datagen \u001b[38;5;241m=\u001b[39m ImageDataGenerator(rescale\u001b[38;5;241m=\u001b[39m\u001b[38;5;241m1.\u001b[39m\u001b[38;5;241m/\u001b[39m\u001b[38;5;241m255\u001b[39m)\n\u001b[0;32m      7\u001b[0m \u001b[38;5;66;03m# Flow training images in batches of 32 using train_datagen generator\u001b[39;00m\n\u001b[1;32m----> 8\u001b[0m train_generator \u001b[38;5;241m=\u001b[39m \u001b[43mtrain_datagen\u001b[49m\u001b[38;5;241;43m.\u001b[39;49m\u001b[43mflow_from_directory\u001b[49m\u001b[43m(\u001b[49m\n\u001b[0;32m      9\u001b[0m \u001b[43m        \u001b[49m\u001b[38;5;124;43m'\u001b[39;49m\u001b[38;5;124;43mtrain_dir\u001b[39;49m\u001b[38;5;124;43m'\u001b[39;49m\u001b[43m,\u001b[49m\u001b[43m  \u001b[49m\u001b[38;5;66;43;03m# Directory with your training images\u001b[39;49;00m\n\u001b[0;32m     10\u001b[0m \u001b[43m        \u001b[49m\u001b[43mtarget_size\u001b[49m\u001b[38;5;241;43m=\u001b[39;49m\u001b[43m(\u001b[49m\u001b[43mheight\u001b[49m\u001b[43m,\u001b[49m\u001b[43m \u001b[49m\u001b[43mwidth\u001b[49m\u001b[43m)\u001b[49m\u001b[43m,\u001b[49m\n\u001b[0;32m     11\u001b[0m \u001b[43m        \u001b[49m\u001b[43mbatch_size\u001b[49m\u001b[38;5;241;43m=\u001b[39;49m\u001b[38;5;241;43m32\u001b[39;49m\u001b[43m,\u001b[49m\n\u001b[0;32m     12\u001b[0m \u001b[43m        \u001b[49m\u001b[43mclass_mode\u001b[49m\u001b[38;5;241;43m=\u001b[39;49m\u001b[38;5;124;43m'\u001b[39;49m\u001b[38;5;124;43mbinary\u001b[39;49m\u001b[38;5;124;43m'\u001b[39;49m\u001b[43m)\u001b[49m\n\u001b[0;32m     14\u001b[0m \u001b[38;5;66;03m# Flow validation images in batches of 32 using test_datagen generator\u001b[39;00m\n\u001b[0;32m     15\u001b[0m validation_generator \u001b[38;5;241m=\u001b[39m test_datagen\u001b[38;5;241m.\u001b[39mflow_from_directory(\n\u001b[0;32m     16\u001b[0m         \u001b[38;5;124m'\u001b[39m\u001b[38;5;124mvalidation_dir\u001b[39m\u001b[38;5;124m'\u001b[39m,  \u001b[38;5;66;03m# Directory with your validation images\u001b[39;00m\n\u001b[0;32m     17\u001b[0m         target_size\u001b[38;5;241m=\u001b[39m(height, width),\n\u001b[0;32m     18\u001b[0m         batch_size\u001b[38;5;241m=\u001b[39m\u001b[38;5;241m32\u001b[39m,\n\u001b[0;32m     19\u001b[0m         class_mode\u001b[38;5;241m=\u001b[39m\u001b[38;5;124m'\u001b[39m\u001b[38;5;124mbinary\u001b[39m\u001b[38;5;124m'\u001b[39m)\n",
      "File \u001b[1;32m~\\AppData\\Roaming\\Python\\Python311\\site-packages\\keras\\src\\preprocessing\\image.py:1649\u001b[0m, in \u001b[0;36mImageDataGenerator.flow_from_directory\u001b[1;34m(self, directory, target_size, color_mode, classes, class_mode, batch_size, shuffle, seed, save_to_dir, save_prefix, save_format, follow_links, subset, interpolation, keep_aspect_ratio)\u001b[0m\n\u001b[0;32m   1562\u001b[0m \u001b[38;5;28;01mdef\u001b[39;00m \u001b[38;5;21mflow_from_directory\u001b[39m(\n\u001b[0;32m   1563\u001b[0m     \u001b[38;5;28mself\u001b[39m,\n\u001b[0;32m   1564\u001b[0m     directory,\n\u001b[1;32m   (...)\u001b[0m\n\u001b[0;32m   1578\u001b[0m     keep_aspect_ratio\u001b[38;5;241m=\u001b[39m\u001b[38;5;28;01mFalse\u001b[39;00m,\n\u001b[0;32m   1579\u001b[0m ):\n\u001b[0;32m   1580\u001b[0m \u001b[38;5;250m    \u001b[39m\u001b[38;5;124;03m\"\"\"Takes the path to a directory & generates batches of augmented data.\u001b[39;00m\n\u001b[0;32m   1581\u001b[0m \n\u001b[0;32m   1582\u001b[0m \u001b[38;5;124;03m    Args:\u001b[39;00m\n\u001b[1;32m   (...)\u001b[0m\n\u001b[0;32m   1647\u001b[0m \u001b[38;5;124;03m        and `y` is a numpy array of corresponding labels.\u001b[39;00m\n\u001b[0;32m   1648\u001b[0m \u001b[38;5;124;03m    \"\"\"\u001b[39;00m\n\u001b[1;32m-> 1649\u001b[0m     \u001b[38;5;28;01mreturn\u001b[39;00m \u001b[43mDirectoryIterator\u001b[49m\u001b[43m(\u001b[49m\n\u001b[0;32m   1650\u001b[0m \u001b[43m        \u001b[49m\u001b[43mdirectory\u001b[49m\u001b[43m,\u001b[49m\n\u001b[0;32m   1651\u001b[0m \u001b[43m        \u001b[49m\u001b[38;5;28;43mself\u001b[39;49m\u001b[43m,\u001b[49m\n\u001b[0;32m   1652\u001b[0m \u001b[43m        \u001b[49m\u001b[43mtarget_size\u001b[49m\u001b[38;5;241;43m=\u001b[39;49m\u001b[43mtarget_size\u001b[49m\u001b[43m,\u001b[49m\n\u001b[0;32m   1653\u001b[0m \u001b[43m        \u001b[49m\u001b[43mcolor_mode\u001b[49m\u001b[38;5;241;43m=\u001b[39;49m\u001b[43mcolor_mode\u001b[49m\u001b[43m,\u001b[49m\n\u001b[0;32m   1654\u001b[0m \u001b[43m        \u001b[49m\u001b[43mkeep_aspect_ratio\u001b[49m\u001b[38;5;241;43m=\u001b[39;49m\u001b[43mkeep_aspect_ratio\u001b[49m\u001b[43m,\u001b[49m\n\u001b[0;32m   1655\u001b[0m \u001b[43m        \u001b[49m\u001b[43mclasses\u001b[49m\u001b[38;5;241;43m=\u001b[39;49m\u001b[43mclasses\u001b[49m\u001b[43m,\u001b[49m\n\u001b[0;32m   1656\u001b[0m \u001b[43m        \u001b[49m\u001b[43mclass_mode\u001b[49m\u001b[38;5;241;43m=\u001b[39;49m\u001b[43mclass_mode\u001b[49m\u001b[43m,\u001b[49m\n\u001b[0;32m   1657\u001b[0m \u001b[43m        \u001b[49m\u001b[43mdata_format\u001b[49m\u001b[38;5;241;43m=\u001b[39;49m\u001b[38;5;28;43mself\u001b[39;49m\u001b[38;5;241;43m.\u001b[39;49m\u001b[43mdata_format\u001b[49m\u001b[43m,\u001b[49m\n\u001b[0;32m   1658\u001b[0m \u001b[43m        \u001b[49m\u001b[43mbatch_size\u001b[49m\u001b[38;5;241;43m=\u001b[39;49m\u001b[43mbatch_size\u001b[49m\u001b[43m,\u001b[49m\n\u001b[0;32m   1659\u001b[0m \u001b[43m        \u001b[49m\u001b[43mshuffle\u001b[49m\u001b[38;5;241;43m=\u001b[39;49m\u001b[43mshuffle\u001b[49m\u001b[43m,\u001b[49m\n\u001b[0;32m   1660\u001b[0m \u001b[43m        \u001b[49m\u001b[43mseed\u001b[49m\u001b[38;5;241;43m=\u001b[39;49m\u001b[43mseed\u001b[49m\u001b[43m,\u001b[49m\n\u001b[0;32m   1661\u001b[0m \u001b[43m        \u001b[49m\u001b[43msave_to_dir\u001b[49m\u001b[38;5;241;43m=\u001b[39;49m\u001b[43msave_to_dir\u001b[49m\u001b[43m,\u001b[49m\n\u001b[0;32m   1662\u001b[0m \u001b[43m        \u001b[49m\u001b[43msave_prefix\u001b[49m\u001b[38;5;241;43m=\u001b[39;49m\u001b[43msave_prefix\u001b[49m\u001b[43m,\u001b[49m\n\u001b[0;32m   1663\u001b[0m \u001b[43m        \u001b[49m\u001b[43msave_format\u001b[49m\u001b[38;5;241;43m=\u001b[39;49m\u001b[43msave_format\u001b[49m\u001b[43m,\u001b[49m\n\u001b[0;32m   1664\u001b[0m \u001b[43m        \u001b[49m\u001b[43mfollow_links\u001b[49m\u001b[38;5;241;43m=\u001b[39;49m\u001b[43mfollow_links\u001b[49m\u001b[43m,\u001b[49m\n\u001b[0;32m   1665\u001b[0m \u001b[43m        \u001b[49m\u001b[43msubset\u001b[49m\u001b[38;5;241;43m=\u001b[39;49m\u001b[43msubset\u001b[49m\u001b[43m,\u001b[49m\n\u001b[0;32m   1666\u001b[0m \u001b[43m        \u001b[49m\u001b[43minterpolation\u001b[49m\u001b[38;5;241;43m=\u001b[39;49m\u001b[43minterpolation\u001b[49m\u001b[43m,\u001b[49m\n\u001b[0;32m   1667\u001b[0m \u001b[43m        \u001b[49m\u001b[43mdtype\u001b[49m\u001b[38;5;241;43m=\u001b[39;49m\u001b[38;5;28;43mself\u001b[39;49m\u001b[38;5;241;43m.\u001b[39;49m\u001b[43mdtype\u001b[49m\u001b[43m,\u001b[49m\n\u001b[0;32m   1668\u001b[0m \u001b[43m    \u001b[49m\u001b[43m)\u001b[49m\n",
      "File \u001b[1;32m~\\AppData\\Roaming\\Python\\Python311\\site-packages\\keras\\src\\preprocessing\\image.py:563\u001b[0m, in \u001b[0;36mDirectoryIterator.__init__\u001b[1;34m(self, directory, image_data_generator, target_size, color_mode, classes, class_mode, batch_size, shuffle, seed, data_format, save_to_dir, save_prefix, save_format, follow_links, subset, interpolation, keep_aspect_ratio, dtype)\u001b[0m\n\u001b[0;32m    561\u001b[0m \u001b[38;5;28;01mif\u001b[39;00m \u001b[38;5;129;01mnot\u001b[39;00m classes:\n\u001b[0;32m    562\u001b[0m     classes \u001b[38;5;241m=\u001b[39m []\n\u001b[1;32m--> 563\u001b[0m     \u001b[38;5;28;01mfor\u001b[39;00m subdir \u001b[38;5;129;01min\u001b[39;00m \u001b[38;5;28msorted\u001b[39m(\u001b[43mos\u001b[49m\u001b[38;5;241;43m.\u001b[39;49m\u001b[43mlistdir\u001b[49m\u001b[43m(\u001b[49m\u001b[43mdirectory\u001b[49m\u001b[43m)\u001b[49m):\n\u001b[0;32m    564\u001b[0m         \u001b[38;5;28;01mif\u001b[39;00m os\u001b[38;5;241m.\u001b[39mpath\u001b[38;5;241m.\u001b[39misdir(os\u001b[38;5;241m.\u001b[39mpath\u001b[38;5;241m.\u001b[39mjoin(directory, subdir)):\n\u001b[0;32m    565\u001b[0m             classes\u001b[38;5;241m.\u001b[39mappend(subdir)\n",
      "\u001b[1;31mFileNotFoundError\u001b[0m: [WinError 3] The system cannot find the path specified: 'train_dir'"
     ]
    }
   ],
   "source": [
    "from tensorflow.keras.preprocessing.image import ImageDataGenerator\n",
    "\n",
    "# Define image data generators\n",
    "train_datagen = ImageDataGenerator(rescale=1./255)\n",
    "test_datagen = ImageDataGenerator(rescale=1./255)\n",
    "\n",
    "# Flow training images in batches of 32 using train_datagen generator\n",
    "train_generator = train_datagen.flow_from_directory(\n",
    "        'train_dir',  # Directory with your training images\n",
    "        target_size=(height, width),\n",
    "        batch_size=32,\n",
    "        class_mode='binary')\n",
    "\n",
    "# Flow validation images in batches of 32 using test_datagen generator\n",
    "validation_generator = test_datagen.flow_from_directory(\n",
    "        'validation_dir',  # Directory with your validation images\n",
    "        target_size=(height, width),\n",
    "        batch_size=32,\n",
    "        class_mode='binary')\n",
    "\n",
    "# Train the model\n",
    "history = model.fit(\n",
    "      train_generator,\n",
    "      steps_per_epoch=train_generator.samples/train_generator.batch_size,\n",
    "      epochs=10,\n",
    "      validation_data=validation_generator,\n",
    "      validation_steps=validation_generator.samples/validation_generator.batch_size)\n",
    "\n",
    "# Evaluate the model\n",
    "test_loss, test_acc = model.evaluate(validation_generator, steps=validation_generator.samples/validation_generator.batch_size)\n",
    "print('Test accuracy:', test_acc)\n"
   ]
  },
  {
   "cell_type": "markdown",
   "id": "5c26bf90",
   "metadata": {
    "id": "jUGC-v-rV85e",
    "papermill": {
     "duration": null,
     "end_time": null,
     "exception": null,
     "start_time": null,
     "status": "pending"
    },
    "tags": []
   },
   "source": [
    "## GradientBoostingClassifier"
   ]
  },
  {
   "cell_type": "code",
   "execution_count": null,
   "id": "cb584342",
   "metadata": {
    "executionInfo": {
     "elapsed": 9231,
     "status": "ok",
     "timestamp": 1700830577655,
     "user": {
      "displayName": "Sadia Khatun",
      "userId": "02347170218959633251"
     },
     "user_tz": -360
    },
    "id": "w4fLaLGiB6NE",
    "outputId": "047f6703-6ae2-4bc9-e6f7-366f9c18007b",
    "papermill": {
     "duration": null,
     "end_time": null,
     "exception": null,
     "start_time": null,
     "status": "pending"
    },
    "tags": []
   },
   "outputs": [],
   "source": [
    "from sklearn.ensemble import GradientBoostingClassifier\n",
    "\n",
    "GB_clf = GradientBoostingClassifier(max_depth=10,n_estimators=10, learning_rate=1.0,random_state=1)\n",
    "GB_clf.fit(X_train, y_train)\n",
    "\n",
    "y_pred_test5 = GB_clf.predict(X_test)\n",
    "print(\"Training Accuracy:\", accuracy_score(y_test, y_pred_test5))\n",
    "print(\"Classification Report:\")\n",
    "print(classification_report(y_test, y_pred_test5))"
   ]
  },
  {
   "cell_type": "code",
   "execution_count": null,
   "id": "0b811894",
   "metadata": {
    "executionInfo": {
     "elapsed": 425,
     "status": "ok",
     "timestamp": 1700830592494,
     "user": {
      "displayName": "Sadia Khatun",
      "userId": "02347170218959633251"
     },
     "user_tz": -360
    },
    "id": "KD5FBKkZZDyt",
    "outputId": "2fb5fa8e-2efa-450b-ccdc-7192c87d963c",
    "papermill": {
     "duration": null,
     "end_time": null,
     "exception": null,
     "start_time": null,
     "status": "pending"
    },
    "tags": []
   },
   "outputs": [],
   "source": [
    "precision_score_gb=precision_score(y_test,y_pred_test5)\n",
    "recall_score_gb=recall_score(y_test,y_pred_test5)\n",
    "f1_score_gb=f1_score(y_test,y_pred_test5)\n",
    "\n",
    "print(precision_score_gb)\n",
    "print(recall_score_gb)\n",
    "print(f1_score_gb)\n",
    "\n",
    "fpr_gb,tpr_gb,th_gb=roc_curve(y_test,y_pred_test5)\n",
    "fpr_gb,tpr_gb,th_gb"
   ]
  },
  {
   "cell_type": "markdown",
   "id": "66d3e008",
   "metadata": {
    "id": "N7N6GTI5Zh0m",
    "papermill": {
     "duration": null,
     "end_time": null,
     "exception": null,
     "start_time": null,
     "status": "pending"
    },
    "tags": []
   },
   "source": [
    "##  cross val"
   ]
  },
  {
   "cell_type": "code",
   "execution_count": null,
   "id": "13f9262b",
   "metadata": {
    "id": "38DRA3PoDmnT",
    "papermill": {
     "duration": null,
     "end_time": null,
     "exception": null,
     "start_time": null,
     "status": "pending"
    },
    "tags": []
   },
   "outputs": [],
   "source": [
    "rf_clf=RandomForestClassifier(n_estimators=100,random_state=0)\n",
    "svm_clf=SVC()\n",
    "GB_clf = GradientBoostingClassifier(max_depth=10,n_estimators=10, learning_rate=1.0,random_state=1)\n",
    "dt_clf = DecisionTreeClassifier()\n",
    "lr_clf=LogisticRegression()"
   ]
  },
  {
   "cell_type": "code",
   "execution_count": null,
   "id": "aa3f57c3",
   "metadata": {
    "executionInfo": {
     "elapsed": 90032,
     "status": "ok",
     "timestamp": 1700837181001,
     "user": {
      "displayName": "Sadia Khatun",
      "userId": "02347170218959633251"
     },
     "user_tz": -360
    },
    "id": "T_mSPgV_FRqV",
    "outputId": "1105482c-78ab-4ef8-a8ce-e8a0be82f02f",
    "papermill": {
     "duration": null,
     "end_time": null,
     "exception": null,
     "start_time": null,
     "status": "pending"
    },
    "tags": []
   },
   "outputs": [],
   "source": [
    "from sklearn.model_selection import cross_val_score\n",
    "\n",
    "models=[rf_clf,svm_clf,GB_clf,dt_clf,lr_clf]\n",
    "for model in models:\n",
    "   acc=cross_val_score(model,X_train ,y_train,cv=3,scoring=\"accuracy\")\n",
    "   print(f'model:{model}:accuracy{acc} \\n')"
   ]
  },
  {
   "cell_type": "code",
   "execution_count": null,
   "id": "7ac73637",
   "metadata": {
    "executionInfo": {
     "elapsed": 1151,
     "status": "ok",
     "timestamp": 1700835944957,
     "user": {
      "displayName": "Sadia Khatun",
      "userId": "02347170218959633251"
     },
     "user_tz": -360
    },
    "id": "od84xhDUYBhL",
    "outputId": "8333549e-8082-48fe-d35d-5baef5607258",
    "papermill": {
     "duration": null,
     "end_time": null,
     "exception": null,
     "start_time": null,
     "status": "pending"
    },
    "tags": []
   },
   "outputs": [],
   "source": [
    "#logistic regression\n",
    "plt.plot(fpr_lr,tpr_lr,label='LogisticRegression' ,\n",
    "         linewidth=2, color='C1')\n",
    "\n",
    "#support vactor machine\n",
    "plt.plot(fpr_sv,tpr_sv,label='support veactor machine' ,\n",
    "         linewidth=2, color='C3')\n",
    "\n",
    "#Decision Tree\n",
    "plt.plot(fpr_dt,tpr_dt,label='decision tree' ,\n",
    "         linewidth=2, color='C4')\n",
    "\n",
    "#random forest\n",
    "plt.plot(fpr_rf,tpr_rf,label='random Forest',\n",
    "         linewidth=2, color='C2')\n",
    "\n",
    "\n",
    "#GradientBoosting\n",
    "plt.plot(fpr_gb,tpr_gb,label='Gradient Boosting',\n",
    "         linewidth=2, color='C5')\n",
    "# #ada boost\n",
    "# plt.plot(fpr_lr,tpr_lr,label='LogisticRegression',linestyle=':' ,\n",
    "#          linewidth=2, color='C1')\n",
    "\n",
    "plt.plot([0,1],[0,1],'k--')\n",
    "plt.axis([0, 1, 0, 1])\n",
    "plt.ylabel('True Positive Rate(Recall)')\n",
    "plt.xlabel('False Positive Rate(Fall_out)')\n",
    "plt.legend(loc='lower right')\n",
    "plt.grid(True)\n",
    "plt.show()"
   ]
  }
 ],
 "metadata": {
  "colab": {
   "provenance": []
  },
  "kaggle": {
   "accelerator": "none",
   "dataSources": [
    {
     "datasetId": 618408,
     "sourceId": 2009678,
     "sourceType": "datasetVersion"
    }
   ],
   "isGpuEnabled": false,
   "isInternetEnabled": true,
   "language": "python",
   "sourceType": "notebook"
  },
  "kernelspec": {
   "display_name": "Python 3 (ipykernel)",
   "language": "python",
   "name": "python3"
  },
  "language_info": {
   "codemirror_mode": {
    "name": "ipython",
    "version": 3
   },
   "file_extension": ".py",
   "mimetype": "text/x-python",
   "name": "python",
   "nbconvert_exporter": "python",
   "pygments_lexer": "ipython3",
   "version": "3.11.4"
  },
  "papermill": {
   "default_parameters": {},
   "duration": 4.167806,
   "end_time": "2023-11-25T12:18:58.145183",
   "environment_variables": {},
   "exception": true,
   "input_path": "__notebook__.ipynb",
   "output_path": "__notebook__.ipynb",
   "parameters": {},
   "start_time": "2023-11-25T12:18:53.977377",
   "version": "2.4.0"
  }
 },
 "nbformat": 4,
 "nbformat_minor": 5
}
