{
 "cells": [
  {
   "cell_type": "code",
   "execution_count": 1,
   "id": "c61b262c",
   "metadata": {
    "_cell_guid": "b1076dfc-b9ad-4769-8c92-a6c4dae69d19",
    "_kg_hide-input": true,
    "_kg_hide-output": true,
    "_uuid": "8f2839f25d086af736a60e9eeb907d3b93b6e0e5",
    "execution": {
     "iopub.execute_input": "2023-11-25T12:18:56.911784Z",
     "iopub.status.busy": "2023-11-25T12:18:56.910896Z",
     "iopub.status.idle": "2023-11-25T12:18:57.271525Z",
     "shell.execute_reply": "2023-11-25T12:18:57.270489Z"
    },
    "id": "JP6RPOkVvLMd",
    "papermill": {
     "duration": 0.381153,
     "end_time": "2023-11-25T12:18:57.274088",
     "exception": false,
     "start_time": "2023-11-25T12:18:56.892935",
     "status": "completed"
    },
    "tags": []
   },
   "outputs": [],
   "source": [
    "import warnings\n",
    "warnings.filterwarnings('ignore')\n",
    "import numpy as np # linear algebra\n",
    "import pandas as pd # data processing, CSV file I/O (e.g. pd.read_csv)"
   ]
  },
  {
   "cell_type": "code",
   "execution_count": 2,
   "id": "f21ddf02",
   "metadata": {
    "execution": {
     "iopub.execute_input": "2023-11-25T12:18:57.308570Z",
     "iopub.status.busy": "2023-11-25T12:18:57.308063Z",
     "iopub.status.idle": "2023-11-25T12:18:57.605435Z",
     "shell.execute_reply": "2023-11-25T12:18:57.604131Z"
    },
    "executionInfo": {
     "elapsed": 2679,
     "status": "ok",
     "timestamp": 1700808330382,
     "user": {
      "displayName": "Sadia Khatun",
      "userId": "02347170218959633251"
     },
     "user_tz": -360
    },
    "id": "wFpS8M8BwEtc",
    "outputId": "f9d321ad-bebf-491e-ee88-bb8ff34efb88",
    "papermill": {
     "duration": 0.31645,
     "end_time": "2023-11-25T12:18:57.607322",
     "exception": true,
     "start_time": "2023-11-25T12:18:57.290872",
     "status": "failed"
    },
    "tags": []
   },
   "outputs": [
    {
     "ename": "ModuleNotFoundError",
     "evalue": "No module named 'google.colab'",
     "output_type": "error",
     "traceback": [
      "\u001b[0;31m---------------------------------------------------------------------------\u001b[0m",
      "\u001b[0;31mModuleNotFoundError\u001b[0m                       Traceback (most recent call last)",
      "Cell \u001b[0;32mIn[2], line 1\u001b[0m\n\u001b[0;32m----> 1\u001b[0m \u001b[38;5;28;01mfrom\u001b[39;00m \u001b[38;5;21;01mgoogle\u001b[39;00m\u001b[38;5;21;01m.\u001b[39;00m\u001b[38;5;21;01mcolab\u001b[39;00m \u001b[38;5;28;01mimport\u001b[39;00m drive\n\u001b[1;32m      2\u001b[0m drive\u001b[38;5;241m.\u001b[39mmount(\u001b[38;5;124m'\u001b[39m\u001b[38;5;124m/content/drive\u001b[39m\u001b[38;5;124m'\u001b[39m)\n",
      "\u001b[0;31mModuleNotFoundError\u001b[0m: No module named 'google.colab'"
     ]
    }
   ],
   "source": [
    "from google.colab import drive\n",
    "drive.mount('/content/drive')"
   ]
  },
  {
   "cell_type": "code",
   "execution_count": null,
   "id": "fe417ddc",
   "metadata": {
    "execution": {
     "iopub.execute_input": "2023-11-24T02:41:56.889599Z",
     "iopub.status.busy": "2023-11-24T02:41:56.889177Z",
     "iopub.status.idle": "2023-11-24T02:41:58.072107Z",
     "shell.execute_reply": "2023-11-24T02:41:58.070920Z",
     "shell.execute_reply.started": "2023-11-24T02:41:56.889563Z"
    },
    "id": "gWAtKxz0vLMj",
    "papermill": {
     "duration": null,
     "end_time": null,
     "exception": null,
     "start_time": null,
     "status": "pending"
    },
    "tags": []
   },
   "outputs": [],
   "source": [
    "import pandas as pd\n",
    "import numpy as np\n",
    "import seaborn as sns\n",
    "from sklearn.model_selection import train_test_split\n",
    "from sklearn.metrics import accuracy_score\n",
    "from sklearn.metrics import classification_report\n",
    "import re\n",
    "import string\n",
    "\n",
    "from sklearn.metrics import precision_score,recall_score,f1_score,roc_curve"
   ]
  },
  {
   "cell_type": "code",
   "execution_count": null,
   "id": "34c724fa",
   "metadata": {
    "id": "z5UwaI8rU-jO",
    "papermill": {
     "duration": null,
     "end_time": null,
     "exception": null,
     "start_time": null,
     "status": "pending"
    },
    "tags": []
   },
   "outputs": [],
   "source": [
    "import pandas as pd\n",
    "import matplotlib.pyplot as plt\n",
    "import cufflinks as cf\n",
    "import plotly\n",
    "import plotly.express as px\n",
    "import seaborn as sns\n",
    "import re\n",
    "import string\n",
    "\n",
    "from nltk.stem.porter import PorterStemmer\n",
    "from wordcloud import WordCloud\n",
    "from sklearn.feature_extraction.text import TfidfVectorizer\n",
    "from sklearn.model_selection import train_test_split\n",
    "from sklearn import metrics\n",
    "from sklearn.ensemble import RandomForestClassifier, AdaBoostClassifier, GradientBoostingClassifier\n",
    "from sklearn.linear_model import LogisticRegression\n",
    "from sklearn.tree import DecisionTreeClassifier\n",
    "from sklearn.naive_bayes import MultinomialNB\n",
    "from sklearn import metrics\n",
    "from sklearn.linear_model import PassiveAggressiveClassifier\n",
    "from datetime import datetime\n",
    "from sklearn.feature_extraction.text import CountVectorizer\n",
    "from pandas import DataFrame\n",
    "from collections import OrderedDict"
   ]
  },
  {
   "cell_type": "code",
   "execution_count": null,
   "id": "db608975",
   "metadata": {
    "execution": {
     "iopub.execute_input": "2023-11-24T02:43:06.371647Z",
     "iopub.status.busy": "2023-11-24T02:43:06.371160Z",
     "iopub.status.idle": "2023-11-24T02:43:07.392218Z",
     "shell.execute_reply": "2023-11-24T02:43:07.390835Z",
     "shell.execute_reply.started": "2023-11-24T02:43:06.371582Z"
    },
    "id": "R13MczujvLMj",
    "papermill": {
     "duration": null,
     "end_time": null,
     "exception": null,
     "start_time": null,
     "status": "pending"
    },
    "tags": []
   },
   "outputs": [],
   "source": [
    "df_true = pd.read_csv(\"/content/drive/MyDrive/Thesis /LabeledAuthentic-7K.csv\")\n",
    "df_false = pd.read_csv(\"/content/drive/MyDrive/Thesis /LabeledFake-1K.csv\")"
   ]
  },
  {
   "cell_type": "code",
   "execution_count": null,
   "id": "90ea6f81",
   "metadata": {
    "id": "wclEybvNU9rz",
    "papermill": {
     "duration": null,
     "end_time": null,
     "exception": null,
     "start_time": null,
     "status": "pending"
    },
    "tags": []
   },
   "outputs": [],
   "source": []
  },
  {
   "cell_type": "code",
   "execution_count": null,
   "id": "9d9d27c3",
   "metadata": {
    "execution": {
     "iopub.execute_input": "2023-11-24T03:03:51.487579Z",
     "iopub.status.busy": "2023-11-24T03:03:51.487155Z",
     "iopub.status.idle": "2023-11-24T03:03:51.505417Z",
     "shell.execute_reply": "2023-11-24T03:03:51.504422Z",
     "shell.execute_reply.started": "2023-11-24T03:03:51.487541Z"
    },
    "executionInfo": {
     "elapsed": 645,
     "status": "ok",
     "timestamp": 1700808537949,
     "user": {
      "displayName": "Sadia Khatun",
      "userId": "02347170218959633251"
     },
     "user_tz": -360
    },
    "id": "w26NhJpFvLMk",
    "outputId": "85a2b8cc-baca-4435-f0b2-6387e035f34b",
    "papermill": {
     "duration": null,
     "end_time": null,
     "exception": null,
     "start_time": null,
     "status": "pending"
    },
    "tags": []
   },
   "outputs": [],
   "source": [
    "df_true.head(2)"
   ]
  },
  {
   "cell_type": "code",
   "execution_count": null,
   "id": "e60bc41c",
   "metadata": {
    "execution": {
     "iopub.execute_input": "2023-11-24T03:03:45.905525Z",
     "iopub.status.busy": "2023-11-24T03:03:45.904999Z",
     "iopub.status.idle": "2023-11-24T03:03:45.924919Z",
     "shell.execute_reply": "2023-11-24T03:03:45.923974Z",
     "shell.execute_reply.started": "2023-11-24T03:03:45.905451Z"
    },
    "executionInfo": {
     "elapsed": 477,
     "status": "ok",
     "timestamp": 1700808541197,
     "user": {
      "displayName": "Sadia Khatun",
      "userId": "02347170218959633251"
     },
     "user_tz": -360
    },
    "id": "GXzKtf9svLMk",
    "outputId": "cbaed7d4-6716-4c2f-8e67-484e326b9578",
    "papermill": {
     "duration": null,
     "end_time": null,
     "exception": null,
     "start_time": null,
     "status": "pending"
    },
    "tags": []
   },
   "outputs": [],
   "source": [
    "df_false.head(2)"
   ]
  },
  {
   "cell_type": "code",
   "execution_count": null,
   "id": "45de7440",
   "metadata": {
    "execution": {
     "iopub.execute_input": "2023-11-24T03:13:10.826945Z",
     "iopub.status.busy": "2023-11-24T03:13:10.826301Z",
     "iopub.status.idle": "2023-11-24T03:13:10.835372Z",
     "shell.execute_reply": "2023-11-24T03:13:10.834371Z",
     "shell.execute_reply.started": "2023-11-24T03:13:10.826897Z"
    },
    "executionInfo": {
     "elapsed": 651,
     "status": "ok",
     "timestamp": 1700808543675,
     "user": {
      "displayName": "Sadia Khatun",
      "userId": "02347170218959633251"
     },
     "user_tz": -360
    },
    "id": "hzZFMZM4vLMl",
    "outputId": "7a631ea1-d2f4-4497-de67-b27114dae351",
    "papermill": {
     "duration": null,
     "end_time": null,
     "exception": null,
     "start_time": null,
     "status": "pending"
    },
    "tags": []
   },
   "outputs": [],
   "source": [
    "df_true.columns"
   ]
  },
  {
   "cell_type": "code",
   "execution_count": null,
   "id": "ff16cea4",
   "metadata": {
    "execution": {
     "iopub.execute_input": "2023-11-24T03:15:27.032379Z",
     "iopub.status.busy": "2023-11-24T03:15:27.031943Z",
     "iopub.status.idle": "2023-11-24T03:15:27.054357Z",
     "shell.execute_reply": "2023-11-24T03:15:27.053157Z",
     "shell.execute_reply.started": "2023-11-24T03:15:27.032341Z"
    },
    "id": "95PS01JKvLMl",
    "papermill": {
     "duration": null,
     "end_time": null,
     "exception": null,
     "start_time": null,
     "status": "pending"
    },
    "tags": []
   },
   "outputs": [],
   "source": [
    "drop_col=['articleID', 'domain', 'date', 'category', 'source', 'relation']\n",
    "df_true=df_true.drop(['articleID', 'domain', 'date', 'category', 'source', 'relation'],axis='columns')"
   ]
  },
  {
   "cell_type": "code",
   "execution_count": null,
   "id": "0d3cd69e",
   "metadata": {
    "execution": {
     "iopub.execute_input": "2023-11-24T03:15:58.478825Z",
     "iopub.status.busy": "2023-11-24T03:15:58.478358Z",
     "iopub.status.idle": "2023-11-24T03:15:58.486762Z",
     "shell.execute_reply": "2023-11-24T03:15:58.485678Z",
     "shell.execute_reply.started": "2023-11-24T03:15:58.478789Z"
    },
    "executionInfo": {
     "elapsed": 586,
     "status": "ok",
     "timestamp": 1700808546534,
     "user": {
      "displayName": "Sadia Khatun",
      "userId": "02347170218959633251"
     },
     "user_tz": -360
    },
    "id": "sFqwzVe6vLMl",
    "outputId": "d831468f-ef58-4df4-e278-56c3c402ab43",
    "papermill": {
     "duration": null,
     "end_time": null,
     "exception": null,
     "start_time": null,
     "status": "pending"
    },
    "tags": []
   },
   "outputs": [],
   "source": [
    "df_false.columns"
   ]
  },
  {
   "cell_type": "code",
   "execution_count": null,
   "id": "8b3d2bab",
   "metadata": {
    "execution": {
     "iopub.execute_input": "2023-11-24T03:17:01.468706Z",
     "iopub.status.busy": "2023-11-24T03:17:01.468240Z",
     "iopub.status.idle": "2023-11-24T03:17:01.479809Z",
     "shell.execute_reply": "2023-11-24T03:17:01.478426Z",
     "shell.execute_reply.started": "2023-11-24T03:17:01.468670Z"
    },
    "id": "k0xvad-RvLMm",
    "papermill": {
     "duration": null,
     "end_time": null,
     "exception": null,
     "start_time": null,
     "status": "pending"
    },
    "tags": []
   },
   "outputs": [],
   "source": [
    "df_false=df_false.drop(['articleID', 'domain', 'date', 'category', 'source', 'relation','F-type'],axis='columns')"
   ]
  },
  {
   "cell_type": "code",
   "execution_count": null,
   "id": "bd76f383",
   "metadata": {
    "execution": {
     "iopub.execute_input": "2023-11-24T03:17:07.678860Z",
     "iopub.status.busy": "2023-11-24T03:17:07.678442Z",
     "iopub.status.idle": "2023-11-24T03:17:07.695939Z",
     "shell.execute_reply": "2023-11-24T03:17:07.694655Z",
     "shell.execute_reply.started": "2023-11-24T03:17:07.678825Z"
    },
    "executionInfo": {
     "elapsed": 8,
     "status": "ok",
     "timestamp": 1700808550230,
     "user": {
      "displayName": "Sadia Khatun",
      "userId": "02347170218959633251"
     },
     "user_tz": -360
    },
    "id": "KC_PK5xDvLMm",
    "outputId": "b832f381-60be-45ec-a3ac-34e083a4aae2",
    "papermill": {
     "duration": null,
     "end_time": null,
     "exception": null,
     "start_time": null,
     "status": "pending"
    },
    "tags": []
   },
   "outputs": [],
   "source": [
    "df_false"
   ]
  },
  {
   "cell_type": "code",
   "execution_count": null,
   "id": "7457d712",
   "metadata": {
    "execution": {
     "iopub.execute_input": "2023-11-24T03:18:41.177851Z",
     "iopub.status.busy": "2023-11-24T03:18:41.177420Z",
     "iopub.status.idle": "2023-11-24T03:18:41.186948Z",
     "shell.execute_reply": "2023-11-24T03:18:41.185633Z",
     "shell.execute_reply.started": "2023-11-24T03:18:41.177817Z"
    },
    "id": "l95OggFJvLMm",
    "papermill": {
     "duration": null,
     "end_time": null,
     "exception": null,
     "start_time": null,
     "status": "pending"
    },
    "tags": []
   },
   "outputs": [],
   "source": [
    "ban_df=pd.concat([df_true,df_false],axis=0)"
   ]
  },
  {
   "cell_type": "code",
   "execution_count": null,
   "id": "98f3352b",
   "metadata": {
    "execution": {
     "iopub.execute_input": "2023-11-24T03:19:01.614648Z",
     "iopub.status.busy": "2023-11-24T03:19:01.614145Z",
     "iopub.status.idle": "2023-11-24T03:19:01.628108Z",
     "shell.execute_reply": "2023-11-24T03:19:01.627253Z",
     "shell.execute_reply.started": "2023-11-24T03:19:01.614607Z"
    },
    "executionInfo": {
     "elapsed": 605,
     "status": "ok",
     "timestamp": 1700819775132,
     "user": {
      "displayName": "Sadia Khatun",
      "userId": "02347170218959633251"
     },
     "user_tz": -360
    },
    "id": "fRryzpgxvLMn",
    "outputId": "cd5aa7f8-3040-4465-8b08-7a2350c4c76f",
    "papermill": {
     "duration": null,
     "end_time": null,
     "exception": null,
     "start_time": null,
     "status": "pending"
    },
    "tags": []
   },
   "outputs": [],
   "source": [
    "ban_df.head(3)"
   ]
  },
  {
   "cell_type": "code",
   "execution_count": null,
   "id": "6bb935e9",
   "metadata": {
    "execution": {
     "iopub.execute_input": "2023-11-24T03:19:16.052366Z",
     "iopub.status.busy": "2023-11-24T03:19:16.051798Z",
     "iopub.status.idle": "2023-11-24T03:19:16.058286Z",
     "shell.execute_reply": "2023-11-24T03:19:16.056891Z",
     "shell.execute_reply.started": "2023-11-24T03:19:16.052328Z"
    },
    "executionInfo": {
     "elapsed": 5,
     "status": "ok",
     "timestamp": 1700808583629,
     "user": {
      "displayName": "Sadia Khatun",
      "userId": "02347170218959633251"
     },
     "user_tz": -360
    },
    "id": "0ilEey5QvLMn",
    "outputId": "75d97302-2fb9-4a34-e08f-455d74c51004",
    "papermill": {
     "duration": null,
     "end_time": null,
     "exception": null,
     "start_time": null,
     "status": "pending"
    },
    "tags": []
   },
   "outputs": [],
   "source": [
    "ban_df.shape"
   ]
  },
  {
   "cell_type": "code",
   "execution_count": null,
   "id": "a4e37946",
   "metadata": {
    "execution": {
     "iopub.execute_input": "2023-11-24T03:20:31.089063Z",
     "iopub.status.busy": "2023-11-24T03:20:31.088599Z",
     "iopub.status.idle": "2023-11-24T03:20:31.103088Z",
     "shell.execute_reply": "2023-11-24T03:20:31.101707Z",
     "shell.execute_reply.started": "2023-11-24T03:20:31.089022Z"
    },
    "executionInfo": {
     "elapsed": 407,
     "status": "ok",
     "timestamp": 1700808586292,
     "user": {
      "displayName": "Sadia Khatun",
      "userId": "02347170218959633251"
     },
     "user_tz": -360
    },
    "id": "s1TU-vYcvLMn",
    "outputId": "b97e71c1-6906-4692-dae9-2b97b1971f61",
    "papermill": {
     "duration": null,
     "end_time": null,
     "exception": null,
     "start_time": null,
     "status": "pending"
    },
    "tags": []
   },
   "outputs": [],
   "source": [
    "ban_df.isnull().sum()"
   ]
  },
  {
   "cell_type": "code",
   "execution_count": null,
   "id": "af1529ee",
   "metadata": {
    "execution": {
     "iopub.execute_input": "2023-11-24T03:21:02.980867Z",
     "iopub.status.busy": "2023-11-24T03:21:02.980449Z",
     "iopub.status.idle": "2023-11-24T03:21:03.188703Z",
     "shell.execute_reply": "2023-11-24T03:21:03.187323Z",
     "shell.execute_reply.started": "2023-11-24T03:21:02.980829Z"
    },
    "executionInfo": {
     "elapsed": 703,
     "status": "ok",
     "timestamp": 1700808589816,
     "user": {
      "displayName": "Sadia Khatun",
      "userId": "02347170218959633251"
     },
     "user_tz": -360
    },
    "id": "ZEktJITsvLMo",
    "outputId": "8ec887a6-0e5a-41e3-f2ab-7b584047ee87",
    "papermill": {
     "duration": null,
     "end_time": null,
     "exception": null,
     "start_time": null,
     "status": "pending"
    },
    "tags": []
   },
   "outputs": [],
   "source": [
    "ban_df.duplicated().sum()"
   ]
  },
  {
   "cell_type": "code",
   "execution_count": null,
   "id": "31983b8f",
   "metadata": {
    "execution": {
     "iopub.execute_input": "2023-11-24T03:28:21.502177Z",
     "iopub.status.busy": "2023-11-24T03:28:21.501689Z",
     "iopub.status.idle": "2023-11-24T03:28:21.538144Z",
     "shell.execute_reply": "2023-11-24T03:28:21.536749Z",
     "shell.execute_reply.started": "2023-11-24T03:28:21.502135Z"
    },
    "id": "aNYqCKPTvLMo",
    "papermill": {
     "duration": null,
     "end_time": null,
     "exception": null,
     "start_time": null,
     "status": "pending"
    },
    "tags": []
   },
   "outputs": [],
   "source": [
    "ban_df['Content'] = ban_df['headline'] + ban_df['content']"
   ]
  },
  {
   "cell_type": "code",
   "execution_count": null,
   "id": "09b5101a",
   "metadata": {
    "execution": {
     "iopub.execute_input": "2023-11-24T03:28:31.442784Z",
     "iopub.status.busy": "2023-11-24T03:28:31.442323Z",
     "iopub.status.idle": "2023-11-24T03:28:31.457945Z",
     "shell.execute_reply": "2023-11-24T03:28:31.456838Z",
     "shell.execute_reply.started": "2023-11-24T03:28:31.442746Z"
    },
    "executionInfo": {
     "elapsed": 417,
     "status": "ok",
     "timestamp": 1700808594086,
     "user": {
      "displayName": "Sadia Khatun",
      "userId": "02347170218959633251"
     },
     "user_tz": -360
    },
    "id": "YxNGSkd5vLMp",
    "outputId": "d01642f7-29e4-41b7-8138-21f9a4b79a3f",
    "papermill": {
     "duration": null,
     "end_time": null,
     "exception": null,
     "start_time": null,
     "status": "pending"
    },
    "tags": []
   },
   "outputs": [],
   "source": [
    "ban_df.head()"
   ]
  },
  {
   "cell_type": "code",
   "execution_count": null,
   "id": "fa0370dd",
   "metadata": {
    "execution": {
     "iopub.execute_input": "2023-11-24T03:29:37.619915Z",
     "iopub.status.busy": "2023-11-24T03:29:37.619330Z",
     "iopub.status.idle": "2023-11-24T03:29:37.630989Z",
     "shell.execute_reply": "2023-11-24T03:29:37.630103Z",
     "shell.execute_reply.started": "2023-11-24T03:29:37.619864Z"
    },
    "id": "VwEmdP-YvLMp",
    "papermill": {
     "duration": null,
     "end_time": null,
     "exception": null,
     "start_time": null,
     "status": "pending"
    },
    "tags": []
   },
   "outputs": [],
   "source": [
    "ban_df1=ban_df.drop(['headline','content'],axis='columns')"
   ]
  },
  {
   "cell_type": "code",
   "execution_count": null,
   "id": "87838560",
   "metadata": {
    "execution": {
     "iopub.execute_input": "2023-11-24T03:29:44.287179Z",
     "iopub.status.busy": "2023-11-24T03:29:44.286330Z",
     "iopub.status.idle": "2023-11-24T03:29:44.303003Z",
     "shell.execute_reply": "2023-11-24T03:29:44.301445Z",
     "shell.execute_reply.started": "2023-11-24T03:29:44.287131Z"
    },
    "executionInfo": {
     "elapsed": 601,
     "status": "ok",
     "timestamp": 1700819881987,
     "user": {
      "displayName": "Sadia Khatun",
      "userId": "02347170218959633251"
     },
     "user_tz": -360
    },
    "id": "MLps8M9YvLMp",
    "outputId": "f82137f2-6b63-4fe8-8943-3eaf97f3feea",
    "papermill": {
     "duration": null,
     "end_time": null,
     "exception": null,
     "start_time": null,
     "status": "pending"
    },
    "tags": []
   },
   "outputs": [],
   "source": [
    "ban_df.head()"
   ]
  },
  {
   "cell_type": "code",
   "execution_count": null,
   "id": "1798d5b9",
   "metadata": {
    "executionInfo": {
     "elapsed": 609,
     "status": "ok",
     "timestamp": 1700819894519,
     "user": {
      "displayName": "Sadia Khatun",
      "userId": "02347170218959633251"
     },
     "user_tz": -360
    },
    "id": "n29qIxC8J39I",
    "outputId": "dc0f16fc-7e27-4b96-fafa-68ad665eca6f",
    "papermill": {
     "duration": null,
     "end_time": null,
     "exception": null,
     "start_time": null,
     "status": "pending"
    },
    "tags": []
   },
   "outputs": [],
   "source": [
    "ban_df1.head()"
   ]
  },
  {
   "cell_type": "code",
   "execution_count": null,
   "id": "5f0bdfb1",
   "metadata": {
    "id": "pbh5vY5bFU6G",
    "papermill": {
     "duration": null,
     "end_time": null,
     "exception": null,
     "start_time": null,
     "status": "pending"
    },
    "tags": []
   },
   "outputs": [],
   "source": [
    "ban_df2=ban_df.drop(['headline','content'],axis='columns')"
   ]
  },
  {
   "cell_type": "code",
   "execution_count": null,
   "id": "6787237f",
   "metadata": {
    "id": "HFvK0_3iFUzu",
    "papermill": {
     "duration": null,
     "end_time": null,
     "exception": null,
     "start_time": null,
     "status": "pending"
    },
    "tags": []
   },
   "outputs": [],
   "source": [
    "ban_df3=ban_df.drop(['headline','content'],axis='columns')"
   ]
  },
  {
   "cell_type": "code",
   "execution_count": null,
   "id": "ed0df78f",
   "metadata": {
    "id": "yi9pAh1DFUvf",
    "papermill": {
     "duration": null,
     "end_time": null,
     "exception": null,
     "start_time": null,
     "status": "pending"
    },
    "tags": []
   },
   "outputs": [],
   "source": [
    "ban_df4=ban_df.drop(['headline','content'],axis='columns')"
   ]
  },
  {
   "cell_type": "code",
   "execution_count": null,
   "id": "9ffadc91",
   "metadata": {
    "id": "qsBvGWT3FeY2",
    "papermill": {
     "duration": null,
     "end_time": null,
     "exception": null,
     "start_time": null,
     "status": "pending"
    },
    "tags": []
   },
   "outputs": [],
   "source": [
    "ban_df5=ban_df.drop(['headline','content'],axis='columns')"
   ]
  },
  {
   "cell_type": "markdown",
   "id": "1d1b15a4",
   "metadata": {
    "id": "W34w6QkaxOfI",
    "papermill": {
     "duration": null,
     "end_time": null,
     "exception": null,
     "start_time": null,
     "status": "pending"
    },
    "tags": []
   },
   "source": [
    "# Creating a function to convert the text in lowercase, remove the extra space, special characeters, url and links"
   ]
  },
  {
   "cell_type": "code",
   "execution_count": null,
   "id": "7b61353a",
   "metadata": {
    "id": "6sVva4urvw4y",
    "papermill": {
     "duration": null,
     "end_time": null,
     "exception": null,
     "start_time": null,
     "status": "pending"
    },
    "tags": []
   },
   "outputs": [],
   "source": [
    "def wordopt(Content):\n",
    "    Content = Content.lower()\n",
    "    Content = re.sub('\\[.*?\\]','',Content)\n",
    "    # Content = re.sub(\"\\\\W\", \" \", Content)\n",
    "    Content = re.sub('https?://\\S+|wwww\\.\\S+','',Content)\n",
    "    Content = re.sub('<.*?>+', '' ,Content)\n",
    "    Content = re.sub('[%s]' % re.escape(string.punctuation), '', Content)\n",
    "    Content = re.sub('\\n','',Content)\n",
    "    Content = re.sub('\\w*\\d\\w*','',Content)\n",
    "    return Content\n"
   ]
  },
  {
   "cell_type": "code",
   "execution_count": null,
   "id": "862d9aae",
   "metadata": {
    "id": "OHg-ijb8vw1C",
    "papermill": {
     "duration": null,
     "end_time": null,
     "exception": null,
     "start_time": null,
     "status": "pending"
    },
    "tags": []
   },
   "outputs": [],
   "source": [
    "ban_df1['Content']=ban_df['Content'].apply(wordopt)"
   ]
  },
  {
   "cell_type": "code",
   "execution_count": null,
   "id": "f574dd83",
   "metadata": {
    "executionInfo": {
     "elapsed": 372,
     "status": "ok",
     "timestamp": 1700819923210,
     "user": {
      "displayName": "Sadia Khatun",
      "userId": "02347170218959633251"
     },
     "user_tz": -360
    },
    "id": "xc4NZTvZvwwM",
    "outputId": "904c21a5-cac5-4452-9f6f-b33e3a931b5b",
    "papermill": {
     "duration": null,
     "end_time": null,
     "exception": null,
     "start_time": null,
     "status": "pending"
    },
    "tags": []
   },
   "outputs": [],
   "source": [
    "ban_df1"
   ]
  },
  {
   "cell_type": "markdown",
   "id": "daf8d721",
   "metadata": {
    "id": "55j8AQLjKatY",
    "papermill": {
     "duration": null,
     "end_time": null,
     "exception": null,
     "start_time": null,
     "status": "pending"
    },
    "tags": []
   },
   "source": [
    "## Tokenize"
   ]
  },
  {
   "cell_type": "code",
   "execution_count": null,
   "id": "5627aec2",
   "metadata": {
    "id": "D-hcm5fAK1cL",
    "papermill": {
     "duration": null,
     "end_time": null,
     "exception": null,
     "start_time": null,
     "status": "pending"
    },
    "tags": []
   },
   "outputs": [],
   "source": [
    "# def tokenize_bangla(text):\n",
    "#     # Define characters to be treated as separators (you can add more if needed)\n",
    "#     separators = [' ', ',', '.', '!', '?', '...', '—', '(', ')', '[', ']', '{', '}', ':', ';']\n",
    "\n",
    "#     # Initialize variables\n",
    "#     current_word = \"\"\n",
    "#     tokens = []\n",
    "\n",
    "#     # Iterate through each character in the text\n",
    "#     for char in text:\n",
    "#         # If the character is a separator, add the current word to the tokens list\n",
    "#         if char in separators:\n",
    "#             if current_word:\n",
    "#                 tokens.append(current_word)\n",
    "#                 current_word = \"\"\n",
    "#         else:\n",
    "#             # Build the current word character by character\n",
    "#             current_word += char\n",
    "\n",
    "#     # Add the last word if not added yet\n",
    "#     if current_word:\n",
    "#         tokens.append(current_word)\n",
    "\n",
    "#     return tokens"
   ]
  },
  {
   "cell_type": "code",
   "execution_count": null,
   "id": "73fb8bda",
   "metadata": {
    "id": "mTzyIoZpK-26",
    "papermill": {
     "duration": null,
     "end_time": null,
     "exception": null,
     "start_time": null,
     "status": "pending"
    },
    "tags": []
   },
   "outputs": [],
   "source": [
    "# ban_df1['Content']=ban_df1['Content'].apply(tokenize_bangla)"
   ]
  },
  {
   "cell_type": "markdown",
   "id": "6549645b",
   "metadata": {
    "id": "mx6vPNuHK434",
    "papermill": {
     "duration": null,
     "end_time": null,
     "exception": null,
     "start_time": null,
     "status": "pending"
    },
    "tags": []
   },
   "source": [
    "Stop Word remove"
   ]
  },
  {
   "cell_type": "code",
   "execution_count": null,
   "id": "351b8fa7",
   "metadata": {
    "id": "j9xKMtS4KhJl",
    "papermill": {
     "duration": null,
     "end_time": null,
     "exception": null,
     "start_time": null,
     "status": "pending"
    },
    "tags": []
   },
   "outputs": [],
   "source": [
    "def remove_stopwords_bangla(text):\n",
    "    # Define a list of Bengali stopwords (add more if needed)\n",
    "    stopwords_list = [\"অতএব\",\"অথচ\",\"অথবা\",\"অনুযায়ী\",\"অনেক\",\"অনেকে\",\n",
    "                      \"অনেকেই\",\"অন্তত\",\"অন্য\",\"অবধি\",\"অবশ্য\",\"অর্থাত\",\"আই\",\n",
    "                      \"আগামী\",\"আগে\",\"আগেই\",\"আছে\",\"আজ\",\"আদ্যভাগে\",\"আপনার\",\n",
    "                      \"আপনি\",\"আবার\",\"আমরা\",\"আমাকে\",\"আমাদের\",\"আমার\",\"আমি\",\"আর\",\n",
    "                      \"আরও\",\"ই\",\"ইত্যাদি\",\"ইহা\",\"উচিত\",\"উত্তর\",\"উনি\",\"উপর\",\"উপরে\",\"এ\",\n",
    "                      \"এঁদের\",\"এঁরা\",\"এই\",\"একই\",\"একটি\",\"একবার\",\"একে\",\"এক্\",\"এখন\",\"এখনও\",\n",
    "                      \"এখানে\",\"এখানেই\",\"এটা\",\"এটাই\",\"এটি\",\"এত\",\"এতটাই\",\"এতে\",\"এদের\",\"এব\",\n",
    "                      \"এবং\",\"এবার\",\"এমন\",\"এমনকী\",\"এমনি\",\"এর\",\"এরা\",\"এল\",\"এস\",\"এসে\",\"ঐ\",\n",
    "                      \"ও\",\"ওঁদের\",\"ওঁর\",\"ওঁরা\",\"ওই\",\"ওকে\",\"ওখানে\",\"ওদের\",\"ওর\",\"ওরা\",\"কখনও\",\"কত\",\"কবে\",\n",
    "                      \"কমনে\",\"কয়েক\",\"কয়েকটি\",\"করছে\",\"করছেন\",\"করতে\",\"করবে\",\"করবেন\",\"করলে\",\"করলেন\",\"করা\",\"করাই\",\n",
    "                      \"করায়\",\"করার\",\"করি\",\"করিতে\",\"করিয়া\",\"করিয়ে\",\"করে\",\"করেই\",\"করেছিলেন\",\"করেছে\",\"করেছেন\",\"করেন\",\"কাউকে\",\n",
    "                      \"কাছ\",\"কাছে\",\"কাজ\",\"কাজে\",\"কারও\",\"কারণ\",\"কি\",\"কিংবা\",\"কিছু\",\"কিছুই\",\"কিন্তু\",\"কী\",\"কে\",\"কেউ\",\"কেউই\",\"কেখা\",\"কেন\",\"কোটি\",\"কোন\",\"কোনও\",\"কোনো\",\n",
    "                      \"ক্ষেত্রে\",\"কয়েক\",\"খুব\",\"গিয়ে\",\"গিয়েছে\",\"গিয়ে\",\"গুলি\",\"গেছে\",\"গেল\",\"গেলে\",\"গোটা\",\"চলে\",\"চান\",\"চায়\",\"চার\",\"চালু\",\"চেয়ে\",\"চেষ্টা\",\"ছাড়া\",\"ছাড়াও\",\"ছিল\",\"ছিলেন\",\"জন\",\"জনকে\",\"জনের\",\"জন্য\",\"জন্যওজে\",\"জানতে\",\"জানা\",\"জানানো\",\"জানায়\",\"জানিয়ে\",\"জানিয়েছে\",\"জে\",\"জ্নজন\",\"টি\",\"ঠিক\",\"তখন\",\"তত\",\n",
    "                      \"তথা\",\"তবু\",\"তবে\",\"তা\",\"তাঁকে\",\"তাঁদের\",\"তাঁর\",\"তাঁরা\",\"তাঁাহারা\",\"তাই\",\"তাও\",\"তাকে\",\"তাতে\",\"তাদের\",\"তার\",\"তারপর\",\"তারা\",\"তারৈ\",\"তাহলে\",\"তাহা\",\"তাহাতে\",\"তাহার\",\"তিনঐ\",\"তিনি\",\"তিনিও\",\"তুমি\",\"তুলে\",\"তেমন\",\"তো\",\n",
    "                      \"তোমার\",\"থাকবে\",\"থাকবেন\",\"থাকা\",\"থাকায়\",\"থাকে\",\"থাকেন\",\"থেকে\",\"থেকেই\",\"থেকেও\",\"দিকে\",\"দিতে\",\"দিন\",\"দিয়ে\",\"দিয়েছে\",\"দিয়েছেন\",\"দিলেন\",\"দু\",\"দুই\",\"দুটি\",\"দুটো\",\"দেওয়া\",\"দেওয়ার\",\"দেওয়া\",\"দেখতে\",\"দেখা\",\"দেখে\",\"দেন\",\"দেয়\",\"দ্বারা\",\"ধরা\",\"ধরে\",\"ধামার\",\"নতুন\",\"নয়\",\"না\",\"নাই\",\"নাকি\",\"নাগাদ\",\"নানা\",\"নিজে\",\"নিজেই\",\n",
    "                      \"নিজেদের\",\"নিজের\",\"নিতে\",\"নিয়ে\",\"নিয়ে\",\"নেই\",\"নেওয়া\",\"নেওয়ার\",\"নেওয়া\",\"নয়\",\"পক্ষে\",\"পর\",\"পরে\",\"পরেই\",\"পরেও\",\"পর্যন্ত\",\"পাওয়া\",\"পাচ\",\"পারি\",\"পারে\",\"পারেন\",\"পি\",\"পেয়ে\",\"পেয়্র্\",\"প্রতি\",\"প্রথম\",\"প্রভৃতি\",\"প্রযন্ত\",\"প্রাথমিক\",\"প্রায়\",\"প্রায়\",\"ফলে\",\"ফিরে\",\"ফের\",\"বক্তব্য\",\"বদলে\",\"বন\",\"বরং\",\"বলতে\",\"বলল\",\"বললেন\",\"বলা\",\"বলে\",\"বলেছেন\",\n",
    "                      \"বলেন\",\"বসে\",\"বহু\",\"বা\",\"বাদে\",\"বার\",\"বি\",\"বিনা\",\"বিভিন্ন\",\"বিশেষ\",\"বিষয়টি\",\"বেশ\",\"বেশি\",\"ব্যবহার\",\"ব্যাপারে\",\"ভাবে\",\"ভাবেই\",\"মতো\",\"মতোই\",\"মধ্যভাগে\",\"মধ্যে\",\"মধ্যেই\",\"মধ্যেও\",\"মনে\",\"মাত্র\",\"মাধ্যমে\",\"মোট\",\"মোটেই\",\"যখন\",\"যত\",\"যতটা\",\"যথেষ্ট\",\"যদি\",\"যদিও\",\"যা\",\"যাঁর\",\"যাঁরা\",\"যাওয়া\",\"যাওয়ার\",\"যাওয়া\",\"যাকে\",\"যাচ্ছে\",\"যাতে\",\"যাদের\",\"যান\",\n",
    "                      \"যাবে\",\"যায়\",\"যার\",\"যারা\",\"যিনি\",\"যে\",\"যেখানে\",\"যেতে\",\"যেন\",\"যেমন\",\"র\",\"রকম\",\"রয়েছে\",\"রাখা\",\"রেখে\",\"লক্ষ\",\"শুধু\",\"শুরু\",\"সঙ্গে\",\"সঙ্গেও\",\"সব\",\"সবার\",\"সমস্ত\",\"সম্প্রতি\",\"সহ\",\"সহিত\",\"সাধারণ\",\"সামনে\",\"সি\",\"সুতরাং\",\"সে\",\"সেই\",\"সেখান\",\"সেখানে\",\"সেটা\",\"সেটাই\",\"সেটাও\",\"সেটি\",\"স্পষ্ট\",\"স্বয়ং\",\"হইতে\",\"হইবে\",\"হইয়া\",\"হওয়া\",\"হওয়ায়\",\"হওয়ার\",\"হচ্ছে\",\"হত\",\"হতে\",\n",
    "                      \"হতেই\",\"হন\",\"হবে\",\"হবেন\",\"হয়\",\"হয়তো\",\"হয়নি\",\"হয়ে\",\"হয়েই\",\"হয়েছিল\",\"হয়েছে\",\"হয়েছেন\",\"হল\",\"হলে\",\"হলেই\",\n",
    "                      \"হলেও\",\"হলো\",\"হাজার\",\"হিসাবে\",\"হৈলে\",\"হোক\",\"হয়\"]\n",
    "\n",
    "    # Tokenize the text into words\n",
    "    words = text.split()\n",
    "\n",
    "    # Remove stopwords\n",
    "    filtered_words = [word for word in words if word not in stopwords_list]\n",
    "\n",
    "    # Join the filtered words to form the processed text\n",
    "    processed_text = ' '.join(filtered_words)\n",
    "\n",
    "    return processed_text"
   ]
  },
  {
   "cell_type": "code",
   "execution_count": null,
   "id": "eb996412",
   "metadata": {
    "id": "U52fO1k26pWt",
    "papermill": {
     "duration": null,
     "end_time": null,
     "exception": null,
     "start_time": null,
     "status": "pending"
    },
    "tags": []
   },
   "outputs": [],
   "source": [
    "ban_df1['Content']=ban_df1['Content'].apply(remove_stopwords_bangla)"
   ]
  },
  {
   "cell_type": "code",
   "execution_count": null,
   "id": "272df9cb",
   "metadata": {
    "executionInfo": {
     "elapsed": 9,
     "status": "ok",
     "timestamp": 1700819962328,
     "user": {
      "displayName": "Sadia Khatun",
      "userId": "02347170218959633251"
     },
     "user_tz": -360
    },
    "id": "8XaOF6Z86_62",
    "outputId": "180565b8-e8c6-4cd3-a733-60064d263259",
    "papermill": {
     "duration": null,
     "end_time": null,
     "exception": null,
     "start_time": null,
     "status": "pending"
    },
    "tags": []
   },
   "outputs": [],
   "source": [
    "ban_df1['Content']"
   ]
  },
  {
   "cell_type": "code",
   "execution_count": null,
   "id": "825e7526",
   "metadata": {
    "executionInfo": {
     "elapsed": 649,
     "status": "ok",
     "timestamp": 1700819977124,
     "user": {
      "displayName": "Sadia Khatun",
      "userId": "02347170218959633251"
     },
     "user_tz": -360
    },
    "id": "7PMYTQjOvwmz",
    "outputId": "6ee6e6a2-1d5e-4532-83ce-43130b618779",
    "papermill": {
     "duration": null,
     "end_time": null,
     "exception": null,
     "start_time": null,
     "status": "pending"
    },
    "tags": []
   },
   "outputs": [],
   "source": [
    "ban_df1"
   ]
  },
  {
   "cell_type": "code",
   "execution_count": null,
   "id": "9e5a6b3c",
   "metadata": {
    "executionInfo": {
     "elapsed": 8635,
     "status": "ok",
     "timestamp": 1700822357835,
     "user": {
      "displayName": "Sadia Khatun",
      "userId": "02347170218959633251"
     },
     "user_tz": -360
    },
    "id": "J1yIUOHK45D6",
    "outputId": "5163456e-0d73-4af6-9fae-a5dc7a44fe02",
    "papermill": {
     "duration": null,
     "end_time": null,
     "exception": null,
     "start_time": null,
     "status": "pending"
    },
    "tags": []
   },
   "outputs": [],
   "source": [
    "#turn on internet option in kernel\n",
    "!pip install bangla-stemmer\n",
    "from bangla_stemmer.stemmer import stemmer\n",
    "\n",
    "def Stemming(text):\n",
    "\n",
    "    x=str(text)\n",
    "    l=x.split()\n",
    "\n",
    "    stmr = stemmer.BanglaStemmer()\n",
    "    stm = stmr.stem(l)\n",
    "\n",
    "    out=' '.join(stm)\n",
    "\n",
    "    return out"
   ]
  },
  {
   "cell_type": "code",
   "execution_count": null,
   "id": "8cee01e1",
   "metadata": {
    "id": "WFayJrmd5-LY",
    "papermill": {
     "duration": null,
     "end_time": null,
     "exception": null,
     "start_time": null,
     "status": "pending"
    },
    "tags": []
   },
   "outputs": [],
   "source": [
    "ban_df1['Content'] = ban_df1['Content'].apply(Stemming)"
   ]
  },
  {
   "cell_type": "code",
   "execution_count": null,
   "id": "93d8936c",
   "metadata": {
    "executionInfo": {
     "elapsed": 456,
     "status": "ok",
     "timestamp": 1700823346025,
     "user": {
      "displayName": "Sadia Khatun",
      "userId": "02347170218959633251"
     },
     "user_tz": -360
    },
    "id": "VbOS8L2H-EIp",
    "outputId": "7f4364fd-438d-4ecd-c9da-aaa1d81cb1bc",
    "papermill": {
     "duration": null,
     "end_time": null,
     "exception": null,
     "start_time": null,
     "status": "pending"
    },
    "tags": []
   },
   "outputs": [],
   "source": [
    "ban_df1"
   ]
  },
  {
   "cell_type": "markdown",
   "id": "7e80d9ec",
   "metadata": {
    "id": "IvOSE3YeOElY",
    "papermill": {
     "duration": null,
     "end_time": null,
     "exception": null,
     "start_time": null,
     "status": "pending"
    },
    "tags": []
   },
   "source": [
    "# create X , y"
   ]
  },
  {
   "cell_type": "code",
   "execution_count": null,
   "id": "f480c6f9",
   "metadata": {
    "id": "6q5k6Qw3Nw0F",
    "papermill": {
     "duration": null,
     "end_time": null,
     "exception": null,
     "start_time": null,
     "status": "pending"
    },
    "tags": []
   },
   "outputs": [],
   "source": [
    "X= ban_df1['Content']\n",
    "y=ban_df1['label']"
   ]
  },
  {
   "cell_type": "code",
   "execution_count": null,
   "id": "2039d65a",
   "metadata": {
    "id": "wyvnWppG6EN-",
    "papermill": {
     "duration": null,
     "end_time": null,
     "exception": null,
     "start_time": null,
     "status": "pending"
    },
    "tags": []
   },
   "outputs": [],
   "source": [
    "X2\n",
    "y2"
   ]
  },
  {
   "cell_type": "markdown",
   "id": "1fc9806e",
   "metadata": {
    "id": "zMGVPr2ZOrLL",
    "papermill": {
     "duration": null,
     "end_time": null,
     "exception": null,
     "start_time": null,
     "status": "pending"
    },
    "tags": []
   },
   "source": [
    "# Feature extraction"
   ]
  },
  {
   "cell_type": "markdown",
   "id": "cc3760be",
   "metadata": {
    "id": "MNHAWKW0Q2HR",
    "papermill": {
     "duration": null,
     "end_time": null,
     "exception": null,
     "start_time": null,
     "status": "pending"
    },
    "tags": []
   },
   "source": [
    "## train"
   ]
  },
  {
   "cell_type": "code",
   "execution_count": null,
   "id": "2256e9c2",
   "metadata": {
    "id": "pv7r-1BnOqtY",
    "papermill": {
     "duration": null,
     "end_time": null,
     "exception": null,
     "start_time": null,
     "status": "pending"
    },
    "tags": []
   },
   "outputs": [],
   "source": [
    "from sklearn.feature_extraction.text import TfidfVectorizer"
   ]
  },
  {
   "cell_type": "code",
   "execution_count": null,
   "id": "7e6ca9a3",
   "metadata": {
    "id": "7F3wwTRDPlkT",
    "papermill": {
     "duration": null,
     "end_time": null,
     "exception": null,
     "start_time": null,
     "status": "pending"
    },
    "tags": []
   },
   "outputs": [],
   "source": [
    "Tf_Idf = TfidfVectorizer()\n",
    "X=Tf_Idf.fit_transform(X)"
   ]
  },
  {
   "cell_type": "code",
   "execution_count": null,
   "id": "0e064cd5",
   "metadata": {
    "executionInfo": {
     "elapsed": 430,
     "status": "ok",
     "timestamp": 1700823543623,
     "user": {
      "displayName": "Sadia Khatun",
      "userId": "02347170218959633251"
     },
     "user_tz": -360
    },
    "id": "djEMBZRBRKEM",
    "outputId": "300ee768-105a-4fda-da63-9156e39cfb36",
    "papermill": {
     "duration": null,
     "end_time": null,
     "exception": null,
     "start_time": null,
     "status": "pending"
    },
    "tags": []
   },
   "outputs": [],
   "source": [
    "X.shape"
   ]
  },
  {
   "cell_type": "markdown",
   "id": "cf9c1974",
   "metadata": {
    "id": "2rNqkv0_xdGA",
    "papermill": {
     "duration": null,
     "end_time": null,
     "exception": null,
     "start_time": null,
     "status": "pending"
    },
    "tags": []
   },
   "source": [
    "# train test split"
   ]
  },
  {
   "cell_type": "code",
   "execution_count": null,
   "id": "b4571628",
   "metadata": {
    "id": "K63J4CUexcuc",
    "papermill": {
     "duration": null,
     "end_time": null,
     "exception": null,
     "start_time": null,
     "status": "pending"
    },
    "tags": []
   },
   "outputs": [],
   "source": [
    "from sklearn.model_selection import train_test_split\n",
    "\n",
    "X_train,X_test, y_train,y_test = train_test_split(X,y,test_size=0.2, random_state=121, stratify=y)"
   ]
  },
  {
   "cell_type": "markdown",
   "id": "25842c92",
   "metadata": {
    "id": "l_tDF0LFRfRn",
    "papermill": {
     "duration": null,
     "end_time": null,
     "exception": null,
     "start_time": null,
     "status": "pending"
    },
    "tags": []
   },
   "source": [
    "# Logistic Regression"
   ]
  },
  {
   "cell_type": "code",
   "execution_count": null,
   "id": "b7464726",
   "metadata": {
    "executionInfo": {
     "elapsed": 1118,
     "status": "ok",
     "timestamp": 1700829150340,
     "user": {
      "displayName": "Sadia Khatun",
      "userId": "02347170218959633251"
     },
     "user_tz": -360
    },
    "id": "vHNf4IqZRbj5",
    "outputId": "9398921a-4518-426c-e038-2a8f2dc7e8c5",
    "papermill": {
     "duration": null,
     "end_time": null,
     "exception": null,
     "start_time": null,
     "status": "pending"
    },
    "tags": []
   },
   "outputs": [],
   "source": [
    "LR=LogisticRegression()\n",
    "LR.fit(X_train,y_train)"
   ]
  },
  {
   "cell_type": "code",
   "execution_count": null,
   "id": "fd649d61",
   "metadata": {
    "executionInfo": {
     "elapsed": 447,
     "status": "ok",
     "timestamp": 1700829163562,
     "user": {
      "displayName": "Sadia Khatun",
      "userId": "02347170218959633251"
     },
     "user_tz": -360
    },
    "id": "RLSnZhxfXeAm",
    "outputId": "2da5906f-8093-49d8-afa2-bc536854125a",
    "papermill": {
     "duration": null,
     "end_time": null,
     "exception": null,
     "start_time": null,
     "status": "pending"
    },
    "tags": []
   },
   "outputs": [],
   "source": [
    "y_pred_test1 = LR.predict(X_test)\n",
    "print(\"Test Accuracy:\", accuracy_score(y_test, y_pred_test1))\n",
    "print(\"Classification Report:\")\n",
    "print(classification_report(y_test, y_pred_test1))"
   ]
  },
  {
   "cell_type": "code",
   "execution_count": null,
   "id": "14a896a1",
   "metadata": {
    "executionInfo": {
     "elapsed": 416,
     "status": "ok",
     "timestamp": 1700829175746,
     "user": {
      "displayName": "Sadia Khatun",
      "userId": "02347170218959633251"
     },
     "user_tz": -360
    },
    "id": "Dx1wqPIpKL-s",
    "outputId": "197253bf-b220-4e08-a0e8-13673180fd5f",
    "papermill": {
     "duration": null,
     "end_time": null,
     "exception": null,
     "start_time": null,
     "status": "pending"
    },
    "tags": []
   },
   "outputs": [],
   "source": [
    "precision_score_LR=precision_score(y_test,y_pred_test1)\n",
    "recall_score_LR=recall_score(y_test,y_pred_test1)\n",
    "f1_score_LR=f1_score(y_test,y_pred_test1)\n",
    "\n",
    "print(precision_score_LR)\n",
    "print(recall_score_LR)\n",
    "print(f1_score_LR)"
   ]
  },
  {
   "cell_type": "code",
   "execution_count": null,
   "id": "25e418c0",
   "metadata": {
    "executionInfo": {
     "elapsed": 406,
     "status": "ok",
     "timestamp": 1700829227999,
     "user": {
      "displayName": "Sadia Khatun",
      "userId": "02347170218959633251"
     },
     "user_tz": -360
    },
    "id": "AVbA10qyP24o",
    "outputId": "1547d6fe-d58f-4209-a615-40e803702ccd",
    "papermill": {
     "duration": null,
     "end_time": null,
     "exception": null,
     "start_time": null,
     "status": "pending"
    },
    "tags": []
   },
   "outputs": [],
   "source": [
    "fpr_lr,tpr_lr,th_lr=roc_curve(y_test,y_pred_test1)\n",
    "fpr_lr,tpr_lr,th_lr"
   ]
  },
  {
   "cell_type": "markdown",
   "id": "8b222bce",
   "metadata": {
    "id": "xP2jQ0N2QYdH",
    "papermill": {
     "duration": null,
     "end_time": null,
     "exception": null,
     "start_time": null,
     "status": "pending"
    },
    "tags": []
   },
   "source": [
    "plot roc_curve"
   ]
  },
  {
   "cell_type": "markdown",
   "id": "e7144b7f",
   "metadata": {
    "id": "5bBz-uxChE-y",
    "papermill": {
     "duration": null,
     "end_time": null,
     "exception": null,
     "start_time": null,
     "status": "pending"
    },
    "tags": []
   },
   "source": [
    "#Random Forest"
   ]
  },
  {
   "cell_type": "code",
   "execution_count": null,
   "id": "8c05d0dd",
   "metadata": {
    "executionInfo": {
     "elapsed": 10020,
     "status": "ok",
     "timestamp": 1700829934559,
     "user": {
      "displayName": "Sadia Khatun",
      "userId": "02347170218959633251"
     },
     "user_tz": -360
    },
    "id": "N9PLfUByhBjk",
    "outputId": "bf34137b-35d5-4026-9b76-ecd38f96ff65",
    "papermill": {
     "duration": null,
     "end_time": null,
     "exception": null,
     "start_time": null,
     "status": "pending"
    },
    "tags": []
   },
   "outputs": [],
   "source": [
    "Rando = RandomForestClassifier(n_estimators=100,random_state=0)\n",
    "Rando.fit(X_train,y_train)"
   ]
  },
  {
   "cell_type": "code",
   "execution_count": null,
   "id": "37b2405a",
   "metadata": {
    "executionInfo": {
     "elapsed": 542,
     "status": "ok",
     "timestamp": 1700830016238,
     "user": {
      "displayName": "Sadia Khatun",
      "userId": "02347170218959633251"
     },
     "user_tz": -360
    },
    "id": "5yq-lH3ShIVs",
    "outputId": "e31d18f2-34b2-429a-c969-a0b50a140e6e",
    "papermill": {
     "duration": null,
     "end_time": null,
     "exception": null,
     "start_time": null,
     "status": "pending"
    },
    "tags": []
   },
   "outputs": [],
   "source": [
    "y_pred_test2 = Rando.predict(X_test)\n",
    "print(\"Training Accuracy:\", accuracy_score(y_test, y_pred_test2))\n",
    "\n",
    "print(\"Classification Report:\")\n",
    "print(classification_report(y_test, y_pred_test2))"
   ]
  },
  {
   "cell_type": "code",
   "execution_count": null,
   "id": "0ed94fa1",
   "metadata": {
    "executionInfo": {
     "elapsed": 4,
     "status": "ok",
     "timestamp": 1700830020101,
     "user": {
      "displayName": "Sadia Khatun",
      "userId": "02347170218959633251"
     },
     "user_tz": -360
    },
    "id": "QtK6P8jAU3wN",
    "outputId": "26b27786-ef3a-4bff-f4f9-66a4943f0a88",
    "papermill": {
     "duration": null,
     "end_time": null,
     "exception": null,
     "start_time": null,
     "status": "pending"
    },
    "tags": []
   },
   "outputs": [],
   "source": [
    "precision_score_Rf=precision_score(y_test,y_pred_test2)\n",
    "recall_score_Rf=recall_score(y_test,y_pred_test2)\n",
    "f1_score_Rf=f1_score(y_test,y_pred_test2)\n",
    "\n",
    "print(precision_score_Rf)\n",
    "print(recall_score_Rf)\n",
    "print(f1_score_Rf)"
   ]
  },
  {
   "cell_type": "code",
   "execution_count": null,
   "id": "fa15f154",
   "metadata": {
    "executionInfo": {
     "elapsed": 2196,
     "status": "ok",
     "timestamp": 1700830030791,
     "user": {
      "displayName": "Sadia Khatun",
      "userId": "02347170218959633251"
     },
     "user_tz": -360
    },
    "id": "GAElMUYIU69x",
    "outputId": "da72352c-addc-43c9-f2d7-78d0e32daf6a",
    "papermill": {
     "duration": null,
     "end_time": null,
     "exception": null,
     "start_time": null,
     "status": "pending"
    },
    "tags": []
   },
   "outputs": [],
   "source": [
    "fpr_rf,tpr_rf,th_rf=roc_curve(y_test,y_pred_test2)\n",
    "fpr_rf,tpr_rf,th_rf"
   ]
  },
  {
   "cell_type": "markdown",
   "id": "dab0cade",
   "metadata": {
    "id": "k8YOEFkf_1tI",
    "papermill": {
     "duration": null,
     "end_time": null,
     "exception": null,
     "start_time": null,
     "status": "pending"
    },
    "tags": []
   },
   "source": [
    "# Support vector machine"
   ]
  },
  {
   "cell_type": "code",
   "execution_count": null,
   "id": "ff4e0286",
   "metadata": {
    "executionInfo": {
     "elapsed": 30182,
     "status": "ok",
     "timestamp": 1700830336630,
     "user": {
      "displayName": "Sadia Khatun",
      "userId": "02347170218959633251"
     },
     "user_tz": -360
    },
    "id": "iLkzu8oEhZPf",
    "outputId": "cce4f069-9067-4de1-c58e-f948afbbdbb0",
    "papermill": {
     "duration": null,
     "end_time": null,
     "exception": null,
     "start_time": null,
     "status": "pending"
    },
    "tags": []
   },
   "outputs": [],
   "source": [
    "from sklearn.svm import SVC\n",
    "\n",
    "\n",
    "svm_clf=SVC()\n",
    "svm_clf.fit(X_train,y_train)\n"
   ]
  },
  {
   "cell_type": "code",
   "execution_count": null,
   "id": "11984fa3",
   "metadata": {
    "executionInfo": {
     "elapsed": 6023,
     "status": "ok",
     "timestamp": 1700830360363,
     "user": {
      "displayName": "Sadia Khatun",
      "userId": "02347170218959633251"
     },
     "user_tz": -360
    },
    "id": "LDlPzzXc_kXo",
    "outputId": "b7388084-20f9-48d3-fed2-19b8570b4a88",
    "papermill": {
     "duration": null,
     "end_time": null,
     "exception": null,
     "start_time": null,
     "status": "pending"
    },
    "tags": []
   },
   "outputs": [],
   "source": [
    "y_pred_test3 = svm_clf.predict(X_test)\n",
    "print(\"Test Accuracy:\", accuracy_score(y_test, y_pred_test3))\n",
    "print(\"Classification Report:\")\n",
    "print(classification_report(y_test, y_pred_test3))"
   ]
  },
  {
   "cell_type": "code",
   "execution_count": null,
   "id": "fc6f3de6",
   "metadata": {
    "executionInfo": {
     "elapsed": 8,
     "status": "ok",
     "timestamp": 1700830363372,
     "user": {
      "displayName": "Sadia Khatun",
      "userId": "02347170218959633251"
     },
     "user_tz": -360
    },
    "id": "ch6cbSVwXWj4",
    "outputId": "bb610f1e-729d-44b4-daed-5285d432bba3",
    "papermill": {
     "duration": null,
     "end_time": null,
     "exception": null,
     "start_time": null,
     "status": "pending"
    },
    "tags": []
   },
   "outputs": [],
   "source": [
    "precision_score_sv=precision_score(y_test,y_pred_test3)\n",
    "recall_score_sv=recall_score(y_test,y_pred_test3)\n",
    "f1_score_sv=f1_score(y_test,y_pred_test3)\n",
    "\n",
    "print(precision_score_sv)\n",
    "print(recall_score_sv)\n",
    "print(f1_score_sv)\n",
    "\n",
    "fpr_sv,tpr_sv,th_sv=roc_curve(y_test,y_pred_test3)\n",
    "fpr_sv,tpr_sv,th_sv"
   ]
  },
  {
   "cell_type": "markdown",
   "id": "a0bf4ffb",
   "metadata": {
    "id": "KgQGQEv__7WS",
    "papermill": {
     "duration": null,
     "end_time": null,
     "exception": null,
     "start_time": null,
     "status": "pending"
    },
    "tags": []
   },
   "source": [
    "# decision Tree"
   ]
  },
  {
   "cell_type": "code",
   "execution_count": null,
   "id": "df5f9c49",
   "metadata": {
    "executionInfo": {
     "elapsed": 6604,
     "status": "ok",
     "timestamp": 1700830557704,
     "user": {
      "displayName": "Sadia Khatun",
      "userId": "02347170218959633251"
     },
     "user_tz": -360
    },
    "id": "-aRDOYzO_1Im",
    "outputId": "c83eb6f0-9ba2-43bd-92f7-d96394526dfd",
    "papermill": {
     "duration": null,
     "end_time": null,
     "exception": null,
     "start_time": null,
     "status": "pending"
    },
    "tags": []
   },
   "outputs": [],
   "source": [
    "dt = DecisionTreeClassifier()\n",
    "dt.fit(X_train, y_train)\n",
    "\n",
    "y_pred_test4 = dt.predict(X_test)\n",
    "print(\"Test  Accuracy:\", accuracy_score(y_test, y_pred_test4))\n",
    "print(\"Classification Report:\")\n",
    "print(classification_report(y_test, y_pred_test4))"
   ]
  },
  {
   "cell_type": "code",
   "execution_count": null,
   "id": "ceae53b1",
   "metadata": {
    "executionInfo": {
     "elapsed": 445,
     "status": "ok",
     "timestamp": 1700830564508,
     "user": {
      "displayName": "Sadia Khatun",
      "userId": "02347170218959633251"
     },
     "user_tz": -360
    },
    "id": "FEPHbUuPYVW9",
    "outputId": "77a4f43e-4c51-47e3-bdf3-e82aeb062334",
    "papermill": {
     "duration": null,
     "end_time": null,
     "exception": null,
     "start_time": null,
     "status": "pending"
    },
    "tags": []
   },
   "outputs": [],
   "source": [
    "precision_score_dt=precision_score(y_test,y_pred_test4)\n",
    "recall_score_dt=recall_score(y_test,y_pred_test4)\n",
    "f1_score_dt=f1_score(y_test,y_pred_test4)\n",
    "\n",
    "print(precision_score_dt)\n",
    "print(recall_score_dt)\n",
    "print(f1_score_dt)\n",
    "\n",
    "fpr_dt,tpr_dt,th_dt=roc_curve(y_test,y_pred_test4)\n",
    "fpr_dt,tpr_dt,th_dt"
   ]
  },
  {
   "cell_type": "markdown",
   "id": "03c81414",
   "metadata": {
    "id": "DhdWZa-rALhb",
    "papermill": {
     "duration": null,
     "end_time": null,
     "exception": null,
     "start_time": null,
     "status": "pending"
    },
    "tags": []
   },
   "source": [
    "## AdaBoostingClassifiers"
   ]
  },
  {
   "cell_type": "code",
   "execution_count": null,
   "id": "a2b127b4",
   "metadata": {
    "executionInfo": {
     "elapsed": 11328,
     "status": "ok",
     "timestamp": 1700823945832,
     "user": {
      "displayName": "Sadia Khatun",
      "userId": "02347170218959633251"
     },
     "user_tz": -360
    },
    "id": "j8kmh3LTAPn7",
    "outputId": "9527a7f5-7c3e-42b6-dac5-8bb9696e4a2e",
    "papermill": {
     "duration": null,
     "end_time": null,
     "exception": null,
     "start_time": null,
     "status": "pending"
    },
    "tags": []
   },
   "outputs": [],
   "source": [
    "Adab = AdaBoostClassifier(DecisionTreeClassifier(max_depth=10),n_estimators=5,random_state=1)\n",
    "Adab.fit(X_train, y_train)"
   ]
  },
  {
   "cell_type": "code",
   "execution_count": null,
   "id": "1b4e2db6",
   "metadata": {
    "executionInfo": {
     "elapsed": 416,
     "status": "ok",
     "timestamp": 1700823968481,
     "user": {
      "displayName": "Sadia Khatun",
      "userId": "02347170218959633251"
     },
     "user_tz": -360
    },
    "id": "Xt2fpUW0AQCQ",
    "outputId": "f2957116-1af1-47f1-b095-32226f04faf5",
    "papermill": {
     "duration": null,
     "end_time": null,
     "exception": null,
     "start_time": null,
     "status": "pending"
    },
    "tags": []
   },
   "outputs": [],
   "source": [
    "y_pred_test = Adab.predict(X_test)\n",
    "print(\"testing Accuracy:\", accuracy_score(y_test, y_pred_test))\n",
    "print(\"Classification Report:\")\n",
    "print(classification_report(y_test, y_pred_test))"
   ]
  },
  {
   "cell_type": "markdown",
   "id": "5c26bf90",
   "metadata": {
    "id": "jUGC-v-rV85e",
    "papermill": {
     "duration": null,
     "end_time": null,
     "exception": null,
     "start_time": null,
     "status": "pending"
    },
    "tags": []
   },
   "source": [
    "## GradientBoostingClassifier"
   ]
  },
  {
   "cell_type": "code",
   "execution_count": null,
   "id": "cb584342",
   "metadata": {
    "executionInfo": {
     "elapsed": 9231,
     "status": "ok",
     "timestamp": 1700830577655,
     "user": {
      "displayName": "Sadia Khatun",
      "userId": "02347170218959633251"
     },
     "user_tz": -360
    },
    "id": "w4fLaLGiB6NE",
    "outputId": "047f6703-6ae2-4bc9-e6f7-366f9c18007b",
    "papermill": {
     "duration": null,
     "end_time": null,
     "exception": null,
     "start_time": null,
     "status": "pending"
    },
    "tags": []
   },
   "outputs": [],
   "source": [
    "from sklearn.ensemble import GradientBoostingClassifier\n",
    "\n",
    "GB_clf = GradientBoostingClassifier(max_depth=10,n_estimators=10, learning_rate=1.0,random_state=1)\n",
    "GB_clf.fit(X_train, y_train)\n",
    "\n",
    "y_pred_test5 = GB_clf.predict(X_test)\n",
    "print(\"Training Accuracy:\", accuracy_score(y_test, y_pred_test5))\n",
    "print(\"Classification Report:\")\n",
    "print(classification_report(y_test, y_pred_test5))"
   ]
  },
  {
   "cell_type": "code",
   "execution_count": null,
   "id": "0b811894",
   "metadata": {
    "executionInfo": {
     "elapsed": 425,
     "status": "ok",
     "timestamp": 1700830592494,
     "user": {
      "displayName": "Sadia Khatun",
      "userId": "02347170218959633251"
     },
     "user_tz": -360
    },
    "id": "KD5FBKkZZDyt",
    "outputId": "2fb5fa8e-2efa-450b-ccdc-7192c87d963c",
    "papermill": {
     "duration": null,
     "end_time": null,
     "exception": null,
     "start_time": null,
     "status": "pending"
    },
    "tags": []
   },
   "outputs": [],
   "source": [
    "precision_score_gb=precision_score(y_test,y_pred_test5)\n",
    "recall_score_gb=recall_score(y_test,y_pred_test5)\n",
    "f1_score_gb=f1_score(y_test,y_pred_test5)\n",
    "\n",
    "print(precision_score_gb)\n",
    "print(recall_score_gb)\n",
    "print(f1_score_gb)\n",
    "\n",
    "fpr_gb,tpr_gb,th_gb=roc_curve(y_test,y_pred_test5)\n",
    "fpr_gb,tpr_gb,th_gb"
   ]
  },
  {
   "cell_type": "markdown",
   "id": "66d3e008",
   "metadata": {
    "id": "N7N6GTI5Zh0m",
    "papermill": {
     "duration": null,
     "end_time": null,
     "exception": null,
     "start_time": null,
     "status": "pending"
    },
    "tags": []
   },
   "source": [
    "##  cross val"
   ]
  },
  {
   "cell_type": "code",
   "execution_count": null,
   "id": "13f9262b",
   "metadata": {
    "id": "38DRA3PoDmnT",
    "papermill": {
     "duration": null,
     "end_time": null,
     "exception": null,
     "start_time": null,
     "status": "pending"
    },
    "tags": []
   },
   "outputs": [],
   "source": [
    "rf_clf=RandomForestClassifier(n_estimators=100,random_state=0)\n",
    "svm_clf=SVC()\n",
    "GB_clf = GradientBoostingClassifier(max_depth=10,n_estimators=10, learning_rate=1.0,random_state=1)\n",
    "dt_clf = DecisionTreeClassifier()\n",
    "lr_clf=LogisticRegression()"
   ]
  },
  {
   "cell_type": "code",
   "execution_count": null,
   "id": "aa3f57c3",
   "metadata": {
    "executionInfo": {
     "elapsed": 90032,
     "status": "ok",
     "timestamp": 1700837181001,
     "user": {
      "displayName": "Sadia Khatun",
      "userId": "02347170218959633251"
     },
     "user_tz": -360
    },
    "id": "T_mSPgV_FRqV",
    "outputId": "1105482c-78ab-4ef8-a8ce-e8a0be82f02f",
    "papermill": {
     "duration": null,
     "end_time": null,
     "exception": null,
     "start_time": null,
     "status": "pending"
    },
    "tags": []
   },
   "outputs": [],
   "source": [
    "from sklearn.model_selection import cross_val_score\n",
    "\n",
    "models=[rf_clf,svm_clf,GB_clf,dt_clf,lr_clf]\n",
    "for model in models:\n",
    "   acc=cross_val_score(model,X_train ,y_train,cv=3,scoring=\"accuracy\")\n",
    "   print(f'model:{model}:accuracy{acc} \\n')"
   ]
  },
  {
   "cell_type": "code",
   "execution_count": null,
   "id": "7ac73637",
   "metadata": {
    "executionInfo": {
     "elapsed": 1151,
     "status": "ok",
     "timestamp": 1700835944957,
     "user": {
      "displayName": "Sadia Khatun",
      "userId": "02347170218959633251"
     },
     "user_tz": -360
    },
    "id": "od84xhDUYBhL",
    "outputId": "8333549e-8082-48fe-d35d-5baef5607258",
    "papermill": {
     "duration": null,
     "end_time": null,
     "exception": null,
     "start_time": null,
     "status": "pending"
    },
    "tags": []
   },
   "outputs": [],
   "source": [
    "#logistic regression\n",
    "plt.plot(fpr_lr,tpr_lr,label='LogisticRegression' ,\n",
    "         linewidth=2, color='C1')\n",
    "\n",
    "#support vactor machine\n",
    "plt.plot(fpr_sv,tpr_sv,label='support veactor machine' ,\n",
    "         linewidth=2, color='C3')\n",
    "\n",
    "#Decision Tree\n",
    "plt.plot(fpr_dt,tpr_dt,label='decision tree' ,\n",
    "         linewidth=2, color='C4')\n",
    "\n",
    "#random forest\n",
    "plt.plot(fpr_rf,tpr_rf,label='random Forest',\n",
    "         linewidth=2, color='C2')\n",
    "\n",
    "\n",
    "#GradientBoosting\n",
    "plt.plot(fpr_gb,tpr_gb,label='Gradient Boosting',\n",
    "         linewidth=2, color='C5')\n",
    "# #ada boost\n",
    "# plt.plot(fpr_lr,tpr_lr,label='LogisticRegression',linestyle=':' ,\n",
    "#          linewidth=2, color='C1')\n",
    "\n",
    "plt.plot([0,1],[0,1],'k--')\n",
    "plt.axis([0, 1, 0, 1])\n",
    "plt.ylabel('True Positive Rate(Recall)')\n",
    "plt.xlabel('False Positive Rate(Fall_out)')\n",
    "plt.legend(loc='lower right')\n",
    "plt.grid(True)\n",
    "plt.show()"
   ]
  }
 ],
 "metadata": {
  "colab": {
   "provenance": []
  },
  "kaggle": {
   "accelerator": "none",
   "dataSources": [
    {
     "datasetId": 618408,
     "sourceId": 2009678,
     "sourceType": "datasetVersion"
    }
   ],
   "isGpuEnabled": false,
   "isInternetEnabled": true,
   "language": "python",
   "sourceType": "notebook"
  },
  "kernelspec": {
   "display_name": "Python 3",
   "language": "python",
   "name": "python3"
  },
  "language_info": {
   "codemirror_mode": {
    "name": "ipython",
    "version": 3
   },
   "file_extension": ".py",
   "mimetype": "text/x-python",
   "name": "python",
   "nbconvert_exporter": "python",
   "pygments_lexer": "ipython3",
   "version": "3.10.12"
  },
  "papermill": {
   "default_parameters": {},
   "duration": 4.167806,
   "end_time": "2023-11-25T12:18:58.145183",
   "environment_variables": {},
   "exception": true,
   "input_path": "__notebook__.ipynb",
   "output_path": "__notebook__.ipynb",
   "parameters": {},
   "start_time": "2023-11-25T12:18:53.977377",
   "version": "2.4.0"
  }
 },
 "nbformat": 4,
 "nbformat_minor": 5
}
