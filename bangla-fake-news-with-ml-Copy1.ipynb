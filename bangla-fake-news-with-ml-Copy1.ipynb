{
 "cells": [
  {
   "cell_type": "code",
   "execution_count": 64,
   "id": "34c724fa",
   "metadata": {
    "id": "z5UwaI8rU-jO",
    "papermill": {
     "duration": null,
     "end_time": null,
     "exception": null,
     "start_time": null,
     "status": "pending"
    },
    "tags": []
   },
   "outputs": [],
   "source": [
    "import warnings\n",
    "warnings.filterwarnings('ignore')\n",
    "import pandas as pd\n",
    "import numpy as np\n",
    "import matplotlib.pyplot as plt\n",
    "import cufflinks as cf\n",
    "import plotly\n",
    "import plotly.express as px\n",
    "import seaborn as sns\n",
    "from sklearn.model_selection import train_test_split\n",
    "from sklearn.metrics import accuracy_score\n",
    "from sklearn.metrics import classification_report\n",
    "import re\n",
    "import string\n",
    "\n",
    "from nltk.stem.porter import PorterStemmer\n",
    "from wordcloud import WordCloud\n",
    "from sklearn.feature_extraction.text import TfidfVectorizer\n",
    "from sklearn.model_selection import train_test_split\n",
    "from sklearn import metrics\n",
    "from sklearn.ensemble import RandomForestClassifier, AdaBoostClassifier, GradientBoostingClassifier\n",
    "from sklearn.linear_model import LogisticRegression\n",
    "from sklearn.tree import DecisionTreeClassifier\n",
    "from sklearn.naive_bayes import MultinomialNB\n",
    "from sklearn import metrics\n",
    "from sklearn.linear_model import PassiveAggressiveClassifier\n",
    "from datetime import datetime\n",
    "from sklearn.feature_extraction.text import CountVectorizer\n",
    "from pandas import DataFrame\n",
    "from collections import OrderedDict\n",
    "\n",
    "from sklearn.metrics import precision_score,recall_score,f1_score,roc_curve"
   ]
  },
  {
   "cell_type": "code",
   "execution_count": 65,
   "id": "db608975",
   "metadata": {
    "id": "R13MczujvLMj",
    "papermill": {
     "duration": null,
     "end_time": null,
     "exception": null,
     "start_time": null,
     "status": "pending"
    },
    "tags": []
   },
   "outputs": [],
   "source": [
    "df_true = pd.read_csv(\"LabeledAuthentic-7K.csv\")\n",
    "df_false = pd.read_csv(\"LabeledFake-1K.csv\")"
   ]
  },
  {
   "cell_type": "code",
   "execution_count": null,
   "id": "90ea6f81",
   "metadata": {
    "id": "wclEybvNU9rz",
    "papermill": {
     "duration": null,
     "end_time": null,
     "exception": null,
     "start_time": null,
     "status": "pending"
    },
    "tags": []
   },
   "outputs": [],
   "source": []
  },
  {
   "cell_type": "code",
   "execution_count": 66,
   "id": "9d9d27c3",
   "metadata": {
    "executionInfo": {
     "elapsed": 645,
     "status": "ok",
     "timestamp": 1700808537949,
     "user": {
      "displayName": "Sadia Khatun",
      "userId": "02347170218959633251"
     },
     "user_tz": -360
    },
    "id": "w26NhJpFvLMk",
    "outputId": "85a2b8cc-baca-4435-f0b2-6387e035f34b",
    "papermill": {
     "duration": null,
     "end_time": null,
     "exception": null,
     "start_time": null,
     "status": "pending"
    },
    "tags": []
   },
   "outputs": [
    {
     "data": {
      "text/html": [
       "<div>\n",
       "<style scoped>\n",
       "    .dataframe tbody tr th:only-of-type {\n",
       "        vertical-align: middle;\n",
       "    }\n",
       "\n",
       "    .dataframe tbody tr th {\n",
       "        vertical-align: top;\n",
       "    }\n",
       "\n",
       "    .dataframe thead th {\n",
       "        text-align: right;\n",
       "    }\n",
       "</style>\n",
       "<table border=\"1\" class=\"dataframe\">\n",
       "  <thead>\n",
       "    <tr style=\"text-align: right;\">\n",
       "      <th></th>\n",
       "      <th>articleID</th>\n",
       "      <th>domain</th>\n",
       "      <th>date</th>\n",
       "      <th>category</th>\n",
       "      <th>source</th>\n",
       "      <th>relation</th>\n",
       "      <th>headline</th>\n",
       "      <th>content</th>\n",
       "      <th>label</th>\n",
       "    </tr>\n",
       "  </thead>\n",
       "  <tbody>\n",
       "    <tr>\n",
       "      <th>0</th>\n",
       "      <td>1</td>\n",
       "      <td>bd-pratidin.com</td>\n",
       "      <td>2018-09-20 08:16:43</td>\n",
       "      <td>Sports</td>\n",
       "      <td>আফগান ক্রিকেট বোর্ড (এসিবি) প্রধান</td>\n",
       "      <td>Related</td>\n",
       "      <td>হঠাৎ আফগান ক্রিকেট বোর্ড প্রধানের পদত্যাগ</td>\n",
       "      <td>ক্রিকেট বিশ্বের নতুন চমকের নাম আফগানিস্তান। কয়...</td>\n",
       "      <td>1.0</td>\n",
       "    </tr>\n",
       "    <tr>\n",
       "      <th>1</th>\n",
       "      <td>2</td>\n",
       "      <td>jugantor.com</td>\n",
       "      <td>2018-09-20 20:20:20</td>\n",
       "      <td>Sports</td>\n",
       "      <td>Reporter</td>\n",
       "      <td>Related</td>\n",
       "      <td>টস হেরে বোলিংয়ে বাংলাদেশ</td>\n",
       "      <td>এশিয়া কাপের ষষ্ঠ ম্যাচে বাংলাদেশ দলের বিপক্ষে ...</td>\n",
       "      <td>1.0</td>\n",
       "    </tr>\n",
       "  </tbody>\n",
       "</table>\n",
       "</div>"
      ],
      "text/plain": [
       "   articleID           domain                 date category  \\\n",
       "0          1  bd-pratidin.com  2018-09-20 08:16:43   Sports   \n",
       "1          2     jugantor.com  2018-09-20 20:20:20   Sports   \n",
       "\n",
       "                               source relation  \\\n",
       "0  আফগান ক্রিকেট বোর্ড (এসিবি) প্রধান  Related   \n",
       "1                            Reporter  Related   \n",
       "\n",
       "                                    headline  \\\n",
       "0  হঠাৎ আফগান ক্রিকেট বোর্ড প্রধানের পদত্যাগ   \n",
       "1                   টস হেরে বোলিংয়ে বাংলাদেশ   \n",
       "\n",
       "                                             content  label  \n",
       "0  ক্রিকেট বিশ্বের নতুন চমকের নাম আফগানিস্তান। কয়...    1.0  \n",
       "1  এশিয়া কাপের ষষ্ঠ ম্যাচে বাংলাদেশ দলের বিপক্ষে ...    1.0  "
      ]
     },
     "execution_count": 66,
     "metadata": {},
     "output_type": "execute_result"
    }
   ],
   "source": [
    "df_true.head(2)"
   ]
  },
  {
   "cell_type": "code",
   "execution_count": 67,
   "id": "e60bc41c",
   "metadata": {
    "executionInfo": {
     "elapsed": 477,
     "status": "ok",
     "timestamp": 1700808541197,
     "user": {
      "displayName": "Sadia Khatun",
      "userId": "02347170218959633251"
     },
     "user_tz": -360
    },
    "id": "GXzKtf9svLMk",
    "outputId": "cbaed7d4-6716-4c2f-8e67-484e326b9578",
    "papermill": {
     "duration": null,
     "end_time": null,
     "exception": null,
     "start_time": null,
     "status": "pending"
    },
    "tags": []
   },
   "outputs": [
    {
     "data": {
      "text/html": [
       "<div>\n",
       "<style scoped>\n",
       "    .dataframe tbody tr th:only-of-type {\n",
       "        vertical-align: middle;\n",
       "    }\n",
       "\n",
       "    .dataframe tbody tr th {\n",
       "        vertical-align: top;\n",
       "    }\n",
       "\n",
       "    .dataframe thead th {\n",
       "        text-align: right;\n",
       "    }\n",
       "</style>\n",
       "<table border=\"1\" class=\"dataframe\">\n",
       "  <thead>\n",
       "    <tr style=\"text-align: right;\">\n",
       "      <th></th>\n",
       "      <th>articleID</th>\n",
       "      <th>domain</th>\n",
       "      <th>date</th>\n",
       "      <th>category</th>\n",
       "      <th>source</th>\n",
       "      <th>relation</th>\n",
       "      <th>headline</th>\n",
       "      <th>content</th>\n",
       "      <th>label</th>\n",
       "      <th>F-type</th>\n",
       "    </tr>\n",
       "  </thead>\n",
       "  <tbody>\n",
       "    <tr>\n",
       "      <th>0</th>\n",
       "      <td>1</td>\n",
       "      <td>channeldhaka.news</td>\n",
       "      <td>2019-03-14T13:34:14+00:00</td>\n",
       "      <td>International</td>\n",
       "      <td>Reporter</td>\n",
       "      <td>Unrelated</td>\n",
       "      <td>মুরগির হামলায় শেয়াল নিহত</td>\n",
       "      <td>বাংলায় একটা প্রবাদ আছে, শেয়ালের কাছে মুরগী বর্...</td>\n",
       "      <td>0</td>\n",
       "      <td>Satire</td>\n",
       "    </tr>\n",
       "    <tr>\n",
       "      <th>1</th>\n",
       "      <td>2</td>\n",
       "      <td>earki.com</td>\n",
       "      <td>সেম্বর ১৭, ২০১৮</td>\n",
       "      <td>Miscellaneous</td>\n",
       "      <td>Reporter</td>\n",
       "      <td>Unrelated</td>\n",
       "      <td>বিটিভিতে যেবার আমি ইন্টারভিউ দিতে গেলাম</td>\n",
       "      <td>BTV থেকে লোকজন আসছে, ইন্টারভিউ নিবে।চারজনের টি...</td>\n",
       "      <td>0</td>\n",
       "      <td>Satire</td>\n",
       "    </tr>\n",
       "  </tbody>\n",
       "</table>\n",
       "</div>"
      ],
      "text/plain": [
       "   articleID             domain                       date       category  \\\n",
       "0          1  channeldhaka.news  2019-03-14T13:34:14+00:00  International   \n",
       "1          2          earki.com           সেম্বর ১৭, ২০১৮   Miscellaneous   \n",
       "\n",
       "     source   relation                                 headline  \\\n",
       "0  Reporter  Unrelated                 মুরগির হামলায় শেয়াল নিহত   \n",
       "1  Reporter  Unrelated  বিটিভিতে যেবার আমি ইন্টারভিউ দিতে গেলাম   \n",
       "\n",
       "                                             content  label  F-type  \n",
       "0  বাংলায় একটা প্রবাদ আছে, শেয়ালের কাছে মুরগী বর্...      0  Satire  \n",
       "1  BTV থেকে লোকজন আসছে, ইন্টারভিউ নিবে।চারজনের টি...      0  Satire  "
      ]
     },
     "execution_count": 67,
     "metadata": {},
     "output_type": "execute_result"
    }
   ],
   "source": [
    "df_false.head(2)"
   ]
  },
  {
   "cell_type": "code",
   "execution_count": 68,
   "id": "45de7440",
   "metadata": {
    "executionInfo": {
     "elapsed": 651,
     "status": "ok",
     "timestamp": 1700808543675,
     "user": {
      "displayName": "Sadia Khatun",
      "userId": "02347170218959633251"
     },
     "user_tz": -360
    },
    "id": "hzZFMZM4vLMl",
    "outputId": "7a631ea1-d2f4-4497-de67-b27114dae351",
    "papermill": {
     "duration": null,
     "end_time": null,
     "exception": null,
     "start_time": null,
     "status": "pending"
    },
    "tags": []
   },
   "outputs": [
    {
     "data": {
      "text/plain": [
       "Index(['articleID', 'domain', 'date', 'category', 'source', 'relation',\n",
       "       'headline', 'content', 'label'],\n",
       "      dtype='object')"
      ]
     },
     "execution_count": 68,
     "metadata": {},
     "output_type": "execute_result"
    }
   ],
   "source": [
    "df_true.columns"
   ]
  },
  {
   "cell_type": "code",
   "execution_count": 69,
   "id": "ff16cea4",
   "metadata": {
    "id": "95PS01JKvLMl",
    "papermill": {
     "duration": null,
     "end_time": null,
     "exception": null,
     "start_time": null,
     "status": "pending"
    },
    "tags": []
   },
   "outputs": [],
   "source": [
    "drop_col=['articleID', 'domain', 'date', 'category', 'source', 'relation']\n",
    "df_true=df_true.drop(['articleID', 'domain', 'date', 'category', 'source', 'relation'],axis='columns')"
   ]
  },
  {
   "cell_type": "code",
   "execution_count": 70,
   "id": "0d3cd69e",
   "metadata": {
    "executionInfo": {
     "elapsed": 586,
     "status": "ok",
     "timestamp": 1700808546534,
     "user": {
      "displayName": "Sadia Khatun",
      "userId": "02347170218959633251"
     },
     "user_tz": -360
    },
    "id": "sFqwzVe6vLMl",
    "outputId": "d831468f-ef58-4df4-e278-56c3c402ab43",
    "papermill": {
     "duration": null,
     "end_time": null,
     "exception": null,
     "start_time": null,
     "status": "pending"
    },
    "tags": []
   },
   "outputs": [
    {
     "data": {
      "text/plain": [
       "Index(['articleID', 'domain', 'date', 'category', 'source', 'relation',\n",
       "       'headline', 'content', 'label', 'F-type'],\n",
       "      dtype='object')"
      ]
     },
     "execution_count": 70,
     "metadata": {},
     "output_type": "execute_result"
    }
   ],
   "source": [
    "df_false.columns"
   ]
  },
  {
   "cell_type": "code",
   "execution_count": 71,
   "id": "8b3d2bab",
   "metadata": {
    "id": "k0xvad-RvLMm",
    "papermill": {
     "duration": null,
     "end_time": null,
     "exception": null,
     "start_time": null,
     "status": "pending"
    },
    "tags": []
   },
   "outputs": [],
   "source": [
    "df_false=df_false.drop(['articleID', 'domain', 'date', 'category', 'source', 'relation','F-type'],axis='columns')"
   ]
  },
  {
   "cell_type": "code",
   "execution_count": 72,
   "id": "bd76f383",
   "metadata": {
    "executionInfo": {
     "elapsed": 8,
     "status": "ok",
     "timestamp": 1700808550230,
     "user": {
      "displayName": "Sadia Khatun",
      "userId": "02347170218959633251"
     },
     "user_tz": -360
    },
    "id": "KC_PK5xDvLMm",
    "outputId": "b832f381-60be-45ec-a3ac-34e083a4aae2",
    "papermill": {
     "duration": null,
     "end_time": null,
     "exception": null,
     "start_time": null,
     "status": "pending"
    },
    "tags": []
   },
   "outputs": [
    {
     "data": {
      "text/html": [
       "<div>\n",
       "<style scoped>\n",
       "    .dataframe tbody tr th:only-of-type {\n",
       "        vertical-align: middle;\n",
       "    }\n",
       "\n",
       "    .dataframe tbody tr th {\n",
       "        vertical-align: top;\n",
       "    }\n",
       "\n",
       "    .dataframe thead th {\n",
       "        text-align: right;\n",
       "    }\n",
       "</style>\n",
       "<table border=\"1\" class=\"dataframe\">\n",
       "  <thead>\n",
       "    <tr style=\"text-align: right;\">\n",
       "      <th></th>\n",
       "      <th>headline</th>\n",
       "      <th>content</th>\n",
       "      <th>label</th>\n",
       "    </tr>\n",
       "  </thead>\n",
       "  <tbody>\n",
       "    <tr>\n",
       "      <th>0</th>\n",
       "      <td>মুরগির হামলায় শেয়াল নিহত</td>\n",
       "      <td>বাংলায় একটা প্রবাদ আছে, শেয়ালের কাছে মুরগী বর্...</td>\n",
       "      <td>0</td>\n",
       "    </tr>\n",
       "    <tr>\n",
       "      <th>1</th>\n",
       "      <td>বিটিভিতে যেবার আমি ইন্টারভিউ দিতে গেলাম</td>\n",
       "      <td>BTV থেকে লোকজন আসছে, ইন্টারভিউ নিবে।চারজনের টি...</td>\n",
       "      <td>0</td>\n",
       "    </tr>\n",
       "    <tr>\n",
       "      <th>2</th>\n",
       "      <td>বিদেশ থেকে উন্নতমানের বিরোধীদল আমদানি করার পরা...</td>\n",
       "      <td>অদ্ভুত বিরোধীদলহীনতায় ভুগছে সরকার। এ এক অন্যরক...</td>\n",
       "      <td>0</td>\n",
       "    </tr>\n",
       "    <tr>\n",
       "      <th>3</th>\n",
       "      <td>অবসর নেয়ার ঘোষণা দিলেন মেসি !</td>\n",
       "      <td>রাশিয়া বিশ্বকাপ নকআউট পর্বে ফ্রান্সের সাথে ৪-৩...</td>\n",
       "      <td>0</td>\n",
       "    </tr>\n",
       "    <tr>\n",
       "      <th>4</th>\n",
       "      <td>মাদারফাকার নহে, ব্রাদারফাকার: সাকা | দৈনিক মতি...</td>\n",
       "      <td>নিজস্ব মতিবেদক‘মাদারফাকার নহে, আমি ব্রাদারফাকা...</td>\n",
       "      <td>0</td>\n",
       "    </tr>\n",
       "    <tr>\n",
       "      <th>...</th>\n",
       "      <td>...</td>\n",
       "      <td>...</td>\n",
       "      <td>...</td>\n",
       "    </tr>\n",
       "    <tr>\n",
       "      <th>1294</th>\n",
       "      <td>রাজশাহীতে স্বামীর হাঁচির আওয়াজে ঘুমের মধ্যেই স...</td>\n",
       "      <td>রাজশাহীর সাহেব বাজার মোড়ে রাতে ঘুমের মধ্যে হাস...</td>\n",
       "      <td>0</td>\n",
       "    </tr>\n",
       "    <tr>\n",
       "      <th>1295</th>\n",
       "      <td>IAS ইন্টারভিউ এ মেয়েটিকে জিজ্ঞসা করা হল মেয়েদে...</td>\n",
       "      <td>IAS পরীক্ষায় এমন এমন অবাক করে দেওয়া প্রশ্ন এসে...</td>\n",
       "      <td>0</td>\n",
       "    </tr>\n",
       "    <tr>\n",
       "      <th>1296</th>\n",
       "      <td>শাওমি মোবাইল বিস্ফোরণে কলেজছাত্রের মৃত্যু!</td>\n",
       "      <td>শাওমি মোবাইল ফোন বিস্ফোরণ হয়ে স্বপ্নীল মজুমদা...</td>\n",
       "      <td>0</td>\n",
       "    </tr>\n",
       "    <tr>\n",
       "      <th>1297</th>\n",
       "      <td>ফেসবুকে যেভাবে নতুন মন্ত্রীদের অভিনন্দন বার্তা...</td>\n",
       "      <td>আপনাকে নতুন মন্ত্রিসভার সদস্যদের অভিনন্দন জানা...</td>\n",
       "      <td>0</td>\n",
       "    </tr>\n",
       "    <tr>\n",
       "      <th>1298</th>\n",
       "      <td>মাঝ আকাশে পর্ন দেখার অভিযোগে পাইলট আটক!</td>\n",
       "      <td>বিমান যখন আকাশে তখন আর কোনও দিকে খেয়াল না রেখ...</td>\n",
       "      <td>0</td>\n",
       "    </tr>\n",
       "  </tbody>\n",
       "</table>\n",
       "<p>1299 rows × 3 columns</p>\n",
       "</div>"
      ],
      "text/plain": [
       "                                               headline  \\\n",
       "0                              মুরগির হামলায় শেয়াল নিহত   \n",
       "1               বিটিভিতে যেবার আমি ইন্টারভিউ দিতে গেলাম   \n",
       "2     বিদেশ থেকে উন্নতমানের বিরোধীদল আমদানি করার পরা...   \n",
       "3                         অবসর নেয়ার ঘোষণা দিলেন মেসি !   \n",
       "4     মাদারফাকার নহে, ব্রাদারফাকার: সাকা | দৈনিক মতি...   \n",
       "...                                                 ...   \n",
       "1294  রাজশাহীতে স্বামীর হাঁচির আওয়াজে ঘুমের মধ্যেই স...   \n",
       "1295  IAS ইন্টারভিউ এ মেয়েটিকে জিজ্ঞসা করা হল মেয়েদে...   \n",
       "1296         শাওমি মোবাইল বিস্ফোরণে কলেজছাত্রের মৃত্যু!   \n",
       "1297  ফেসবুকে যেভাবে নতুন মন্ত্রীদের অভিনন্দন বার্তা...   \n",
       "1298            মাঝ আকাশে পর্ন দেখার অভিযোগে পাইলট আটক!   \n",
       "\n",
       "                                                content  label  \n",
       "0     বাংলায় একটা প্রবাদ আছে, শেয়ালের কাছে মুরগী বর্...      0  \n",
       "1     BTV থেকে লোকজন আসছে, ইন্টারভিউ নিবে।চারজনের টি...      0  \n",
       "2     অদ্ভুত বিরোধীদলহীনতায় ভুগছে সরকার। এ এক অন্যরক...      0  \n",
       "3     রাশিয়া বিশ্বকাপ নকআউট পর্বে ফ্রান্সের সাথে ৪-৩...      0  \n",
       "4     নিজস্ব মতিবেদক‘মাদারফাকার নহে, আমি ব্রাদারফাকা...      0  \n",
       "...                                                 ...    ...  \n",
       "1294  রাজশাহীর সাহেব বাজার মোড়ে রাতে ঘুমের মধ্যে হাস...      0  \n",
       "1295  IAS পরীক্ষায় এমন এমন অবাক করে দেওয়া প্রশ্ন এসে...      0  \n",
       "1296  শাওমি মোবাইল ফোন বিস্ফোরণ হয়ে স্বপ্নীল মজুমদা...      0  \n",
       "1297  আপনাকে নতুন মন্ত্রিসভার সদস্যদের অভিনন্দন জানা...      0  \n",
       "1298  বিমান যখন আকাশে তখন আর কোনও দিকে খেয়াল না রেখ...      0  \n",
       "\n",
       "[1299 rows x 3 columns]"
      ]
     },
     "execution_count": 72,
     "metadata": {},
     "output_type": "execute_result"
    }
   ],
   "source": [
    "df_false"
   ]
  },
  {
   "cell_type": "markdown",
   "id": "24965a83-11de-4a91-8e8f-401a42d783a5",
   "metadata": {},
   "source": [
    "# Distribution of Fake News and Real News"
   ]
  },
  {
   "cell_type": "code",
   "execution_count": 73,
   "id": "449fd893-0e36-4268-813a-c1efb80dbfb8",
   "metadata": {},
   "outputs": [
    {
     "data": {
      "text/plain": [
       "Text(0, 0.5, 'Proportion of News Articles')"
      ]
     },
     "execution_count": 73,
     "metadata": {},
     "output_type": "execute_result"
    },
    {
     "data": {
      "image/png": "[encoded data removed]",
      "text/plain": [
       "<Figure size 1000x500 with 1 Axes>"
      ]
     },
     "metadata": {},
     "output_type": "display_data"
    },
    {
     "data": {
      "image/png": "[encoded data removed]",
      "text/plain": [
       "<Figure size 1000x500 with 1 Axes>"
      ]
     },
     "metadata": {},
     "output_type": "display_data"
    }
   ],
   "source": [
    "plt.figure(figsize=(10, 5))\n",
    "plt.bar('Fake News', len(df_false), color='red')\n",
    "plt.bar('Real News', len(df_true), color='green')\n",
    "plt.title('Distribution of Fake News and Real News', size=15)\n",
    "plt.xlabel('News Type', size=15)\n",
    "plt.ylabel('Number of News Articles', size=15)\n",
    "\n",
    "\n",
    "total_len = len(df_false) + len(df_true)\n",
    "plt.figure(figsize=(10, 5))\n",
    "plt.bar('Fake News', len(df_false) / total_len, color='red')\n",
    "plt.bar('Real News', len(df_true) / total_len, color='green')\n",
    "plt.title('Distribution of Fake News and Real News', size=15)\n",
    "plt.xlabel('News Type', size=15)\n",
    "plt.ylabel('Proportion of News Articles', size=15)"
   ]
  },
  {
   "cell_type": "code",
   "execution_count": 74,
   "id": "7457d712",
   "metadata": {
    "id": "l95OggFJvLMm",
    "papermill": {
     "duration": null,
     "end_time": null,
     "exception": null,
     "start_time": null,
     "status": "pending"
    },
    "tags": []
   },
   "outputs": [],
   "source": [
    "ban_df=pd.concat([df_true,df_false],axis=0)"
   ]
  },
  {
   "cell_type": "code",
   "execution_count": 75,
   "id": "98f3352b",
   "metadata": {
    "executionInfo": {
     "elapsed": 605,
     "status": "ok",
     "timestamp": 1700819775132,
     "user": {
      "displayName": "Sadia Khatun",
      "userId": "02347170218959633251"
     },
     "user_tz": -360
    },
    "id": "fRryzpgxvLMn",
    "outputId": "cd5aa7f8-3040-4465-8b08-7a2350c4c76f",
    "papermill": {
     "duration": null,
     "end_time": null,
     "exception": null,
     "start_time": null,
     "status": "pending"
    },
    "tags": []
   },
   "outputs": [
    {
     "data": {
      "text/html": [
       "<div>\n",
       "<style scoped>\n",
       "    .dataframe tbody tr th:only-of-type {\n",
       "        vertical-align: middle;\n",
       "    }\n",
       "\n",
       "    .dataframe tbody tr th {\n",
       "        vertical-align: top;\n",
       "    }\n",
       "\n",
       "    .dataframe thead th {\n",
       "        text-align: right;\n",
       "    }\n",
       "</style>\n",
       "<table border=\"1\" class=\"dataframe\">\n",
       "  <thead>\n",
       "    <tr style=\"text-align: right;\">\n",
       "      <th></th>\n",
       "      <th>headline</th>\n",
       "      <th>content</th>\n",
       "      <th>label</th>\n",
       "    </tr>\n",
       "  </thead>\n",
       "  <tbody>\n",
       "    <tr>\n",
       "      <th>0</th>\n",
       "      <td>হঠাৎ আফগান ক্রিকেট বোর্ড প্রধানের পদত্যাগ</td>\n",
       "      <td>ক্রিকেট বিশ্বের নতুন চমকের নাম আফগানিস্তান। কয়...</td>\n",
       "      <td>1.0</td>\n",
       "    </tr>\n",
       "    <tr>\n",
       "      <th>1</th>\n",
       "      <td>টস হেরে বোলিংয়ে বাংলাদেশ</td>\n",
       "      <td>এশিয়া কাপের ষষ্ঠ ম্যাচে বাংলাদেশ দলের বিপক্ষে ...</td>\n",
       "      <td>1.0</td>\n",
       "    </tr>\n",
       "    <tr>\n",
       "      <th>2</th>\n",
       "      <td>রাজধানীতে বিশেষ অভিযানে আটক ৪৩</td>\n",
       "      <td>রাজধানীতে মাদক বিরোধী বিশেষ অভিযান পরিচালনা কর...</td>\n",
       "      <td>1.0</td>\n",
       "    </tr>\n",
       "  </tbody>\n",
       "</table>\n",
       "</div>"
      ],
      "text/plain": [
       "                                    headline  \\\n",
       "0  হঠাৎ আফগান ক্রিকেট বোর্ড প্রধানের পদত্যাগ   \n",
       "1                   টস হেরে বোলিংয়ে বাংলাদেশ   \n",
       "2             রাজধানীতে বিশেষ অভিযানে আটক ৪৩   \n",
       "\n",
       "                                             content  label  \n",
       "0  ক্রিকেট বিশ্বের নতুন চমকের নাম আফগানিস্তান। কয়...    1.0  \n",
       "1  এশিয়া কাপের ষষ্ঠ ম্যাচে বাংলাদেশ দলের বিপক্ষে ...    1.0  \n",
       "2  রাজধানীতে মাদক বিরোধী বিশেষ অভিযান পরিচালনা কর...    1.0  "
      ]
     },
     "execution_count": 75,
     "metadata": {},
     "output_type": "execute_result"
    }
   ],
   "source": [
    "ban_df.head(3)"
   ]
  },
  {
   "cell_type": "code",
   "execution_count": 76,
   "id": "6bb935e9",
   "metadata": {
    "executionInfo": {
     "elapsed": 5,
     "status": "ok",
     "timestamp": 1700808583629,
     "user": {
      "displayName": "Sadia Khatun",
      "userId": "02347170218959633251"
     },
     "user_tz": -360
    },
    "id": "0ilEey5QvLMn",
    "outputId": "75d97302-2fb9-4a34-e08f-455d74c51004",
    "papermill": {
     "duration": null,
     "end_time": null,
     "exception": null,
     "start_time": null,
     "status": "pending"
    },
    "tags": []
   },
   "outputs": [
    {
     "data": {
      "text/plain": [
       "(8501, 3)"
      ]
     },
     "execution_count": 76,
     "metadata": {},
     "output_type": "execute_result"
    }
   ],
   "source": [
    "ban_df.shape"
   ]
  },
  {
   "cell_type": "code",
   "execution_count": 77,
   "id": "a4e37946",
   "metadata": {
    "executionInfo": {
     "elapsed": 407,
     "status": "ok",
     "timestamp": 1700808586292,
     "user": {
      "displayName": "Sadia Khatun",
      "userId": "02347170218959633251"
     },
     "user_tz": -360
    },
    "id": "s1TU-vYcvLMn",
    "outputId": "b97e71c1-6906-4692-dae9-2b97b1971f61",
    "papermill": {
     "duration": null,
     "end_time": null,
     "exception": null,
     "start_time": null,
     "status": "pending"
    },
    "tags": []
   },
   "outputs": [
    {
     "data": {
      "text/plain": [
       "headline    0\n",
       "content     0\n",
       "label       0\n",
       "dtype: int64"
      ]
     },
     "execution_count": 77,
     "metadata": {},
     "output_type": "execute_result"
    }
   ],
   "source": [
    "ban_df.isnull().sum()"
   ]
  },
  {
   "cell_type": "code",
   "execution_count": 78,
   "id": "af1529ee",
   "metadata": {
    "executionInfo": {
     "elapsed": 703,
     "status": "ok",
     "timestamp": 1700808589816,
     "user": {
      "displayName": "Sadia Khatun",
      "userId": "02347170218959633251"
     },
     "user_tz": -360
    },
    "id": "ZEktJITsvLMo",
    "outputId": "8ec887a6-0e5a-41e3-f2ab-7b584047ee87",
    "papermill": {
     "duration": null,
     "end_time": null,
     "exception": null,
     "start_time": null,
     "status": "pending"
    },
    "tags": []
   },
   "outputs": [
    {
     "data": {
      "text/plain": [
       "0"
      ]
     },
     "execution_count": 78,
     "metadata": {},
     "output_type": "execute_result"
    }
   ],
   "source": [
    "ban_df.duplicated().sum()"
   ]
  },
  {
   "cell_type": "code",
   "execution_count": 79,
   "id": "31983b8f",
   "metadata": {
    "id": "aNYqCKPTvLMo",
    "papermill": {
     "duration": null,
     "end_time": null,
     "exception": null,
     "start_time": null,
     "status": "pending"
    },
    "tags": []
   },
   "outputs": [],
   "source": [
    "ban_df['Content'] = ban_df['headline'] + ban_df['content']"
   ]
  },
  {
   "cell_type": "code",
   "execution_count": 80,
   "id": "09b5101a",
   "metadata": {
    "executionInfo": {
     "elapsed": 417,
     "status": "ok",
     "timestamp": 1700808594086,
     "user": {
      "displayName": "Sadia Khatun",
      "userId": "02347170218959633251"
     },
     "user_tz": -360
    },
    "id": "YxNGSkd5vLMp",
    "outputId": "d01642f7-29e4-41b7-8138-21f9a4b79a3f",
    "papermill": {
     "duration": null,
     "end_time": null,
     "exception": null,
     "start_time": null,
     "status": "pending"
    },
    "tags": []
   },
   "outputs": [
    {
     "data": {
      "text/html": [
       "<div>\n",
       "<style scoped>\n",
       "    .dataframe tbody tr th:only-of-type {\n",
       "        vertical-align: middle;\n",
       "    }\n",
       "\n",
       "    .dataframe tbody tr th {\n",
       "        vertical-align: top;\n",
       "    }\n",
       "\n",
       "    .dataframe thead th {\n",
       "        text-align: right;\n",
       "    }\n",
       "</style>\n",
       "<table border=\"1\" class=\"dataframe\">\n",
       "  <thead>\n",
       "    <tr style=\"text-align: right;\">\n",
       "      <th></th>\n",
       "      <th>headline</th>\n",
       "      <th>content</th>\n",
       "      <th>label</th>\n",
       "      <th>Content</th>\n",
       "    </tr>\n",
       "  </thead>\n",
       "  <tbody>\n",
       "    <tr>\n",
       "      <th>0</th>\n",
       "      <td>হঠাৎ আফগান ক্রিকেট বোর্ড প্রধানের পদত্যাগ</td>\n",
       "      <td>ক্রিকেট বিশ্বের নতুন চমকের নাম আফগানিস্তান। কয়...</td>\n",
       "      <td>1.0</td>\n",
       "      <td>হঠাৎ আফগান ক্রিকেট বোর্ড প্রধানের পদত্যাগক্রিক...</td>\n",
       "    </tr>\n",
       "    <tr>\n",
       "      <th>1</th>\n",
       "      <td>টস হেরে বোলিংয়ে বাংলাদেশ</td>\n",
       "      <td>এশিয়া কাপের ষষ্ঠ ম্যাচে বাংলাদেশ দলের বিপক্ষে ...</td>\n",
       "      <td>1.0</td>\n",
       "      <td>টস হেরে বোলিংয়ে বাংলাদেশএশিয়া কাপের ষষ্ঠ ম্যাচ...</td>\n",
       "    </tr>\n",
       "    <tr>\n",
       "      <th>2</th>\n",
       "      <td>রাজধানীতে বিশেষ অভিযানে আটক ৪৩</td>\n",
       "      <td>রাজধানীতে মাদক বিরোধী বিশেষ অভিযান পরিচালনা কর...</td>\n",
       "      <td>1.0</td>\n",
       "      <td>রাজধানীতে বিশেষ অভিযানে আটক ৪৩রাজধানীতে মাদক ব...</td>\n",
       "    </tr>\n",
       "    <tr>\n",
       "      <th>3</th>\n",
       "      <td>উস্কানি রোধে নজরদারি থাকবে সামাজিক যোগাযোগ মাধ...</td>\n",
       "      <td>সনাতন ধর্মাবলম্বীদের সবচেয়ে বড় ধর্মীয় উৎসব দুর...</td>\n",
       "      <td>1.0</td>\n",
       "      <td>উস্কানি রোধে নজরদারি থাকবে সামাজিক যোগাযোগ মাধ...</td>\n",
       "    </tr>\n",
       "    <tr>\n",
       "      <th>4</th>\n",
       "      <td>'যেখানে তেল আসত ৭ দিনে, এখন তা আসবে অতি দ্রুত'</td>\n",
       "      <td>ভারত থেকে পাইপ লাইনের মাধ্যমে সরাসরি দেশে জ্বা...</td>\n",
       "      <td>1.0</td>\n",
       "      <td>'যেখানে তেল আসত ৭ দিনে, এখন তা আসবে অতি দ্রুত'...</td>\n",
       "    </tr>\n",
       "  </tbody>\n",
       "</table>\n",
       "</div>"
      ],
      "text/plain": [
       "                                            headline  \\\n",
       "0          হঠাৎ আফগান ক্রিকেট বোর্ড প্রধানের পদত্যাগ   \n",
       "1                           টস হেরে বোলিংয়ে বাংলাদেশ   \n",
       "2                     রাজধানীতে বিশেষ অভিযানে আটক ৪৩   \n",
       "3  উস্কানি রোধে নজরদারি থাকবে সামাজিক যোগাযোগ মাধ...   \n",
       "4     'যেখানে তেল আসত ৭ দিনে, এখন তা আসবে অতি দ্রুত'   \n",
       "\n",
       "                                             content  label  \\\n",
       "0  ক্রিকেট বিশ্বের নতুন চমকের নাম আফগানিস্তান। কয়...    1.0   \n",
       "1  এশিয়া কাপের ষষ্ঠ ম্যাচে বাংলাদেশ দলের বিপক্ষে ...    1.0   \n",
       "2  রাজধানীতে মাদক বিরোধী বিশেষ অভিযান পরিচালনা কর...    1.0   \n",
       "3  সনাতন ধর্মাবলম্বীদের সবচেয়ে বড় ধর্মীয় উৎসব দুর...    1.0   \n",
       "4  ভারত থেকে পাইপ লাইনের মাধ্যমে সরাসরি দেশে জ্বা...    1.0   \n",
       "\n",
       "                                             Content  \n",
       "0  হঠাৎ আফগান ক্রিকেট বোর্ড প্রধানের পদত্যাগক্রিক...  \n",
       "1  টস হেরে বোলিংয়ে বাংলাদেশএশিয়া কাপের ষষ্ঠ ম্যাচ...  \n",
       "2  রাজধানীতে বিশেষ অভিযানে আটক ৪৩রাজধানীতে মাদক ব...  \n",
       "3  উস্কানি রোধে নজরদারি থাকবে সামাজিক যোগাযোগ মাধ...  \n",
       "4  'যেখানে তেল আসত ৭ দিনে, এখন তা আসবে অতি দ্রুত'...  "
      ]
     },
     "execution_count": 80,
     "metadata": {},
     "output_type": "execute_result"
    }
   ],
   "source": [
    "ban_df.head()"
   ]
  },
  {
   "cell_type": "code",
   "execution_count": 81,
   "id": "fa0370dd",
   "metadata": {
    "id": "VwEmdP-YvLMp",
    "papermill": {
     "duration": null,
     "end_time": null,
     "exception": null,
     "start_time": null,
     "status": "pending"
    },
    "tags": []
   },
   "outputs": [],
   "source": [
    "ban_df1=ban_df.drop(['headline','content'],axis='columns')"
   ]
  },
  {
   "cell_type": "code",
   "execution_count": 82,
   "id": "87838560",
   "metadata": {
    "executionInfo": {
     "elapsed": 601,
     "status": "ok",
     "timestamp": 1700819881987,
     "user": {
      "displayName": "Sadia Khatun",
      "userId": "02347170218959633251"
     },
     "user_tz": -360
    },
    "id": "MLps8M9YvLMp",
    "outputId": "f82137f2-6b63-4fe8-8943-3eaf97f3feea",
    "papermill": {
     "duration": null,
     "end_time": null,
     "exception": null,
     "start_time": null,
     "status": "pending"
    },
    "tags": []
   },
   "outputs": [
    {
     "data": {
      "text/html": [
       "<div>\n",
       "<style scoped>\n",
       "    .dataframe tbody tr th:only-of-type {\n",
       "        vertical-align: middle;\n",
       "    }\n",
       "\n",
       "    .dataframe tbody tr th {\n",
       "        vertical-align: top;\n",
       "    }\n",
       "\n",
       "    .dataframe thead th {\n",
       "        text-align: right;\n",
       "    }\n",
       "</style>\n",
       "<table border=\"1\" class=\"dataframe\">\n",
       "  <thead>\n",
       "    <tr style=\"text-align: right;\">\n",
       "      <th></th>\n",
       "      <th>headline</th>\n",
       "      <th>content</th>\n",
       "      <th>label</th>\n",
       "      <th>Content</th>\n",
       "    </tr>\n",
       "  </thead>\n",
       "  <tbody>\n",
       "    <tr>\n",
       "      <th>0</th>\n",
       "      <td>হঠাৎ আফগান ক্রিকেট বোর্ড প্রধানের পদত্যাগ</td>\n",
       "      <td>ক্রিকেট বিশ্বের নতুন চমকের নাম আফগানিস্তান। কয়...</td>\n",
       "      <td>1.0</td>\n",
       "      <td>হঠাৎ আফগান ক্রিকেট বোর্ড প্রধানের পদত্যাগক্রিক...</td>\n",
       "    </tr>\n",
       "    <tr>\n",
       "      <th>1</th>\n",
       "      <td>টস হেরে বোলিংয়ে বাংলাদেশ</td>\n",
       "      <td>এশিয়া কাপের ষষ্ঠ ম্যাচে বাংলাদেশ দলের বিপক্ষে ...</td>\n",
       "      <td>1.0</td>\n",
       "      <td>টস হেরে বোলিংয়ে বাংলাদেশএশিয়া কাপের ষষ্ঠ ম্যাচ...</td>\n",
       "    </tr>\n",
       "    <tr>\n",
       "      <th>2</th>\n",
       "      <td>রাজধানীতে বিশেষ অভিযানে আটক ৪৩</td>\n",
       "      <td>রাজধানীতে মাদক বিরোধী বিশেষ অভিযান পরিচালনা কর...</td>\n",
       "      <td>1.0</td>\n",
       "      <td>রাজধানীতে বিশেষ অভিযানে আটক ৪৩রাজধানীতে মাদক ব...</td>\n",
       "    </tr>\n",
       "    <tr>\n",
       "      <th>3</th>\n",
       "      <td>উস্কানি রোধে নজরদারি থাকবে সামাজিক যোগাযোগ মাধ...</td>\n",
       "      <td>সনাতন ধর্মাবলম্বীদের সবচেয়ে বড় ধর্মীয় উৎসব দুর...</td>\n",
       "      <td>1.0</td>\n",
       "      <td>উস্কানি রোধে নজরদারি থাকবে সামাজিক যোগাযোগ মাধ...</td>\n",
       "    </tr>\n",
       "    <tr>\n",
       "      <th>4</th>\n",
       "      <td>'যেখানে তেল আসত ৭ দিনে, এখন তা আসবে অতি দ্রুত'</td>\n",
       "      <td>ভারত থেকে পাইপ লাইনের মাধ্যমে সরাসরি দেশে জ্বা...</td>\n",
       "      <td>1.0</td>\n",
       "      <td>'যেখানে তেল আসত ৭ দিনে, এখন তা আসবে অতি দ্রুত'...</td>\n",
       "    </tr>\n",
       "  </tbody>\n",
       "</table>\n",
       "</div>"
      ],
      "text/plain": [
       "                                            headline  \\\n",
       "0          হঠাৎ আফগান ক্রিকেট বোর্ড প্রধানের পদত্যাগ   \n",
       "1                           টস হেরে বোলিংয়ে বাংলাদেশ   \n",
       "2                     রাজধানীতে বিশেষ অভিযানে আটক ৪৩   \n",
       "3  উস্কানি রোধে নজরদারি থাকবে সামাজিক যোগাযোগ মাধ...   \n",
       "4     'যেখানে তেল আসত ৭ দিনে, এখন তা আসবে অতি দ্রুত'   \n",
       "\n",
       "                                             content  label  \\\n",
       "0  ক্রিকেট বিশ্বের নতুন চমকের নাম আফগানিস্তান। কয়...    1.0   \n",
       "1  এশিয়া কাপের ষষ্ঠ ম্যাচে বাংলাদেশ দলের বিপক্ষে ...    1.0   \n",
       "2  রাজধানীতে মাদক বিরোধী বিশেষ অভিযান পরিচালনা কর...    1.0   \n",
       "3  সনাতন ধর্মাবলম্বীদের সবচেয়ে বড় ধর্মীয় উৎসব দুর...    1.0   \n",
       "4  ভারত থেকে পাইপ লাইনের মাধ্যমে সরাসরি দেশে জ্বা...    1.0   \n",
       "\n",
       "                                             Content  \n",
       "0  হঠাৎ আফগান ক্রিকেট বোর্ড প্রধানের পদত্যাগক্রিক...  \n",
       "1  টস হেরে বোলিংয়ে বাংলাদেশএশিয়া কাপের ষষ্ঠ ম্যাচ...  \n",
       "2  রাজধানীতে বিশেষ অভিযানে আটক ৪৩রাজধানীতে মাদক ব...  \n",
       "3  উস্কানি রোধে নজরদারি থাকবে সামাজিক যোগাযোগ মাধ...  \n",
       "4  'যেখানে তেল আসত ৭ দিনে, এখন তা আসবে অতি দ্রুত'...  "
      ]
     },
     "execution_count": 82,
     "metadata": {},
     "output_type": "execute_result"
    }
   ],
   "source": [
    "ban_df.head()"
   ]
  },
  {
   "cell_type": "code",
   "execution_count": 83,
   "id": "1798d5b9",
   "metadata": {
    "executionInfo": {
     "elapsed": 609,
     "status": "ok",
     "timestamp": 1700819894519,
     "user": {
      "displayName": "Sadia Khatun",
      "userId": "02347170218959633251"
     },
     "user_tz": -360
    },
    "id": "n29qIxC8J39I",
    "outputId": "dc0f16fc-7e27-4b96-fafa-68ad665eca6f",
    "papermill": {
     "duration": null,
     "end_time": null,
     "exception": null,
     "start_time": null,
     "status": "pending"
    },
    "tags": []
   },
   "outputs": [
    {
     "data": {
      "text/html": [
       "<div>\n",
       "<style scoped>\n",
       "    .dataframe tbody tr th:only-of-type {\n",
       "        vertical-align: middle;\n",
       "    }\n",
       "\n",
       "    .dataframe tbody tr th {\n",
       "        vertical-align: top;\n",
       "    }\n",
       "\n",
       "    .dataframe thead th {\n",
       "        text-align: right;\n",
       "    }\n",
       "</style>\n",
       "<table border=\"1\" class=\"dataframe\">\n",
       "  <thead>\n",
       "    <tr style=\"text-align: right;\">\n",
       "      <th></th>\n",
       "      <th>label</th>\n",
       "      <th>Content</th>\n",
       "    </tr>\n",
       "  </thead>\n",
       "  <tbody>\n",
       "    <tr>\n",
       "      <th>0</th>\n",
       "      <td>1.0</td>\n",
       "      <td>হঠাৎ আফগান ক্রিকেট বোর্ড প্রধানের পদত্যাগক্রিক...</td>\n",
       "    </tr>\n",
       "    <tr>\n",
       "      <th>1</th>\n",
       "      <td>1.0</td>\n",
       "      <td>টস হেরে বোলিংয়ে বাংলাদেশএশিয়া কাপের ষষ্ঠ ম্যাচ...</td>\n",
       "    </tr>\n",
       "    <tr>\n",
       "      <th>2</th>\n",
       "      <td>1.0</td>\n",
       "      <td>রাজধানীতে বিশেষ অভিযানে আটক ৪৩রাজধানীতে মাদক ব...</td>\n",
       "    </tr>\n",
       "    <tr>\n",
       "      <th>3</th>\n",
       "      <td>1.0</td>\n",
       "      <td>উস্কানি রোধে নজরদারি থাকবে সামাজিক যোগাযোগ মাধ...</td>\n",
       "    </tr>\n",
       "    <tr>\n",
       "      <th>4</th>\n",
       "      <td>1.0</td>\n",
       "      <td>'যেখানে তেল আসত ৭ দিনে, এখন তা আসবে অতি দ্রুত'...</td>\n",
       "    </tr>\n",
       "  </tbody>\n",
       "</table>\n",
       "</div>"
      ],
      "text/plain": [
       "   label                                            Content\n",
       "0    1.0  হঠাৎ আফগান ক্রিকেট বোর্ড প্রধানের পদত্যাগক্রিক...\n",
       "1    1.0  টস হেরে বোলিংয়ে বাংলাদেশএশিয়া কাপের ষষ্ঠ ম্যাচ...\n",
       "2    1.0  রাজধানীতে বিশেষ অভিযানে আটক ৪৩রাজধানীতে মাদক ব...\n",
       "3    1.0  উস্কানি রোধে নজরদারি থাকবে সামাজিক যোগাযোগ মাধ...\n",
       "4    1.0  'যেখানে তেল আসত ৭ দিনে, এখন তা আসবে অতি দ্রুত'..."
      ]
     },
     "execution_count": 83,
     "metadata": {},
     "output_type": "execute_result"
    }
   ],
   "source": [
    "ban_df1.head()"
   ]
  },
  {
   "cell_type": "code",
   "execution_count": 84,
   "id": "5f0bdfb1",
   "metadata": {
    "id": "pbh5vY5bFU6G",
    "papermill": {
     "duration": null,
     "end_time": null,
     "exception": null,
     "start_time": null,
     "status": "pending"
    },
    "tags": []
   },
   "outputs": [],
   "source": [
    "ban_df2=ban_df.drop(['headline','content'],axis='columns')"
   ]
  },
  {
   "cell_type": "code",
   "execution_count": null,
   "id": "5ccb3064-9a43-4dca-8f77-21cc35a8a32e",
   "metadata": {},
   "outputs": [],
   "source": []
  },
  {
   "cell_type": "markdown",
   "id": "1d1b15a4",
   "metadata": {
    "id": "W34w6QkaxOfI",
    "papermill": {
     "duration": null,
     "end_time": null,
     "exception": null,
     "start_time": null,
     "status": "pending"
    },
    "tags": []
   },
   "source": [
    "# Creating a function to convert the text in lowercase, remove the extra space, special characeters, url and links"
   ]
  },
  {
   "cell_type": "code",
   "execution_count": 85,
   "id": "7b61353a",
   "metadata": {
    "id": "6sVva4urvw4y",
    "papermill": {
     "duration": null,
     "end_time": null,
     "exception": null,
     "start_time": null,
     "status": "pending"
    },
    "tags": []
   },
   "outputs": [],
   "source": [
    "def wordopt(Content):\n",
    "    Content = Content.lower()\n",
    "    Content = re.sub('\\[.*?\\]','',Content)\n",
    "    # Content = re.sub(\"\\\\W\", \" \", Content)\n",
    "    Content = re.sub('https?://\\S+|wwww\\.\\S+','',Content)\n",
    "    Content = re.sub('<.*?>+', '' ,Content)\n",
    "    Content = re.sub('[%s]' % re.escape(string.punctuation), '', Content)\n",
    "    Content = re.sub('\\n','',Content)\n",
    "    Content = re.sub('\\w*\\d\\w*','',Content)\n",
    "    return Content\n"
   ]
  },
  {
   "cell_type": "code",
   "execution_count": 86,
   "id": "862d9aae",
   "metadata": {
    "id": "OHg-ijb8vw1C",
    "papermill": {
     "duration": null,
     "end_time": null,
     "exception": null,
     "start_time": null,
     "status": "pending"
    },
    "tags": []
   },
   "outputs": [],
   "source": [
    "ban_df1['Content']=ban_df1['Content'].apply(wordopt)"
   ]
  },
  {
   "cell_type": "code",
   "execution_count": 87,
   "id": "f574dd83",
   "metadata": {
    "executionInfo": {
     "elapsed": 372,
     "status": "ok",
     "timestamp": 1700819923210,
     "user": {
      "displayName": "Sadia Khatun",
      "userId": "02347170218959633251"
     },
     "user_tz": -360
    },
    "id": "xc4NZTvZvwwM",
    "outputId": "904c21a5-cac5-4452-9f6f-b33e3a931b5b",
    "papermill": {
     "duration": null,
     "end_time": null,
     "exception": null,
     "start_time": null,
     "status": "pending"
    },
    "tags": []
   },
   "outputs": [
    {
     "data": {
      "text/html": [
       "<div>\n",
       "<style scoped>\n",
       "    .dataframe tbody tr th:only-of-type {\n",
       "        vertical-align: middle;\n",
       "    }\n",
       "\n",
       "    .dataframe tbody tr th {\n",
       "        vertical-align: top;\n",
       "    }\n",
       "\n",
       "    .dataframe thead th {\n",
       "        text-align: right;\n",
       "    }\n",
       "</style>\n",
       "<table border=\"1\" class=\"dataframe\">\n",
       "  <thead>\n",
       "    <tr style=\"text-align: right;\">\n",
       "      <th></th>\n",
       "      <th>label</th>\n",
       "      <th>Content</th>\n",
       "    </tr>\n",
       "  </thead>\n",
       "  <tbody>\n",
       "    <tr>\n",
       "      <th>0</th>\n",
       "      <td>1.0</td>\n",
       "      <td>হঠাৎ আফগান ক্রিকেট বোর্ড প্রধানের পদত্যাগক্রিক...</td>\n",
       "    </tr>\n",
       "    <tr>\n",
       "      <th>1</th>\n",
       "      <td>1.0</td>\n",
       "      <td>টস হেরে বোলিংয়ে বাংলাদেশএশিয়া কাপের ষষ্ঠ ম্যাচ...</td>\n",
       "    </tr>\n",
       "    <tr>\n",
       "      <th>2</th>\n",
       "      <td>1.0</td>\n",
       "      <td>রাজধানীতে বিশেষ অভিযানে আটক াজধানীতে মাদক বিরো...</td>\n",
       "    </tr>\n",
       "    <tr>\n",
       "      <th>3</th>\n",
       "      <td>1.0</td>\n",
       "      <td>উস্কানি রোধে নজরদারি থাকবে সামাজিক যোগাযোগ মাধ...</td>\n",
       "    </tr>\n",
       "    <tr>\n",
       "      <th>4</th>\n",
       "      <td>1.0</td>\n",
       "      <td>যেখানে তেল আসত  দিনে এখন তা আসবে অতি দ্রুতভারত...</td>\n",
       "    </tr>\n",
       "    <tr>\n",
       "      <th>...</th>\n",
       "      <td>...</td>\n",
       "      <td>...</td>\n",
       "    </tr>\n",
       "    <tr>\n",
       "      <th>1294</th>\n",
       "      <td>0.0</td>\n",
       "      <td>রাজশাহীতে স্বামীর হাঁচির আওয়াজে ঘুমের মধ্যেই স...</td>\n",
       "    </tr>\n",
       "    <tr>\n",
       "      <th>1295</th>\n",
       "      <td>0.0</td>\n",
       "      <td>ias ইন্টারভিউ এ মেয়েটিকে জিজ্ঞসা করা হল মেয়েদে...</td>\n",
       "    </tr>\n",
       "    <tr>\n",
       "      <th>1296</th>\n",
       "      <td>0.0</td>\n",
       "      <td>শাওমি মোবাইল বিস্ফোরণে কলেজছাত্রের মৃত্যুশাওমি...</td>\n",
       "    </tr>\n",
       "    <tr>\n",
       "      <th>1297</th>\n",
       "      <td>0.0</td>\n",
       "      <td>ফেসবুকে যেভাবে নতুন মন্ত্রীদের অভিনন্দন বার্তা...</td>\n",
       "    </tr>\n",
       "    <tr>\n",
       "      <th>1298</th>\n",
       "      <td>0.0</td>\n",
       "      <td>মাঝ আকাশে পর্ন দেখার অভিযোগে পাইলট আটকবিমান যখ...</td>\n",
       "    </tr>\n",
       "  </tbody>\n",
       "</table>\n",
       "<p>8501 rows × 2 columns</p>\n",
       "</div>"
      ],
      "text/plain": [
       "      label                                            Content\n",
       "0       1.0  হঠাৎ আফগান ক্রিকেট বোর্ড প্রধানের পদত্যাগক্রিক...\n",
       "1       1.0  টস হেরে বোলিংয়ে বাংলাদেশএশিয়া কাপের ষষ্ঠ ম্যাচ...\n",
       "2       1.0  রাজধানীতে বিশেষ অভিযানে আটক াজধানীতে মাদক বিরো...\n",
       "3       1.0  উস্কানি রোধে নজরদারি থাকবে সামাজিক যোগাযোগ মাধ...\n",
       "4       1.0  যেখানে তেল আসত  দিনে এখন তা আসবে অতি দ্রুতভারত...\n",
       "...     ...                                                ...\n",
       "1294    0.0  রাজশাহীতে স্বামীর হাঁচির আওয়াজে ঘুমের মধ্যেই স...\n",
       "1295    0.0  ias ইন্টারভিউ এ মেয়েটিকে জিজ্ঞসা করা হল মেয়েদে...\n",
       "1296    0.0  শাওমি মোবাইল বিস্ফোরণে কলেজছাত্রের মৃত্যুশাওমি...\n",
       "1297    0.0  ফেসবুকে যেভাবে নতুন মন্ত্রীদের অভিনন্দন বার্তা...\n",
       "1298    0.0  মাঝ আকাশে পর্ন দেখার অভিযোগে পাইলট আটকবিমান যখ...\n",
       "\n",
       "[8501 rows x 2 columns]"
      ]
     },
     "execution_count": 87,
     "metadata": {},
     "output_type": "execute_result"
    }
   ],
   "source": [
    "ban_df1"
   ]
  },
  {
   "cell_type": "markdown",
   "id": "daf8d721",
   "metadata": {
    "id": "55j8AQLjKatY",
    "papermill": {
     "duration": null,
     "end_time": null,
     "exception": null,
     "start_time": null,
     "status": "pending"
    },
    "tags": []
   },
   "source": [
    "## Tokenize"
   ]
  },
  {
   "cell_type": "code",
   "execution_count": 88,
   "id": "5627aec2",
   "metadata": {
    "id": "D-hcm5fAK1cL",
    "papermill": {
     "duration": null,
     "end_time": null,
     "exception": null,
     "start_time": null,
     "status": "pending"
    },
    "tags": []
   },
   "outputs": [],
   "source": [
    "def tokenize_bangla(text):\n",
    "    # Define characters to be treated as separators (you can add more if needed)\n",
    "    separators = [' ', ',', '.', '!', '?', '...', '—', '(', ')', '[', ']', '{', '}', ':', ';']\n",
    "\n",
    "    # Initialize variables\n",
    "    current_word = \"\"\n",
    "    tokens = []\n",
    "\n",
    "    # Iterate through each character in the text\n",
    "    for char in text:\n",
    "        # If the character is a separator, add the current word to the tokens list\n",
    "        if char in separators:\n",
    "            if current_word:\n",
    "                tokens.append(current_word)\n",
    "                current_word = \"\"\n",
    "        else:\n",
    "            # Build the current word character by character\n",
    "            current_word += char\n",
    "\n",
    "    # Add the last word if not added yet\n",
    "    if current_word:\n",
    "        tokens.append(current_word)\n",
    "\n",
    "    return tokens"
   ]
  },
  {
   "cell_type": "code",
   "execution_count": 89,
   "id": "73fb8bda",
   "metadata": {
    "id": "mTzyIoZpK-26",
    "papermill": {
     "duration": null,
     "end_time": null,
     "exception": null,
     "start_time": null,
     "status": "pending"
    },
    "tags": []
   },
   "outputs": [],
   "source": [
    " ban_df1['Content']=ban_df1['Content'].apply(tokenize_bangla)"
   ]
  },
  {
   "cell_type": "markdown",
   "id": "6549645b",
   "metadata": {
    "id": "mx6vPNuHK434",
    "papermill": {
     "duration": null,
     "end_time": null,
     "exception": null,
     "start_time": null,
     "status": "pending"
    },
    "tags": []
   },
   "source": [
    "# Stop Word remove"
   ]
  },
  {
   "cell_type": "code",
   "execution_count": 90,
   "id": "351b8fa7",
   "metadata": {
    "id": "j9xKMtS4KhJl",
    "papermill": {
     "duration": null,
     "end_time": null,
     "exception": null,
     "start_time": null,
     "status": "pending"
    },
    "tags": []
   },
   "outputs": [],
   "source": [
    "def remove_stopwords_bangla(text):\n",
    "    stopwords_list = [\"অতএব\", \"অথচ\", \"অথবা\", \"অনুযায়ী\", \"অনেক\", \"অনেকে\",\n",
    "                      \"অনেকেই\", \"অন্তত\", \"অন্য\", \"অবধি\", \"অবশ্য\", \"অর্থাত\", \"আই\",\n",
    "                      \"আগামী\", \"আগে\", \"আগেই\", \"আছে\", \"আজ\", \"আদ্যভাগে\", \"আপনার\",\n",
    "                      \"আপনি\", \"আবার\", \"আমরা\", \"আমাকে\", \"আমাদের\", \"আমার\", \"আমি\", \"আর\",\n",
    "                      \"আরও\", \"ই\", \"ইত্যাদি\", \"ইহা\", \"উচিত\", \"উত্তর\", \"উনি\", \"উপর\", \"উপরে\", \"এ\",\n",
    "                      \"এঁদের\", \"এঁরা\", \"এই\", \"একই\", \"একটি\", \"একবার\", \"একে\", \"এক্\", \"এখন\", \"এখনও\",\n",
    "                      \"এখানে\", \"এখানেই\", \"এটা\", \"এটাই\", \"এটি\", \"এত\", \"এতটাই\", \"এতে\", \"এদের\", \"এব\",\n",
    "                      \"এবং\", \"এবার\", \"এমন\", \"এমনকী\", \"এমনি\", \"এর\", \"এরা\", \"এল\", \"এস\", \"এসে\", \"ঐ\",\n",
    "                      \"ও\", \"ওঁদের\", \"ওঁর\", \"ওঁরা\", \"ওই\", \"ওকে\", \"ওখানে\", \"ওদের\", \"ওর\", \"ওরা\", \"কখনও\", \"কত\", \"কবে\",\n",
    "                      \"কমনে\", \"কয়েক\", \"কয়েকটি\", \"করছে\", \"করছেন\", \"করতে\", \"করবে\", \"করবেন\", \"করলে\", \"করলেন\", \"করা\", \"করাই\",\n",
    "                      \"করায়\", \"করার\", \"করি\", \"করিতে\", \"করিয়া\", \"করিয়ে\", \"করে\", \"করেই\", \"করেছিলেন\", \"করেছে\", \"করেছেন\", \"করেন\", \"কাউকে\",\n",
    "                      \"কাছ\", \"কাছে\", \"কাজ\", \"কাজে\", \"কারও\", \"কারণ\", \"কি\", \"কিংবা\", \"কিছু\", \"কিছুই\", \"কিন্তু\", \"কী\", \"কে\", \"কেউ\", \"কেউই\", \"কেখা\", \"কেন\", \"কোটি\", \"কোন\", \"কোনও\", \"কোনো\",\n",
    "                      \"ক্ষেত্রে\", \"কয়েক\", \"খুব\", \"গিয়ে\", \"গিয়েছে\", \"গিয়ে\", \"গুলি\", \"গেছে\", \"গেল\", \"গেলে\", \"গোটা\", \"চলে\", \"চান\", \"চায়\", \"চার\", \"চালু\", \"চেয়ে\", \"চেষ্টা\", \"ছাড়া\", \"ছাড়াও\", \"ছিল\", \"ছিলেন\", \"জন\", \"জনকে\", \"জনের\", \"জন্য\", \"জন্যওজে\", \"জানতে\", \"জানা\", \"জানানো\", \"জানায়\", \"জানিয়ে\", \"জানিয়েছে\", \"জে\", \"জ্নজন\", \"টি\", \"ঠিক\", \"তখন\", \"তত\",\n",
    "                      \"তথা\", \"তবু\", \"তবে\", \"তা\", \"তাঁকে\", \"তাঁদের\", \"তাঁর\", \"তাঁরা\", \"তাঁাহারা\", \"তাই\", \"তাও\", \"তাকে\", \"তাতে\", \"তাদের\", \"তার\", \"তারপর\", \"তারা\", \"তারৈ\", \"তাহলে\", \"তাহা\", \"তাহাতে\", \"তাহার\", \"তিনঐ\", \"তিনি\", \"তিনিও\", \"তুমি\", \"তুলে\", \"তেমন\", \"তো\",\n",
    "                      \"তোমার\", \"থাকবে\", \"থাকবেন\", \"থাকা\", \"থাকায়\", \"থাকে\", \"থাকেন\", \"থেকে\", \"থেকেই\", \"থেকেও\", \"দিকে\", \"দিতে\", \"দিন\", \"দিয়ে\", \"দিয়েছে\", \"দিয়েছেন\", \"দিলেন\", \"দু\", \"দুই\", \"দুটি\", \"দুটো\", \"দেওয়া\", \"দেওয়ার\", \"দেওয়া\", \"দেখতে\", \"দেখা\", \"দেখে\", \"দেন\", \"দেয়\", \"দ্বারা\", \"ধরা\", \"ধরে\", \"ধামার\", \"নতুন\", \"নয়\", \"না\", \"নাই\", \"নাকি\", \"নাগাদ\", \"নানা\", \"নিজে\", \"নিজেই\",\n",
    "                      \"নিজেদের\", \"নিজের\", \"নিতে\", \"নিয়ে\", \"নিয়ে\", \"নেই\", \"নেওয়া\", \"নেওয়ার\", \"নেওয়া\", \"নয়\", \"পক্ষে\", \"পর\", \"পরে\", \"পরেই\", \"পরেও\", \"পর্যন্ত\", \"পাওয়া\", \"পাচ\", \"পারি\", \"পারে\", \"পারেন\", \"পি\", \"পেয়ে\", \"পেয়্র্\", \"প্রতি\", \"প্রথম\", \"প্রভৃতি\", \"প্রযন্ত\", \"প্রাথমিক\", \"প্রায়\", \"প্রায়\", \"ফলে\", \"ফিরে\", \"ফের\", \"বক্তব্য\", \"বদলে\", \"বন\", \"বরং\", \"বলতে\", \"বলল\", \"বললেন\", \"বলা\", \"বলে\", \"বলেছেন\",\n",
    "                      \"বলেন\", \"বসে\", \"বহু\", \"বা\", \"বাদে\", \"বার\", \"বি\", \"বিনা\", \"বিভিন্ন\", \"বিশেষ\", \"বিষয়টি\", \"বেশ\", \"বেশি\", \"ব্যবহার\", \"ব্যাপারে\", \"ভাবে\", \"ভাবেই\", \"মতো\", \"মতোই\", \"মধ্যভাগে\", \"মধ্যে\", \"মধ্যেই\", \"মধ্যেও\", \"মনে\", \"মাত্র\", \"মাধ্যমে\", \"মোট\", \"মোটেই\", \"যখন\", \"যত\", \"যতটা\", \"যথেষ্ট\", \"যদি\", \"যদিও\", \"যা\", \"যাঁর\", \"যাঁরা\", \"যাওয়া\", \"যাওয়ার\", \"যাওয়া\", \"যাকে\", \"যাচ্ছে\", \"যাতে\", \"যাদের\", \"যান\",\n",
    "                      \"যাবে\", \"যায়\", \"যার\", \"যারা\", \"যিনি\", \"যে\", \"যেখানে\", \"যেতে\", \"যেন\", \"যেমন\", \"র\", \"রকম\", \"রয়েছে\", \"রাখা\", \"রেখে\", \"লক্ষ\", \"শুধু\", \"শুরু\", \"সঙ্গে\", \"সঙ্গেও\", \"সব\", \"সবার\", \"সমস্ত\", \"সম্প্রতি\", \"সহ\", \"সহিত\", \"সাধারণ\", \"সামনে\", \"সি\", \"সুতরাং\", \"সে\", \"সেই\", \"সেখান\", \"সেখানে\", \"সেটা\", \"সেটাই\", \"সেটাও\", \"সেটি\", \"স্পষ্ট\", \"স্বয়ং\", \"হইতে\", \"হইবে\", \"হইয়া\", \"হওয়া\", \"হওয়ায়\", \"হওয়ার\", \"হচ্ছে\", \"হত\", \"হতে\",\n",
    "                      \"হতেই\", \"হন\", \"হবে\", \"হবেন\", \"হয়\", \"হয়তো\", \"হয়নি\", \"হয়ে\", \"হয়েই\", \"হয়েছিল\", \"হয়েছে\", \"হয়েছেন\", \"হল\", \"হলে\", \"হলেই\",\n",
    "                      \"হলেও\", \"হলো\", \"হাজার\", \"হিসাবে\", \"হৈলে\", \"হোক\", \"হয়\"]\n",
    "                      \n",
    "    if isinstance(text, list):  # Check if text is a list\n",
    "        text = ' '.join(text)  # Convert list to string\n",
    "        \n",
    "    words = text.split()  # Tokenize the text into words\n",
    "    \n",
    "    filtered_words = [word for word in words if word not in stopwords_list]  # Remove stopwords\n",
    "    \n",
    "    processed_text = ' '.join(filtered_words)  # Join the filtered words\n",
    "    \n",
    "    return processed_text"
   ]
  },
  {
   "cell_type": "code",
   "execution_count": 91,
   "id": "eb996412",
   "metadata": {
    "id": "U52fO1k26pWt",
    "papermill": {
     "duration": null,
     "end_time": null,
     "exception": null,
     "start_time": null,
     "status": "pending"
    },
    "tags": []
   },
   "outputs": [],
   "source": [
    "ban_df1['Content'] = ban_df1['Content'].apply(remove_stopwords_bangla);"
   ]
  },
  {
   "cell_type": "code",
   "execution_count": 92,
   "id": "272df9cb",
   "metadata": {
    "executionInfo": {
     "elapsed": 9,
     "status": "ok",
     "timestamp": 1700819962328,
     "user": {
      "displayName": "Sadia Khatun",
      "userId": "02347170218959633251"
     },
     "user_tz": -360
    },
    "id": "8XaOF6Z86_62",
    "outputId": "180565b8-e8c6-4cd3-a733-60064d263259",
    "papermill": {
     "duration": null,
     "end_time": null,
     "exception": null,
     "start_time": null,
     "status": "pending"
    },
    "tags": []
   },
   "outputs": [
    {
     "data": {
      "text/plain": [
       "0       হঠাৎ আফগান ক্রিকেট বোর্ড প্রধানের পদত্যাগক্রিক...\n",
       "1       টস হেরে বোলিংয়ে বাংলাদেশএশিয়া কাপের ষষ্ঠ ম্যাচ...\n",
       "2       রাজধানীতে অভিযানে আটক াজধানীতে মাদক বিরোধী অভি...\n",
       "3       উস্কানি রোধে নজরদারি সামাজিক যোগাযোগ মাধ্যমেসন...\n",
       "4       তেল আসত দিনে আসবে অতি দ্রুতভারত পাইপ লাইনের সর...\n",
       "                              ...                        \n",
       "1294    রাজশাহীতে স্বামীর হাঁচির আওয়াজে ঘুমের স্ত্রী হ...\n",
       "1295    ias ইন্টারভিউ মেয়েটিকে জিজ্ঞসা মেয়েদের অঙ্গ বে...\n",
       "1296    শাওমি মোবাইল বিস্ফোরণে কলেজছাত্রের মৃত্যুশাওমি...\n",
       "1297    ফেসবুকে যেভাবে মন্ত্রীদের অভিনন্দন বার্তা জানা...\n",
       "1298    মাঝ আকাশে পর্ন দেখার অভিযোগে পাইলট আটকবিমান আক...\n",
       "Name: Content, Length: 8501, dtype: object"
      ]
     },
     "execution_count": 92,
     "metadata": {},
     "output_type": "execute_result"
    }
   ],
   "source": [
    "ban_df1['Content']"
   ]
  },
  {
   "cell_type": "code",
   "execution_count": 93,
   "id": "825e7526",
   "metadata": {
    "executionInfo": {
     "elapsed": 649,
     "status": "ok",
     "timestamp": 1700819977124,
     "user": {
      "displayName": "Sadia Khatun",
      "userId": "02347170218959633251"
     },
     "user_tz": -360
    },
    "id": "7PMYTQjOvwmz",
    "outputId": "6ee6e6a2-1d5e-4532-83ce-43130b618779",
    "papermill": {
     "duration": null,
     "end_time": null,
     "exception": null,
     "start_time": null,
     "status": "pending"
    },
    "tags": []
   },
   "outputs": [
    {
     "data": {
      "text/html": [
       "<div>\n",
       "<style scoped>\n",
       "    .dataframe tbody tr th:only-of-type {\n",
       "        vertical-align: middle;\n",
       "    }\n",
       "\n",
       "    .dataframe tbody tr th {\n",
       "        vertical-align: top;\n",
       "    }\n",
       "\n",
       "    .dataframe thead th {\n",
       "        text-align: right;\n",
       "    }\n",
       "</style>\n",
       "<table border=\"1\" class=\"dataframe\">\n",
       "  <thead>\n",
       "    <tr style=\"text-align: right;\">\n",
       "      <th></th>\n",
       "      <th>label</th>\n",
       "      <th>Content</th>\n",
       "    </tr>\n",
       "  </thead>\n",
       "  <tbody>\n",
       "    <tr>\n",
       "      <th>0</th>\n",
       "      <td>1.0</td>\n",
       "      <td>হঠাৎ আফগান ক্রিকেট বোর্ড প্রধানের পদত্যাগক্রিক...</td>\n",
       "    </tr>\n",
       "    <tr>\n",
       "      <th>1</th>\n",
       "      <td>1.0</td>\n",
       "      <td>টস হেরে বোলিংয়ে বাংলাদেশএশিয়া কাপের ষষ্ঠ ম্যাচ...</td>\n",
       "    </tr>\n",
       "    <tr>\n",
       "      <th>2</th>\n",
       "      <td>1.0</td>\n",
       "      <td>রাজধানীতে অভিযানে আটক াজধানীতে মাদক বিরোধী অভি...</td>\n",
       "    </tr>\n",
       "    <tr>\n",
       "      <th>3</th>\n",
       "      <td>1.0</td>\n",
       "      <td>উস্কানি রোধে নজরদারি সামাজিক যোগাযোগ মাধ্যমেসন...</td>\n",
       "    </tr>\n",
       "    <tr>\n",
       "      <th>4</th>\n",
       "      <td>1.0</td>\n",
       "      <td>তেল আসত দিনে আসবে অতি দ্রুতভারত পাইপ লাইনের সর...</td>\n",
       "    </tr>\n",
       "    <tr>\n",
       "      <th>...</th>\n",
       "      <td>...</td>\n",
       "      <td>...</td>\n",
       "    </tr>\n",
       "    <tr>\n",
       "      <th>1294</th>\n",
       "      <td>0.0</td>\n",
       "      <td>রাজশাহীতে স্বামীর হাঁচির আওয়াজে ঘুমের স্ত্রী হ...</td>\n",
       "    </tr>\n",
       "    <tr>\n",
       "      <th>1295</th>\n",
       "      <td>0.0</td>\n",
       "      <td>ias ইন্টারভিউ মেয়েটিকে জিজ্ঞসা মেয়েদের অঙ্গ বে...</td>\n",
       "    </tr>\n",
       "    <tr>\n",
       "      <th>1296</th>\n",
       "      <td>0.0</td>\n",
       "      <td>শাওমি মোবাইল বিস্ফোরণে কলেজছাত্রের মৃত্যুশাওমি...</td>\n",
       "    </tr>\n",
       "    <tr>\n",
       "      <th>1297</th>\n",
       "      <td>0.0</td>\n",
       "      <td>ফেসবুকে যেভাবে মন্ত্রীদের অভিনন্দন বার্তা জানা...</td>\n",
       "    </tr>\n",
       "    <tr>\n",
       "      <th>1298</th>\n",
       "      <td>0.0</td>\n",
       "      <td>মাঝ আকাশে পর্ন দেখার অভিযোগে পাইলট আটকবিমান আক...</td>\n",
       "    </tr>\n",
       "  </tbody>\n",
       "</table>\n",
       "<p>8501 rows × 2 columns</p>\n",
       "</div>"
      ],
      "text/plain": [
       "      label                                            Content\n",
       "0       1.0  হঠাৎ আফগান ক্রিকেট বোর্ড প্রধানের পদত্যাগক্রিক...\n",
       "1       1.0  টস হেরে বোলিংয়ে বাংলাদেশএশিয়া কাপের ষষ্ঠ ম্যাচ...\n",
       "2       1.0  রাজধানীতে অভিযানে আটক াজধানীতে মাদক বিরোধী অভি...\n",
       "3       1.0  উস্কানি রোধে নজরদারি সামাজিক যোগাযোগ মাধ্যমেসন...\n",
       "4       1.0  তেল আসত দিনে আসবে অতি দ্রুতভারত পাইপ লাইনের সর...\n",
       "...     ...                                                ...\n",
       "1294    0.0  রাজশাহীতে স্বামীর হাঁচির আওয়াজে ঘুমের স্ত্রী হ...\n",
       "1295    0.0  ias ইন্টারভিউ মেয়েটিকে জিজ্ঞসা মেয়েদের অঙ্গ বে...\n",
       "1296    0.0  শাওমি মোবাইল বিস্ফোরণে কলেজছাত্রের মৃত্যুশাওমি...\n",
       "1297    0.0  ফেসবুকে যেভাবে মন্ত্রীদের অভিনন্দন বার্তা জানা...\n",
       "1298    0.0  মাঝ আকাশে পর্ন দেখার অভিযোগে পাইলট আটকবিমান আক...\n",
       "\n",
       "[8501 rows x 2 columns]"
      ]
     },
     "execution_count": 93,
     "metadata": {},
     "output_type": "execute_result"
    }
   ],
   "source": [
    "ban_df1"
   ]
  },
  {
   "cell_type": "code",
   "execution_count": 94,
   "id": "9e5a6b3c",
   "metadata": {
    "executionInfo": {
     "elapsed": 8635,
     "status": "ok",
     "timestamp": 1700822357835,
     "user": {
      "displayName": "Sadia Khatun",
      "userId": "02347170218959633251"
     },
     "user_tz": -360
    },
    "id": "J1yIUOHK45D6",
    "outputId": "5163456e-0d73-4af6-9fae-a5dc7a44fe02",
    "papermill": {
     "duration": null,
     "end_time": null,
     "exception": null,
     "start_time": null,
     "status": "pending"
    },
    "tags": []
   },
   "outputs": [
    {
     "name": "stdout",
     "output_type": "stream",
     "text": [
      "Defaulting to user installation because normal site-packages is not writeable\n",
      "Requirement already satisfied: bangla-stemmer in c:\\users\\bishw\\appdata\\roaming\\python\\python311\\site-packages (1.0)\n"
     ]
    }
   ],
   "source": [
    "#turn on internet option in kernel\n",
    "!pip install bangla-stemmer\n",
    "from bangla_stemmer.stemmer import stemmer\n",
    "\n",
    "def Stemming(text):\n",
    "\n",
    "    x=str(text)\n",
    "    l=x.split()\n",
    "\n",
    "    stmr = stemmer.BanglaStemmer()\n",
    "    stm = stmr.stem(l)\n",
    "\n",
    "    out=' '.join(stm)\n",
    "\n",
    "    return out"
   ]
  },
  {
   "cell_type": "code",
   "execution_count": 95,
   "id": "8cee01e1",
   "metadata": {
    "id": "WFayJrmd5-LY",
    "papermill": {
     "duration": null,
     "end_time": null,
     "exception": null,
     "start_time": null,
     "status": "pending"
    },
    "tags": []
   },
   "outputs": [],
   "source": [
    " # ban_df1['Content'] = ban_df1['Content'].apply(Stemming);"
   ]
  },
  {
   "cell_type": "code",
   "execution_count": 96,
   "id": "93d8936c",
   "metadata": {
    "executionInfo": {
     "elapsed": 456,
     "status": "ok",
     "timestamp": 1700823346025,
     "user": {
      "displayName": "Sadia Khatun",
      "userId": "02347170218959633251"
     },
     "user_tz": -360
    },
    "id": "VbOS8L2H-EIp",
    "outputId": "7f4364fd-438d-4ecd-c9da-aaa1d81cb1bc",
    "papermill": {
     "duration": null,
     "end_time": null,
     "exception": null,
     "start_time": null,
     "status": "pending"
    },
    "tags": []
   },
   "outputs": [
    {
     "data": {
      "text/html": [
       "<div>\n",
       "<style scoped>\n",
       "    .dataframe tbody tr th:only-of-type {\n",
       "        vertical-align: middle;\n",
       "    }\n",
       "\n",
       "    .dataframe tbody tr th {\n",
       "        vertical-align: top;\n",
       "    }\n",
       "\n",
       "    .dataframe thead th {\n",
       "        text-align: right;\n",
       "    }\n",
       "</style>\n",
       "<table border=\"1\" class=\"dataframe\">\n",
       "  <thead>\n",
       "    <tr style=\"text-align: right;\">\n",
       "      <th></th>\n",
       "      <th>label</th>\n",
       "      <th>Content</th>\n",
       "    </tr>\n",
       "  </thead>\n",
       "  <tbody>\n",
       "    <tr>\n",
       "      <th>0</th>\n",
       "      <td>1.0</td>\n",
       "      <td>হঠাৎ আফগান ক্রিকেট বোর্ড প্রধানের পদত্যাগক্রিক...</td>\n",
       "    </tr>\n",
       "    <tr>\n",
       "      <th>1</th>\n",
       "      <td>1.0</td>\n",
       "      <td>টস হেরে বোলিংয়ে বাংলাদেশএশিয়া কাপের ষষ্ঠ ম্যাচ...</td>\n",
       "    </tr>\n",
       "    <tr>\n",
       "      <th>2</th>\n",
       "      <td>1.0</td>\n",
       "      <td>রাজধানীতে অভিযানে আটক াজধানীতে মাদক বিরোধী অভি...</td>\n",
       "    </tr>\n",
       "    <tr>\n",
       "      <th>3</th>\n",
       "      <td>1.0</td>\n",
       "      <td>উস্কানি রোধে নজরদারি সামাজিক যোগাযোগ মাধ্যমেসন...</td>\n",
       "    </tr>\n",
       "    <tr>\n",
       "      <th>4</th>\n",
       "      <td>1.0</td>\n",
       "      <td>তেল আসত দিনে আসবে অতি দ্রুতভারত পাইপ লাইনের সর...</td>\n",
       "    </tr>\n",
       "    <tr>\n",
       "      <th>...</th>\n",
       "      <td>...</td>\n",
       "      <td>...</td>\n",
       "    </tr>\n",
       "    <tr>\n",
       "      <th>1294</th>\n",
       "      <td>0.0</td>\n",
       "      <td>রাজশাহীতে স্বামীর হাঁচির আওয়াজে ঘুমের স্ত্রী হ...</td>\n",
       "    </tr>\n",
       "    <tr>\n",
       "      <th>1295</th>\n",
       "      <td>0.0</td>\n",
       "      <td>ias ইন্টারভিউ মেয়েটিকে জিজ্ঞসা মেয়েদের অঙ্গ বে...</td>\n",
       "    </tr>\n",
       "    <tr>\n",
       "      <th>1296</th>\n",
       "      <td>0.0</td>\n",
       "      <td>শাওমি মোবাইল বিস্ফোরণে কলেজছাত্রের মৃত্যুশাওমি...</td>\n",
       "    </tr>\n",
       "    <tr>\n",
       "      <th>1297</th>\n",
       "      <td>0.0</td>\n",
       "      <td>ফেসবুকে যেভাবে মন্ত্রীদের অভিনন্দন বার্তা জানা...</td>\n",
       "    </tr>\n",
       "    <tr>\n",
       "      <th>1298</th>\n",
       "      <td>0.0</td>\n",
       "      <td>মাঝ আকাশে পর্ন দেখার অভিযোগে পাইলট আটকবিমান আক...</td>\n",
       "    </tr>\n",
       "  </tbody>\n",
       "</table>\n",
       "<p>8501 rows × 2 columns</p>\n",
       "</div>"
      ],
      "text/plain": [
       "      label                                            Content\n",
       "0       1.0  হঠাৎ আফগান ক্রিকেট বোর্ড প্রধানের পদত্যাগক্রিক...\n",
       "1       1.0  টস হেরে বোলিংয়ে বাংলাদেশএশিয়া কাপের ষষ্ঠ ম্যাচ...\n",
       "2       1.0  রাজধানীতে অভিযানে আটক াজধানীতে মাদক বিরোধী অভি...\n",
       "3       1.0  উস্কানি রোধে নজরদারি সামাজিক যোগাযোগ মাধ্যমেসন...\n",
       "4       1.0  তেল আসত দিনে আসবে অতি দ্রুতভারত পাইপ লাইনের সর...\n",
       "...     ...                                                ...\n",
       "1294    0.0  রাজশাহীতে স্বামীর হাঁচির আওয়াজে ঘুমের স্ত্রী হ...\n",
       "1295    0.0  ias ইন্টারভিউ মেয়েটিকে জিজ্ঞসা মেয়েদের অঙ্গ বে...\n",
       "1296    0.0  শাওমি মোবাইল বিস্ফোরণে কলেজছাত্রের মৃত্যুশাওমি...\n",
       "1297    0.0  ফেসবুকে যেভাবে মন্ত্রীদের অভিনন্দন বার্তা জানা...\n",
       "1298    0.0  মাঝ আকাশে পর্ন দেখার অভিযোগে পাইলট আটকবিমান আক...\n",
       "\n",
       "[8501 rows x 2 columns]"
      ]
     },
     "execution_count": 96,
     "metadata": {},
     "output_type": "execute_result"
    }
   ],
   "source": [
    "ban_df1"
   ]
  },
  {
   "cell_type": "markdown",
   "id": "3b8ae1cb-fc17-4937-801f-f31e5c7535a0",
   "metadata": {},
   "source": [
    "# Random Shuffling the dataframe"
   ]
  },
  {
   "cell_type": "code",
   "execution_count": 97,
   "id": "cd21969f-3574-4a55-89c7-2e1a143a6eea",
   "metadata": {},
   "outputs": [],
   "source": [
    "\n",
    "ban_df1 = ban_df1.sample(frac = 1)\n"
   ]
  },
  {
   "cell_type": "markdown",
   "id": "7e80d9ec",
   "metadata": {
    "id": "IvOSE3YeOElY",
    "papermill": {
     "duration": null,
     "end_time": null,
     "exception": null,
     "start_time": null,
     "status": "pending"
    },
    "tags": []
   },
   "source": [
    "# create X , y"
   ]
  },
  {
   "cell_type": "code",
   "execution_count": 98,
   "id": "f480c6f9",
   "metadata": {
    "id": "6q5k6Qw3Nw0F",
    "papermill": {
     "duration": null,
     "end_time": null,
     "exception": null,
     "start_time": null,
     "status": "pending"
    },
    "tags": []
   },
   "outputs": [],
   "source": [
    "X= ban_df1['Content']\n",
    "y=ban_df1['label']"
   ]
  },
  {
   "cell_type": "markdown",
   "id": "1fc9806e",
   "metadata": {
    "id": "zMGVPr2ZOrLL",
    "papermill": {
     "duration": null,
     "end_time": null,
     "exception": null,
     "start_time": null,
     "status": "pending"
    },
    "tags": []
   },
   "source": [
    "# Feature extraction"
   ]
  },
  {
   "cell_type": "markdown",
   "id": "cc3760be",
   "metadata": {
    "id": "MNHAWKW0Q2HR",
    "papermill": {
     "duration": null,
     "end_time": null,
     "exception": null,
     "start_time": null,
     "status": "pending"
    },
    "tags": []
   },
   "source": [
    "## train"
   ]
  },
  {
   "cell_type": "code",
   "execution_count": 99,
   "id": "2256e9c2",
   "metadata": {
    "id": "pv7r-1BnOqtY",
    "papermill": {
     "duration": null,
     "end_time": null,
     "exception": null,
     "start_time": null,
     "status": "pending"
    },
    "tags": []
   },
   "outputs": [],
   "source": [
    "from sklearn.feature_extraction.text import TfidfVectorizer"
   ]
  },
  {
   "cell_type": "code",
   "execution_count": 100,
   "id": "7e6ca9a3",
   "metadata": {
    "id": "7F3wwTRDPlkT",
    "papermill": {
     "duration": null,
     "end_time": null,
     "exception": null,
     "start_time": null,
     "status": "pending"
    },
    "tags": []
   },
   "outputs": [],
   "source": [
    "Tf_Idf = TfidfVectorizer()\n",
    "X=Tf_Idf.fit_transform(X)"
   ]
  },
  {
   "cell_type": "code",
   "execution_count": 101,
   "id": "0e064cd5",
   "metadata": {
    "executionInfo": {
     "elapsed": 430,
     "status": "ok",
     "timestamp": 1700823543623,
     "user": {
      "displayName": "Sadia Khatun",
      "userId": "02347170218959633251"
     },
     "user_tz": -360
    },
    "id": "djEMBZRBRKEM",
    "outputId": "300ee768-105a-4fda-da63-9156e39cfb36",
    "papermill": {
     "duration": null,
     "end_time": null,
     "exception": null,
     "start_time": null,
     "status": "pending"
    },
    "tags": []
   },
   "outputs": [
    {
     "data": {
      "text/plain": [
       "(8501, 12850)"
      ]
     },
     "execution_count": 101,
     "metadata": {},
     "output_type": "execute_result"
    }
   ],
   "source": [
    "X.shape"
   ]
  },
  {
   "cell_type": "markdown",
   "id": "cf9c1974",
   "metadata": {
    "id": "2rNqkv0_xdGA",
    "papermill": {
     "duration": null,
     "end_time": null,
     "exception": null,
     "start_time": null,
     "status": "pending"
    },
    "tags": []
   },
   "source": [
    "# train test split"
   ]
  },
  {
   "cell_type": "code",
   "execution_count": 102,
   "id": "b4571628",
   "metadata": {
    "id": "K63J4CUexcuc",
    "papermill": {
     "duration": null,
     "end_time": null,
     "exception": null,
     "start_time": null,
     "status": "pending"
    },
    "tags": []
   },
   "outputs": [],
   "source": [
    "from sklearn.model_selection import train_test_split\n",
    "from sklearn.metrics import classification_report, confusion_matrix\n",
    "from mlxtend.plotting import plot_confusion_matrix\n",
    "\n",
    "X_train,X_test, y_train,y_test = train_test_split(X,y,test_size=0.2, random_state=121, stratify=y)"
   ]
  },
  {
   "cell_type": "markdown",
   "id": "25842c92",
   "metadata": {
    "id": "l_tDF0LFRfRn",
    "papermill": {
     "duration": null,
     "end_time": null,
     "exception": null,
     "start_time": null,
     "status": "pending"
    },
    "tags": []
   },
   "source": [
    "# Logistic Regression"
   ]
  },
  {
   "cell_type": "code",
   "execution_count": 103,
   "id": "b7464726",
   "metadata": {
    "executionInfo": {
     "elapsed": 1118,
     "status": "ok",
     "timestamp": 1700829150340,
     "user": {
      "displayName": "Sadia Khatun",
      "userId": "02347170218959633251"
     },
     "user_tz": -360
    },
    "id": "vHNf4IqZRbj5",
    "outputId": "9398921a-4518-426c-e038-2a8f2dc7e8c5",
    "papermill": {
     "duration": null,
     "end_time": null,
     "exception": null,
     "start_time": null,
     "status": "pending"
    },
    "tags": []
   },
   "outputs": [
    {
     "data": {
      "text/html": [
       "<style>#sk-container-id-4 {color: black;}#sk-container-id-4 pre{padding: 0;}#sk-container-id-4 div.sk-toggleable {background-color: white;}#sk-container-id-4 label.sk-toggleable__label {cursor: pointer;display: block;width: 100%;margin-bottom: 0;padding: 0.3em;box-sizing: border-box;text-align: center;}#sk-container-id-4 label.sk-toggleable__label-arrow:before {content: \"▸\";float: left;margin-right: 0.25em;color: #696969;}#sk-container-id-4 label.sk-toggleable__label-arrow:hover:before {color: black;}#sk-container-id-4 div.sk-estimator:hover label.sk-toggleable__label-arrow:before {color: black;}#sk-container-id-4 div.sk-toggleable__content {max-height: 0;max-width: 0;overflow: hidden;text-align: left;background-color: #f0f8ff;}#sk-container-id-4 div.sk-toggleable__content pre {margin: 0.2em;color: black;border-radius: 0.25em;background-color: #f0f8ff;}#sk-container-id-4 input.sk-toggleable__control:checked~div.sk-toggleable__content {max-height: 200px;max-width: 100%;overflow: auto;}#sk-container-id-4 input.sk-toggleable__control:checked~label.sk-toggleable__label-arrow:before {content: \"▾\";}#sk-container-id-4 div.sk-estimator input.sk-toggleable__control:checked~label.sk-toggleable__label {background-color: #d4ebff;}#sk-container-id-4 div.sk-label input.sk-toggleable__control:checked~label.sk-toggleable__label {background-color: #d4ebff;}#sk-container-id-4 input.sk-hidden--visually {border: 0;clip: rect(1px 1px 1px 1px);clip: rect(1px, 1px, 1px, 1px);height: 1px;margin: -1px;overflow: hidden;padding: 0;position: absolute;width: 1px;}#sk-container-id-4 div.sk-estimator {font-family: monospace;background-color: #f0f8ff;border: 1px dotted black;border-radius: 0.25em;box-sizing: border-box;margin-bottom: 0.5em;}#sk-container-id-4 div.sk-estimator:hover {background-color: #d4ebff;}#sk-container-id-4 div.sk-parallel-item::after {content: \"\";width: 100%;border-bottom: 1px solid gray;flex-grow: 1;}#sk-container-id-4 div.sk-label:hover label.sk-toggleable__label {background-color: #d4ebff;}#sk-container-id-4 div.sk-serial::before {content: \"\";position: absolute;border-left: 1px solid gray;box-sizing: border-box;top: 0;bottom: 0;left: 50%;z-index: 0;}#sk-container-id-4 div.sk-serial {display: flex;flex-direction: column;align-items: center;background-color: white;padding-right: 0.2em;padding-left: 0.2em;position: relative;}#sk-container-id-4 div.sk-item {position: relative;z-index: 1;}#sk-container-id-4 div.sk-parallel {display: flex;align-items: stretch;justify-content: center;background-color: white;position: relative;}#sk-container-id-4 div.sk-item::before, #sk-container-id-4 div.sk-parallel-item::before {content: \"\";position: absolute;border-left: 1px solid gray;box-sizing: border-box;top: 0;bottom: 0;left: 50%;z-index: -1;}#sk-container-id-4 div.sk-parallel-item {display: flex;flex-direction: column;z-index: 1;position: relative;background-color: white;}#sk-container-id-4 div.sk-parallel-item:first-child::after {align-self: flex-end;width: 50%;}#sk-container-id-4 div.sk-parallel-item:last-child::after {align-self: flex-start;width: 50%;}#sk-container-id-4 div.sk-parallel-item:only-child::after {width: 0;}#sk-container-id-4 div.sk-dashed-wrapped {border: 1px dashed gray;margin: 0 0.4em 0.5em 0.4em;box-sizing: border-box;padding-bottom: 0.4em;background-color: white;}#sk-container-id-4 div.sk-label label {font-family: monospace;font-weight: bold;display: inline-block;line-height: 1.2em;}#sk-container-id-4 div.sk-label-container {text-align: center;}#sk-container-id-4 div.sk-container {/* jupyter's `normalize.less` sets `[hidden] { display: none; }` but bootstrap.min.css set `[hidden] { display: none !important; }` so we also need the `!important` here to be able to override the default hidden behavior on the sphinx rendered scikit-learn.org. See: https://github.com/scikit-learn/scikit-learn/issues/21755 */display: inline-block !important;position: relative;}#sk-container-id-4 div.sk-text-repr-fallback {display: none;}</style><div id=\"sk-container-id-4\" class=\"sk-top-container\"><div class=\"sk-text-repr-fallback\"><pre>LogisticRegression()</pre><b>In a Jupyter environment, please rerun this cell to show the HTML representation or trust the notebook. <br />On GitHub, the HTML representation is unable to render, please try loading this page with nbviewer.org.</b></div><div class=\"sk-container\" hidden><div class=\"sk-item\"><div class=\"sk-estimator sk-toggleable\"><input class=\"sk-toggleable__control sk-hidden--visually\" id=\"sk-estimator-id-6\" type=\"checkbox\" checked><label for=\"sk-estimator-id-6\" class=\"sk-toggleable__label sk-toggleable__label-arrow\">LogisticRegression</label><div class=\"sk-toggleable__content\"><pre>LogisticRegression()</pre></div></div></div></div></div>"
      ],
      "text/plain": [
       "LogisticRegression()"
      ]
     },
     "execution_count": 103,
     "metadata": {},
     "output_type": "execute_result"
    }
   ],
   "source": [
    "LR=LogisticRegression()\n",
    "LR.fit(X_train,y_train)"
   ]
  },
  {
   "cell_type": "code",
   "execution_count": 104,
   "id": "fd649d61",
   "metadata": {
    "executionInfo": {
     "elapsed": 447,
     "status": "ok",
     "timestamp": 1700829163562,
     "user": {
      "displayName": "Sadia Khatun",
      "userId": "02347170218959633251"
     },
     "user_tz": -360
    },
    "id": "RLSnZhxfXeAm",
    "outputId": "2da5906f-8093-49d8-afa2-bc536854125a",
    "papermill": {
     "duration": null,
     "end_time": null,
     "exception": null,
     "start_time": null,
     "status": "pending"
    },
    "tags": []
   },
   "outputs": [
    {
     "name": "stdout",
     "output_type": "stream",
     "text": [
      "Tranning Accuracy: 0.9502941176470588\n",
      "Test Accuracy: 0.9300411522633745\n",
      "Classification Report:\n",
      "              precision    recall  f1-score   support\n",
      "\n",
      "         0.0       0.94      0.58      0.72       260\n",
      "         1.0       0.93      0.99      0.96      1441\n",
      "\n",
      "    accuracy                           0.93      1701\n",
      "   macro avg       0.93      0.79      0.84      1701\n",
      "weighted avg       0.93      0.93      0.92      1701\n",
      "\n"
     ]
    }
   ],
   "source": [
    "\n",
    "y_p_train=LR.predict(X_train);\n",
    "print(\"Tranning Accuracy:\", accuracy_score(y_train, y_p_train))\n",
    "\n",
    "y_pred_test1 = LR.predict(X_test)\n",
    "print(\"Test Accuracy:\", accuracy_score(y_test, y_pred_test1))\n",
    "print(\"Classification Report:\")\n",
    "print(classification_report(y_test, y_pred_test1))"
   ]
  },
  {
   "cell_type": "code",
   "execution_count": 105,
   "id": "14a896a1",
   "metadata": {
    "executionInfo": {
     "elapsed": 416,
     "status": "ok",
     "timestamp": 1700829175746,
     "user": {
      "displayName": "Sadia Khatun",
      "userId": "02347170218959633251"
     },
     "user_tz": -360
    },
    "id": "Dx1wqPIpKL-s",
    "outputId": "197253bf-b220-4e08-a0e8-13673180fd5f",
    "papermill": {
     "duration": null,
     "end_time": null,
     "exception": null,
     "start_time": null,
     "status": "pending"
    },
    "tags": []
   },
   "outputs": [
    {
     "name": "stdout",
     "output_type": "stream",
     "text": [
      "Precision Score : 0.9292207792207792\n",
      "Recall Score : 0.993060374739764\n",
      "f1 Score : 0.960080509896008\n",
      "\n",
      "\n",
      "confusion matrix\n",
      "\n",
      "\n",
      "[[ 151  109]\n",
      " [  10 1431]]\n",
      "\n",
      "\n"
     ]
    },
    {
     "data": {
      "image/png": "[encoded data removed]",
      "text/plain": [
       "<Figure size 1000x1000 with 2 Axes>"
      ]
     },
     "metadata": {},
     "output_type": "display_data"
    }
   ],
   "source": [
    "precision_score_LR=precision_score(y_test,y_pred_test1)\n",
    "recall_score_LR=recall_score(y_test,y_pred_test1)\n",
    "f1_score_LR=f1_score(y_test,y_pred_test1)\n",
    "\n",
    "print(\"Precision Score :\",precision_score_LR)\n",
    "print(\"Recall Score :\",recall_score_LR)\n",
    "print(\"f1 Score :\",f1_score_LR)\n",
    "\n",
    "print('\\n')\n",
    "print(\"confusion matrix\")\n",
    "print('\\n')\n",
    "CR=confusion_matrix(y_test, y_pred_test1)\n",
    "print(CR)\n",
    "print('\\n')\n",
    "\n",
    "fig, ax = plot_confusion_matrix(conf_mat=CR, figsize=(10, 10),\n",
    "                                show_absolute=True,\n",
    "                                show_normed=True,\n",
    "                                colorbar=True,\n",
    "                                cmap='Reds')\n",
    "plt.show()"
   ]
  },
  {
   "cell_type": "code",
   "execution_count": 106,
   "id": "25e418c0",
   "metadata": {
    "executionInfo": {
     "elapsed": 406,
     "status": "ok",
     "timestamp": 1700829227999,
     "user": {
      "displayName": "Sadia Khatun",
      "userId": "02347170218959633251"
     },
     "user_tz": -360
    },
    "id": "AVbA10qyP24o",
    "outputId": "1547d6fe-d58f-4209-a615-40e803702ccd",
    "papermill": {
     "duration": null,
     "end_time": null,
     "exception": null,
     "start_time": null,
     "status": "pending"
    },
    "tags": []
   },
   "outputs": [
    {
     "data": {
      "text/plain": [
       "(array([0.        , 0.41923077, 1.        ]),\n",
       " array([0.        , 0.99306037, 1.        ]),\n",
       " array([inf,  1.,  0.]))"
      ]
     },
     "execution_count": 106,
     "metadata": {},
     "output_type": "execute_result"
    }
   ],
   "source": [
    "fpr_lr,tpr_lr,th_lr=roc_curve(y_test,y_pred_test1)\n",
    "fpr_lr,tpr_lr,th_lr"
   ]
  },
  {
   "cell_type": "markdown",
   "id": "8b222bce",
   "metadata": {
    "id": "xP2jQ0N2QYdH",
    "papermill": {
     "duration": null,
     "end_time": null,
     "exception": null,
     "start_time": null,
     "status": "pending"
    },
    "tags": []
   },
   "source": [
    "plot roc_curve"
   ]
  },
  {
   "cell_type": "markdown",
   "id": "e7144b7f",
   "metadata": {
    "id": "5bBz-uxChE-y",
    "papermill": {
     "duration": null,
     "end_time": null,
     "exception": null,
     "start_time": null,
     "status": "pending"
    },
    "tags": []
   },
   "source": [
    "# Random Forest"
   ]
  },
  {
   "cell_type": "code",
   "execution_count": 107,
   "id": "8c05d0dd",
   "metadata": {
    "executionInfo": {
     "elapsed": 10020,
     "status": "ok",
     "timestamp": 1700829934559,
     "user": {
      "displayName": "Sadia Khatun",
      "userId": "02347170218959633251"
     },
     "user_tz": -360
    },
    "id": "N9PLfUByhBjk",
    "outputId": "bf34137b-35d5-4026-9b76-ecd38f96ff65",
    "papermill": {
     "duration": null,
     "end_time": null,
     "exception": null,
     "start_time": null,
     "status": "pending"
    },
    "tags": []
   },
   "outputs": [
    {
     "data": {
      "text/html": [
       "<style>#sk-container-id-5 {color: black;}#sk-container-id-5 pre{padding: 0;}#sk-container-id-5 div.sk-toggleable {background-color: white;}#sk-container-id-5 label.sk-toggleable__label {cursor: pointer;display: block;width: 100%;margin-bottom: 0;padding: 0.3em;box-sizing: border-box;text-align: center;}#sk-container-id-5 label.sk-toggleable__label-arrow:before {content: \"▸\";float: left;margin-right: 0.25em;color: #696969;}#sk-container-id-5 label.sk-toggleable__label-arrow:hover:before {color: black;}#sk-container-id-5 div.sk-estimator:hover label.sk-toggleable__label-arrow:before {color: black;}#sk-container-id-5 div.sk-toggleable__content {max-height: 0;max-width: 0;overflow: hidden;text-align: left;background-color: #f0f8ff;}#sk-container-id-5 div.sk-toggleable__content pre {margin: 0.2em;color: black;border-radius: 0.25em;background-color: #f0f8ff;}#sk-container-id-5 input.sk-toggleable__control:checked~div.sk-toggleable__content {max-height: 200px;max-width: 100%;overflow: auto;}#sk-container-id-5 input.sk-toggleable__control:checked~label.sk-toggleable__label-arrow:before {content: \"▾\";}#sk-container-id-5 div.sk-estimator input.sk-toggleable__control:checked~label.sk-toggleable__label {background-color: #d4ebff;}#sk-container-id-5 div.sk-label input.sk-toggleable__control:checked~label.sk-toggleable__label {background-color: #d4ebff;}#sk-container-id-5 input.sk-hidden--visually {border: 0;clip: rect(1px 1px 1px 1px);clip: rect(1px, 1px, 1px, 1px);height: 1px;margin: -1px;overflow: hidden;padding: 0;position: absolute;width: 1px;}#sk-container-id-5 div.sk-estimator {font-family: monospace;background-color: #f0f8ff;border: 1px dotted black;border-radius: 0.25em;box-sizing: border-box;margin-bottom: 0.5em;}#sk-container-id-5 div.sk-estimator:hover {background-color: #d4ebff;}#sk-container-id-5 div.sk-parallel-item::after {content: \"\";width: 100%;border-bottom: 1px solid gray;flex-grow: 1;}#sk-container-id-5 div.sk-label:hover label.sk-toggleable__label {background-color: #d4ebff;}#sk-container-id-5 div.sk-serial::before {content: \"\";position: absolute;border-left: 1px solid gray;box-sizing: border-box;top: 0;bottom: 0;left: 50%;z-index: 0;}#sk-container-id-5 div.sk-serial {display: flex;flex-direction: column;align-items: center;background-color: white;padding-right: 0.2em;padding-left: 0.2em;position: relative;}#sk-container-id-5 div.sk-item {position: relative;z-index: 1;}#sk-container-id-5 div.sk-parallel {display: flex;align-items: stretch;justify-content: center;background-color: white;position: relative;}#sk-container-id-5 div.sk-item::before, #sk-container-id-5 div.sk-parallel-item::before {content: \"\";position: absolute;border-left: 1px solid gray;box-sizing: border-box;top: 0;bottom: 0;left: 50%;z-index: -1;}#sk-container-id-5 div.sk-parallel-item {display: flex;flex-direction: column;z-index: 1;position: relative;background-color: white;}#sk-container-id-5 div.sk-parallel-item:first-child::after {align-self: flex-end;width: 50%;}#sk-container-id-5 div.sk-parallel-item:last-child::after {align-self: flex-start;width: 50%;}#sk-container-id-5 div.sk-parallel-item:only-child::after {width: 0;}#sk-container-id-5 div.sk-dashed-wrapped {border: 1px dashed gray;margin: 0 0.4em 0.5em 0.4em;box-sizing: border-box;padding-bottom: 0.4em;background-color: white;}#sk-container-id-5 div.sk-label label {font-family: monospace;font-weight: bold;display: inline-block;line-height: 1.2em;}#sk-container-id-5 div.sk-label-container {text-align: center;}#sk-container-id-5 div.sk-container {/* jupyter's `normalize.less` sets `[hidden] { display: none; }` but bootstrap.min.css set `[hidden] { display: none !important; }` so we also need the `!important` here to be able to override the default hidden behavior on the sphinx rendered scikit-learn.org. See: https://github.com/scikit-learn/scikit-learn/issues/21755 */display: inline-block !important;position: relative;}#sk-container-id-5 div.sk-text-repr-fallback {display: none;}</style><div id=\"sk-container-id-5\" class=\"sk-top-container\"><div class=\"sk-text-repr-fallback\"><pre>RandomForestClassifier(random_state=0)</pre><b>In a Jupyter environment, please rerun this cell to show the HTML representation or trust the notebook. <br />On GitHub, the HTML representation is unable to render, please try loading this page with nbviewer.org.</b></div><div class=\"sk-container\" hidden><div class=\"sk-item\"><div class=\"sk-estimator sk-toggleable\"><input class=\"sk-toggleable__control sk-hidden--visually\" id=\"sk-estimator-id-7\" type=\"checkbox\" checked><label for=\"sk-estimator-id-7\" class=\"sk-toggleable__label sk-toggleable__label-arrow\">RandomForestClassifier</label><div class=\"sk-toggleable__content\"><pre>RandomForestClassifier(random_state=0)</pre></div></div></div></div></div>"
      ],
      "text/plain": [
       "RandomForestClassifier(random_state=0)"
      ]
     },
     "execution_count": 107,
     "metadata": {},
     "output_type": "execute_result"
    }
   ],
   "source": [
    "Rando = RandomForestClassifier(n_estimators=100,random_state=0)\n",
    "Rando.fit(X_train,y_train)"
   ]
  },
  {
   "cell_type": "code",
   "execution_count": 108,
   "id": "37b2405a",
   "metadata": {
    "executionInfo": {
     "elapsed": 542,
     "status": "ok",
     "timestamp": 1700830016238,
     "user": {
      "displayName": "Sadia Khatun",
      "userId": "02347170218959633251"
     },
     "user_tz": -360
    },
    "id": "5yq-lH3ShIVs",
    "outputId": "e31d18f2-34b2-429a-c969-a0b50a140e6e",
    "papermill": {
     "duration": null,
     "end_time": null,
     "exception": null,
     "start_time": null,
     "status": "pending"
    },
    "tags": []
   },
   "outputs": [
    {
     "name": "stdout",
     "output_type": "stream",
     "text": [
      "Testing Accuracy: 0.9288653733098178\n",
      " tranning Accuracy: 1.0\n",
      "Classification Report:\n",
      "              precision    recall  f1-score   support\n",
      "\n",
      "         0.0       1.00      0.53      0.70       260\n",
      "         1.0       0.92      1.00      0.96      1441\n",
      "\n",
      "    accuracy                           0.93      1701\n",
      "   macro avg       0.96      0.77      0.83      1701\n",
      "weighted avg       0.93      0.93      0.92      1701\n",
      "\n"
     ]
    }
   ],
   "source": [
    "y_pred_test2 = Rando.predict(X_test)\n",
    "y_p_train=Rando.predict(X_train);\n",
    "print(\"Testing Accuracy:\", accuracy_score(y_test, y_pred_test2))\n",
    "print(\" tranning Accuracy:\", accuracy_score(y_train, y_p_train))\n",
    "\n",
    "print(\"Classification Report:\")\n",
    "print(classification_report(y_test, y_pred_test2))"
   ]
  },
  {
   "cell_type": "code",
   "execution_count": 109,
   "id": "0ed94fa1",
   "metadata": {
    "executionInfo": {
     "elapsed": 4,
     "status": "ok",
     "timestamp": 1700830020101,
     "user": {
      "displayName": "Sadia Khatun",
      "userId": "02347170218959633251"
     },
     "user_tz": -360
    },
    "id": "QtK6P8jAU3wN",
    "outputId": "26b27786-ef3a-4bff-f4f9-66a4943f0a88",
    "papermill": {
     "duration": null,
     "end_time": null,
     "exception": null,
     "start_time": null,
     "status": "pending"
    },
    "tags": []
   },
   "outputs": [
    {
     "name": "stdout",
     "output_type": "stream",
     "text": [
      "Precision Score : 0.9225352112676056\n",
      "Recall Score : 1.0\n",
      "f1 Score : 0.9597069597069597\n",
      "[[ 139  121]\n",
      " [   0 1441]]\n",
      "\n",
      "\n"
     ]
    },
    {
     "data": {
      "image/png": "[encoded data removed]",
      "text/plain": [
       "<Figure size 1000x1000 with 2 Axes>"
      ]
     },
     "metadata": {},
     "output_type": "display_data"
    }
   ],
   "source": [
    "precision_score_Rf=precision_score(y_test,y_pred_test2)\n",
    "recall_score_Rf=recall_score(y_test,y_pred_test2)\n",
    "f1_score_Rf=f1_score(y_test,y_pred_test2)\n",
    "\n",
    "print(\"Precision Score :\", precision_score_Rf)\n",
    "print(\"Recall Score :\",recall_score_Rf)\n",
    "print(\"f1 Score :\",f1_score_Rf)\n",
    "\n",
    "CR=confusion_matrix(y_test, y_pred_test2)\n",
    "print(CR)\n",
    "print('\\n')\n",
    "\n",
    "fig, ax = plot_confusion_matrix(conf_mat=CR, figsize=(10, 10),\n",
    "                                show_absolute=True,\n",
    "                                show_normed=True,\n",
    "                                colorbar=True,\n",
    "                                cmap='Reds')"
   ]
  },
  {
   "cell_type": "code",
   "execution_count": 110,
   "id": "fa15f154",
   "metadata": {
    "executionInfo": {
     "elapsed": 2196,
     "status": "ok",
     "timestamp": 1700830030791,
     "user": {
      "displayName": "Sadia Khatun",
      "userId": "02347170218959633251"
     },
     "user_tz": -360
    },
    "id": "GAElMUYIU69x",
    "outputId": "da72352c-addc-43c9-f2d7-78d0e32daf6a",
    "papermill": {
     "duration": null,
     "end_time": null,
     "exception": null,
     "start_time": null,
     "status": "pending"
    },
    "tags": []
   },
   "outputs": [
    {
     "data": {
      "text/plain": [
       "(array([0.        , 0.46538462, 1.        ]),\n",
       " array([0., 1., 1.]),\n",
       " array([inf,  1.,  0.]))"
      ]
     },
     "execution_count": 110,
     "metadata": {},
     "output_type": "execute_result"
    }
   ],
   "source": [
    "fpr_rf,tpr_rf,th_rf=roc_curve(y_test,y_pred_test2)\n",
    "fpr_rf,tpr_rf,th_rf"
   ]
  },
  {
   "cell_type": "markdown",
   "id": "dab0cade",
   "metadata": {
    "id": "k8YOEFkf_1tI",
    "papermill": {
     "duration": null,
     "end_time": null,
     "exception": null,
     "start_time": null,
     "status": "pending"
    },
    "tags": []
   },
   "source": [
    "# Support vector machine"
   ]
  },
  {
   "cell_type": "code",
   "execution_count": 111,
   "id": "ff4e0286",
   "metadata": {
    "executionInfo": {
     "elapsed": 30182,
     "status": "ok",
     "timestamp": 1700830336630,
     "user": {
      "displayName": "Sadia Khatun",
      "userId": "02347170218959633251"
     },
     "user_tz": -360
    },
    "id": "iLkzu8oEhZPf",
    "outputId": "cce4f069-9067-4de1-c58e-f948afbbdbb0",
    "papermill": {
     "duration": null,
     "end_time": null,
     "exception": null,
     "start_time": null,
     "status": "pending"
    },
    "tags": []
   },
   "outputs": [],
   "source": [
    "from sklearn.svm import SVC\n",
    "\n",
    "\n",
    "svm_clf=SVC(kernel='rbf', C=2, gamma=1);\n",
    "svm_clf.fit(X_train,y_train);\n"
   ]
  },
  {
   "cell_type": "code",
   "execution_count": 112,
   "id": "11984fa3",
   "metadata": {
    "executionInfo": {
     "elapsed": 6023,
     "status": "ok",
     "timestamp": 1700830360363,
     "user": {
      "displayName": "Sadia Khatun",
      "userId": "02347170218959633251"
     },
     "user_tz": -360
    },
    "id": "LDlPzzXc_kXo",
    "outputId": "b7388084-20f9-48d3-fed2-19b8570b4a88",
    "papermill": {
     "duration": null,
     "end_time": null,
     "exception": null,
     "start_time": null,
     "status": "pending"
    },
    "tags": []
   },
   "outputs": [
    {
     "name": "stdout",
     "output_type": "stream",
     "text": [
      "Tranning Accuracy: 0.9991176470588236\n",
      "Test Accuracy: 0.951793062904174\n",
      "Classification Report:\n",
      "              precision    recall  f1-score   support\n",
      "\n",
      "         0.0       0.94      0.73      0.82       260\n",
      "         1.0       0.95      0.99      0.97      1441\n",
      "\n",
      "    accuracy                           0.95      1701\n",
      "   macro avg       0.95      0.86      0.90      1701\n",
      "weighted avg       0.95      0.95      0.95      1701\n",
      "\n"
     ]
    }
   ],
   "source": [
    "y_p_train=svm_clf.predict(X_train);\n",
    "print(\"Tranning Accuracy:\", accuracy_score(y_train, y_p_train))\n",
    "y_pred_test3 = svm_clf.predict(X_test)\n",
    "print(\"Test Accuracy:\", accuracy_score(y_test, y_pred_test3))\n",
    "print(\"Classification Report:\")\n",
    "print(classification_report(y_test, y_pred_test3))"
   ]
  },
  {
   "cell_type": "code",
   "execution_count": 113,
   "id": "fc6f3de6",
   "metadata": {
    "executionInfo": {
     "elapsed": 8,
     "status": "ok",
     "timestamp": 1700830363372,
     "user": {
      "displayName": "Sadia Khatun",
      "userId": "02347170218959633251"
     },
     "user_tz": -360
    },
    "id": "ch6cbSVwXWj4",
    "outputId": "bb610f1e-729d-44b4-daed-5285d432bba3",
    "papermill": {
     "duration": null,
     "end_time": null,
     "exception": null,
     "start_time": null,
     "status": "pending"
    },
    "tags": []
   },
   "outputs": [
    {
     "name": "stdout",
     "output_type": "stream",
     "text": [
      "Precision Score : 0.9533022014676451\n",
      "Recall Score : 0.9916724496877168\n",
      "f1 Score : 0.972108843537415\n",
      "[[ 190   70]\n",
      " [  12 1429]]\n",
      "\n",
      "\n"
     ]
    },
    {
     "data": {
      "image/png": "[encoded data removed]",
      "text/plain": [
       "<Figure size 1000x1000 with 2 Axes>"
      ]
     },
     "metadata": {},
     "output_type": "display_data"
    }
   ],
   "source": [
    "precision_score_sv=precision_score(y_test,y_pred_test3)\n",
    "recall_score_sv=recall_score(y_test,y_pred_test3)\n",
    "f1_score_sv=f1_score(y_test,y_pred_test3)\n",
    "\n",
    "print(\"Precision Score :\",precision_score_sv)\n",
    "print(\"Recall Score :\",recall_score_sv)\n",
    "print(\"f1 Score :\",f1_score_sv)\n",
    "\n",
    "fpr_sv,tpr_sv,th_sv=roc_curve(y_test,y_pred_test3)\n",
    "fpr_sv,tpr_sv,th_sv\n",
    "\n",
    "#conconfusion_matrix\n",
    "CR=confusion_matrix(y_test, y_pred_test3)\n",
    "print(CR)\n",
    "print('\\n')\n",
    "\n",
    "fig, ax = plot_confusion_matrix(conf_mat=CR, figsize=(10, 10),\n",
    "                                show_absolute=True,\n",
    "                                show_normed=True,\n",
    "                                colorbar=True,\n",
    "                                cmap='Reds')"
   ]
  },
  {
   "cell_type": "markdown",
   "id": "b7056305-d237-43aa-989a-5aa54c9ea3cd",
   "metadata": {},
   "source": [
    "### best kernel ,c and gamma"
   ]
  },
  {
   "cell_type": "code",
   "execution_count": 114,
   "id": "306ae073-0e73-4e66-906e-fdf25c87a3bf",
   "metadata": {},
   "outputs": [],
   "source": [
    "# C_values = [0.1, 1, 10,100]\n",
    "# gamma_values = [0.01, 0.1, 1]\n",
    "# kernel=[\"linear\",\"rbf\",\"poly\",\"sigmoid\"]\n",
    "\n",
    "# best_accuracy = 0\n",
    "# best_params = {}\n",
    "\n",
    "# # Iterate through all combinations of C and gamma and kernel\n",
    "# for C in C_values:\n",
    "#     for gamma in gamma_values:\n",
    "#         for K in kernel:\n",
    "#             svm_rbf = SVC(kernel=K, C=C, gamma=gamma)\n",
    "#             svm_rbf.fit(X_train,y_train )\n",
    "#             y_pred = svm_rbf.predict(X_test)\n",
    "#             accuracy = accuracy_score(y_test, y_pred)\n",
    "\n",
    "#             if accuracy > best_accuracy:\n",
    "#                 best_accuracy = accuracy\n",
    "#                 best_params = {'kernel':K,'C': C, 'gamma': gamma}\n",
    "\n",
    "# # Create model using the best hyperparameters\n",
    "# best_model = SVC(kernel=best_params['kernel'], C=best_params['C'], gamma=best_params['gamma'])\n",
    "# best_model.fit(X_train,y_train)\n",
    "\n",
    "# y_pred_best = best_model.predict(X_test)\n",
    "# test_accuracy_best = accuracy_score(y_test, y_pred_best)\n",
    "\n",
    "# print(\"Best Hyperparameters:\", best_params)\n",
    "# print(\"Test Accuracy (Best Model):\", test_accuracy_best)\n",
    "\n",
    "# matrix=classification_report(y_test,y_pred_best)\n",
    "# print(\"\\n\\nClassification Report\\n\",matrix)"
   ]
  },
  {
   "cell_type": "markdown",
   "id": "a0bf4ffb",
   "metadata": {
    "id": "KgQGQEv__7WS",
    "papermill": {
     "duration": null,
     "end_time": null,
     "exception": null,
     "start_time": null,
     "status": "pending"
    },
    "tags": []
   },
   "source": [
    "# decision Tree"
   ]
  },
  {
   "cell_type": "code",
   "execution_count": 115,
   "id": "df5f9c49",
   "metadata": {
    "executionInfo": {
     "elapsed": 6604,
     "status": "ok",
     "timestamp": 1700830557704,
     "user": {
      "displayName": "Sadia Khatun",
      "userId": "02347170218959633251"
     },
     "user_tz": -360
    },
    "id": "-aRDOYzO_1Im",
    "outputId": "c83eb6f0-9ba2-43bd-92f7-d96394526dfd",
    "papermill": {
     "duration": null,
     "end_time": null,
     "exception": null,
     "start_time": null,
     "status": "pending"
    },
    "tags": []
   },
   "outputs": [
    {
     "name": "stdout",
     "output_type": "stream",
     "text": [
      "Tranning Accuracy: 1.0\n",
      "Test  Accuracy: 0.9194591416813639\n",
      "Classification Report:\n",
      "              precision    recall  f1-score   support\n",
      "\n",
      "         0.0       0.75      0.70      0.73       260\n",
      "         1.0       0.95      0.96      0.95      1441\n",
      "\n",
      "    accuracy                           0.92      1701\n",
      "   macro avg       0.85      0.83      0.84      1701\n",
      "weighted avg       0.92      0.92      0.92      1701\n",
      "\n"
     ]
    }
   ],
   "source": [
    "dt = DecisionTreeClassifier()\n",
    "dt.fit(X_train, y_train)\n",
    "\n",
    "y_p_train=dt.predict(X_train);\n",
    "print(\"Tranning Accuracy:\", accuracy_score(y_train, y_p_train))\n",
    "\n",
    "y_pred_test4 = dt.predict(X_test)\n",
    "print(\"Test  Accuracy:\", accuracy_score(y_test, y_pred_test4))\n",
    "\n",
    "print(\"Classification Report:\")\n",
    "print(classification_report(y_test, y_pred_test4))"
   ]
  },
  {
   "cell_type": "code",
   "execution_count": 116,
   "id": "ceae53b1",
   "metadata": {
    "executionInfo": {
     "elapsed": 445,
     "status": "ok",
     "timestamp": 1700830564508,
     "user": {
      "displayName": "Sadia Khatun",
      "userId": "02347170218959633251"
     },
     "user_tz": -360
    },
    "id": "FEPHbUuPYVW9",
    "outputId": "77a4f43e-4c51-47e3-bdf3-e82aeb062334",
    "papermill": {
     "duration": null,
     "end_time": null,
     "exception": null,
     "start_time": null,
     "status": "pending"
    },
    "tags": []
   },
   "outputs": [
    {
     "name": "stdout",
     "output_type": "stream",
     "text": [
      "Precision Score : 0.9471879286694102\n",
      "Recall Score : 0.9583622484385843\n",
      "f1 Score : 0.9527423249396344\n",
      "[[ 183   77]\n",
      " [  60 1381]]\n",
      "\n",
      "\n"
     ]
    },
    {
     "data": {
      "image/png": "[encoded data removed]",
      "text/plain": [
       "<Figure size 1000x1000 with 2 Axes>"
      ]
     },
     "metadata": {},
     "output_type": "display_data"
    }
   ],
   "source": [
    "precision_score_dt=precision_score(y_test,y_pred_test4)\n",
    "recall_score_dt=recall_score(y_test,y_pred_test4)\n",
    "f1_score_dt=f1_score(y_test,y_pred_test4)\n",
    "\n",
    "print(\"Precision Score :\",precision_score_dt)\n",
    "print(\"Recall Score :\",recall_score_dt)\n",
    "print(\"f1 Score :\",f1_score_dt)\n",
    "\n",
    "fpr_dt,tpr_dt,th_dt=roc_curve(y_test,y_pred_test4)\n",
    "fpr_dt,tpr_dt,th_dt\n",
    "\n",
    "#conconfusion_matrix\n",
    "CR=confusion_matrix(y_test, y_pred_test4)\n",
    "print(CR)\n",
    "print('\\n')\n",
    "\n",
    "fig, ax = plot_confusion_matrix(conf_mat=CR, figsize=(10, 10),\n",
    "                                show_absolute=True,\n",
    "                                show_normed=True,\n",
    "                                colorbar=True,\n",
    "                                cmap='Reds')"
   ]
  },
  {
   "cell_type": "markdown",
   "id": "03c81414",
   "metadata": {
    "id": "DhdWZa-rALhb",
    "papermill": {
     "duration": null,
     "end_time": null,
     "exception": null,
     "start_time": null,
     "status": "pending"
    },
    "tags": []
   },
   "source": [
    "## AdaBoostingClassifiers"
   ]
  },
  {
   "cell_type": "code",
   "execution_count": 117,
   "id": "a2b127b4",
   "metadata": {
    "executionInfo": {
     "elapsed": 11328,
     "status": "ok",
     "timestamp": 1700823945832,
     "user": {
      "displayName": "Sadia Khatun",
      "userId": "02347170218959633251"
     },
     "user_tz": -360
    },
    "id": "j8kmh3LTAPn7",
    "outputId": "9527a7f5-7c3e-42b6-dac5-8bb9696e4a2e",
    "papermill": {
     "duration": null,
     "end_time": null,
     "exception": null,
     "start_time": null,
     "status": "pending"
    },
    "tags": []
   },
   "outputs": [
    {
     "data": {
      "text/html": [
       "<style>#sk-container-id-6 {color: black;}#sk-container-id-6 pre{padding: 0;}#sk-container-id-6 div.sk-toggleable {background-color: white;}#sk-container-id-6 label.sk-toggleable__label {cursor: pointer;display: block;width: 100%;margin-bottom: 0;padding: 0.3em;box-sizing: border-box;text-align: center;}#sk-container-id-6 label.sk-toggleable__label-arrow:before {content: \"▸\";float: left;margin-right: 0.25em;color: #696969;}#sk-container-id-6 label.sk-toggleable__label-arrow:hover:before {color: black;}#sk-container-id-6 div.sk-estimator:hover label.sk-toggleable__label-arrow:before {color: black;}#sk-container-id-6 div.sk-toggleable__content {max-height: 0;max-width: 0;overflow: hidden;text-align: left;background-color: #f0f8ff;}#sk-container-id-6 div.sk-toggleable__content pre {margin: 0.2em;color: black;border-radius: 0.25em;background-color: #f0f8ff;}#sk-container-id-6 input.sk-toggleable__control:checked~div.sk-toggleable__content {max-height: 200px;max-width: 100%;overflow: auto;}#sk-container-id-6 input.sk-toggleable__control:checked~label.sk-toggleable__label-arrow:before {content: \"▾\";}#sk-container-id-6 div.sk-estimator input.sk-toggleable__control:checked~label.sk-toggleable__label {background-color: #d4ebff;}#sk-container-id-6 div.sk-label input.sk-toggleable__control:checked~label.sk-toggleable__label {background-color: #d4ebff;}#sk-container-id-6 input.sk-hidden--visually {border: 0;clip: rect(1px 1px 1px 1px);clip: rect(1px, 1px, 1px, 1px);height: 1px;margin: -1px;overflow: hidden;padding: 0;position: absolute;width: 1px;}#sk-container-id-6 div.sk-estimator {font-family: monospace;background-color: #f0f8ff;border: 1px dotted black;border-radius: 0.25em;box-sizing: border-box;margin-bottom: 0.5em;}#sk-container-id-6 div.sk-estimator:hover {background-color: #d4ebff;}#sk-container-id-6 div.sk-parallel-item::after {content: \"\";width: 100%;border-bottom: 1px solid gray;flex-grow: 1;}#sk-container-id-6 div.sk-label:hover label.sk-toggleable__label {background-color: #d4ebff;}#sk-container-id-6 div.sk-serial::before {content: \"\";position: absolute;border-left: 1px solid gray;box-sizing: border-box;top: 0;bottom: 0;left: 50%;z-index: 0;}#sk-container-id-6 div.sk-serial {display: flex;flex-direction: column;align-items: center;background-color: white;padding-right: 0.2em;padding-left: 0.2em;position: relative;}#sk-container-id-6 div.sk-item {position: relative;z-index: 1;}#sk-container-id-6 div.sk-parallel {display: flex;align-items: stretch;justify-content: center;background-color: white;position: relative;}#sk-container-id-6 div.sk-item::before, #sk-container-id-6 div.sk-parallel-item::before {content: \"\";position: absolute;border-left: 1px solid gray;box-sizing: border-box;top: 0;bottom: 0;left: 50%;z-index: -1;}#sk-container-id-6 div.sk-parallel-item {display: flex;flex-direction: column;z-index: 1;position: relative;background-color: white;}#sk-container-id-6 div.sk-parallel-item:first-child::after {align-self: flex-end;width: 50%;}#sk-container-id-6 div.sk-parallel-item:last-child::after {align-self: flex-start;width: 50%;}#sk-container-id-6 div.sk-parallel-item:only-child::after {width: 0;}#sk-container-id-6 div.sk-dashed-wrapped {border: 1px dashed gray;margin: 0 0.4em 0.5em 0.4em;box-sizing: border-box;padding-bottom: 0.4em;background-color: white;}#sk-container-id-6 div.sk-label label {font-family: monospace;font-weight: bold;display: inline-block;line-height: 1.2em;}#sk-container-id-6 div.sk-label-container {text-align: center;}#sk-container-id-6 div.sk-container {/* jupyter's `normalize.less` sets `[hidden] { display: none; }` but bootstrap.min.css set `[hidden] { display: none !important; }` so we also need the `!important` here to be able to override the default hidden behavior on the sphinx rendered scikit-learn.org. See: https://github.com/scikit-learn/scikit-learn/issues/21755 */display: inline-block !important;position: relative;}#sk-container-id-6 div.sk-text-repr-fallback {display: none;}</style><div id=\"sk-container-id-6\" class=\"sk-top-container\"><div class=\"sk-text-repr-fallback\"><pre>AdaBoostClassifier(estimator=DecisionTreeClassifier(max_depth=10),\n",
       "                   n_estimators=5, random_state=1)</pre><b>In a Jupyter environment, please rerun this cell to show the HTML representation or trust the notebook. <br />On GitHub, the HTML representation is unable to render, please try loading this page with nbviewer.org.</b></div><div class=\"sk-container\" hidden><div class=\"sk-item sk-dashed-wrapped\"><div class=\"sk-label-container\"><div class=\"sk-label sk-toggleable\"><input class=\"sk-toggleable__control sk-hidden--visually\" id=\"sk-estimator-id-8\" type=\"checkbox\" ><label for=\"sk-estimator-id-8\" class=\"sk-toggleable__label sk-toggleable__label-arrow\">AdaBoostClassifier</label><div class=\"sk-toggleable__content\"><pre>AdaBoostClassifier(estimator=DecisionTreeClassifier(max_depth=10),\n",
       "                   n_estimators=5, random_state=1)</pre></div></div></div><div class=\"sk-parallel\"><div class=\"sk-parallel-item\"><div class=\"sk-item\"><div class=\"sk-label-container\"><div class=\"sk-label sk-toggleable\"><input class=\"sk-toggleable__control sk-hidden--visually\" id=\"sk-estimator-id-9\" type=\"checkbox\" ><label for=\"sk-estimator-id-9\" class=\"sk-toggleable__label sk-toggleable__label-arrow\">estimator: DecisionTreeClassifier</label><div class=\"sk-toggleable__content\"><pre>DecisionTreeClassifier(max_depth=10)</pre></div></div></div><div class=\"sk-serial\"><div class=\"sk-item\"><div class=\"sk-estimator sk-toggleable\"><input class=\"sk-toggleable__control sk-hidden--visually\" id=\"sk-estimator-id-10\" type=\"checkbox\" ><label for=\"sk-estimator-id-10\" class=\"sk-toggleable__label sk-toggleable__label-arrow\">DecisionTreeClassifier</label><div class=\"sk-toggleable__content\"><pre>DecisionTreeClassifier(max_depth=10)</pre></div></div></div></div></div></div></div></div></div></div>"
      ],
      "text/plain": [
       "AdaBoostClassifier(estimator=DecisionTreeClassifier(max_depth=10),\n",
       "                   n_estimators=5, random_state=1)"
      ]
     },
     "execution_count": 117,
     "metadata": {},
     "output_type": "execute_result"
    }
   ],
   "source": [
    "\n",
    "# svm_classifier = SVC()  # You can adjust kernel and C parameter as per your requirement\n",
    "# # Initialize the AdaBoost classifier with SVM as the base estimator and SAMME algorithm\n",
    "# Adab = AdaBoostClassifier(base_estimator=svm_classifier, n_estimators=5, algorithm='SAMME', random_state=1)\n",
    "\n",
    "\n",
    "Adab = AdaBoostClassifier(DecisionTreeClassifier(max_depth=10),n_estimators=5,random_state=1)\n",
    "Adab.fit(X_train, y_train)"
   ]
  },
  {
   "cell_type": "code",
   "execution_count": 118,
   "id": "1b4e2db6",
   "metadata": {
    "executionInfo": {
     "elapsed": 416,
     "status": "ok",
     "timestamp": 1700823968481,
     "user": {
      "displayName": "Sadia Khatun",
      "userId": "02347170218959633251"
     },
     "user_tz": -360
    },
    "id": "Xt2fpUW0AQCQ",
    "outputId": "f2957116-1af1-47f1-b095-32226f04faf5",
    "papermill": {
     "duration": null,
     "end_time": null,
     "exception": null,
     "start_time": null,
     "status": "pending"
    },
    "tags": []
   },
   "outputs": [
    {
     "name": "stdout",
     "output_type": "stream",
     "text": [
      "Tranning Accuracy: 0.9960294117647058\n",
      "testing Accuracy: 0.9000587889476779\n",
      "Classification Report:\n",
      "              precision    recall  f1-score   support\n",
      "\n",
      "         0.0       0.70      0.61      0.65       260\n",
      "         1.0       0.93      0.95      0.94      1441\n",
      "\n",
      "    accuracy                           0.90      1701\n",
      "   macro avg       0.81      0.78      0.80      1701\n",
      "weighted avg       0.90      0.90      0.90      1701\n",
      "\n"
     ]
    }
   ],
   "source": [
    "y_p_train=Adab.predict(X_train);\n",
    "print(\"Tranning Accuracy:\", accuracy_score(y_train, y_p_train))\n",
    "\n",
    "y_pred_test6 = Adab.predict(X_test)\n",
    "print(\"testing Accuracy:\", accuracy_score(y_test, y_pred_test6))\n",
    "\n",
    "print(\"Classification Report:\")\n",
    "print(classification_report(y_test, y_pred_test6))"
   ]
  },
  {
   "cell_type": "code",
   "execution_count": 119,
   "id": "3387e2ff-209b-425a-875b-6653b5d8299b",
   "metadata": {},
   "outputs": [
    {
     "name": "stdout",
     "output_type": "stream",
     "text": [
      "Precision Score : 0.9308474576271186\n",
      "Recall Score : 0.9528105482303956\n",
      "f1 Score : 0.9417009602194788\n",
      "[[ 158  102]\n",
      " [  68 1373]]\n",
      "\n",
      "\n"
     ]
    },
    {
     "data": {
      "image/png": "[encoded data removed]",
      "text/plain": [
       "<Figure size 1000x1000 with 2 Axes>"
      ]
     },
     "metadata": {},
     "output_type": "display_data"
    }
   ],
   "source": [
    "precision_score_Ad=precision_score(y_test,y_pred_test6)\n",
    "recall_score_Ad=recall_score(y_test,y_pred_test6)\n",
    "f1_score_Ad=f1_score(y_test,y_pred_test6)\n",
    "\n",
    "print(\"Precision Score :\",precision_score_Ad)\n",
    "print(\"Recall Score :\",recall_score_Ad)\n",
    "print(\"f1 Score :\",f1_score_Ad)\n",
    "\n",
    "fpr_Ad,tpr_Ad,th_Ad=roc_curve(y_test,y_pred_test6)\n",
    "fpr_Ad,tpr_Ad,th_Ad\n",
    "\n",
    "\n",
    "#conconfusion_matrix\n",
    "CR=confusion_matrix(y_test, y_pred_test6)\n",
    "print(CR)\n",
    "print('\\n')\n",
    "\n",
    "fig, ax = plot_confusion_matrix(conf_mat=CR, figsize=(10, 10),\n",
    "                                show_absolute=True,\n",
    "                                show_normed=True,\n",
    "                                colorbar=True,\n",
    "                                cmap='Reds')"
   ]
  },
  {
   "cell_type": "markdown",
   "id": "5c26bf90",
   "metadata": {
    "id": "jUGC-v-rV85e",
    "papermill": {
     "duration": null,
     "end_time": null,
     "exception": null,
     "start_time": null,
     "status": "pending"
    },
    "tags": []
   },
   "source": [
    "## GradientBoostingClassifier"
   ]
  },
  {
   "cell_type": "code",
   "execution_count": 120,
   "id": "cb584342",
   "metadata": {
    "executionInfo": {
     "elapsed": 9231,
     "status": "ok",
     "timestamp": 1700830577655,
     "user": {
      "displayName": "Sadia Khatun",
      "userId": "02347170218959633251"
     },
     "user_tz": -360
    },
    "id": "w4fLaLGiB6NE",
    "outputId": "047f6703-6ae2-4bc9-e6f7-366f9c18007b",
    "papermill": {
     "duration": null,
     "end_time": null,
     "exception": null,
     "start_time": null,
     "status": "pending"
    },
    "tags": []
   },
   "outputs": [
    {
     "name": "stdout",
     "output_type": "stream",
     "text": [
      "Tranning Accuracy: 0.9797058823529412\n",
      "Testing Accuracy: 0.9153439153439153\n",
      "Classification Report:\n",
      "              precision    recall  f1-score   support\n",
      "\n",
      "         0.0       0.77      0.63      0.69       260\n",
      "         1.0       0.94      0.97      0.95      1441\n",
      "\n",
      "    accuracy                           0.92      1701\n",
      "   macro avg       0.85      0.80      0.82      1701\n",
      "weighted avg       0.91      0.92      0.91      1701\n",
      "\n"
     ]
    }
   ],
   "source": [
    "from sklearn.ensemble import GradientBoostingClassifier\n",
    "\n",
    "GB_clf = GradientBoostingClassifier(max_depth=10,n_estimators=10, learning_rate=1.0,random_state=1)\n",
    "GB_clf.fit(X_train, y_train)\n",
    "\n",
    "y_p_train=GB_clf.predict(X_train);\n",
    "print(\"Tranning Accuracy:\", accuracy_score(y_train, y_p_train))\n",
    "\n",
    "y_pred_test5 = GB_clf.predict(X_test)\n",
    "print(\"Testing Accuracy:\", accuracy_score(y_test, y_pred_test5))\n",
    "print(\"Classification Report:\")\n",
    "print(classification_report(y_test, y_pred_test5))"
   ]
  },
  {
   "cell_type": "code",
   "execution_count": 121,
   "id": "0b811894",
   "metadata": {
    "executionInfo": {
     "elapsed": 425,
     "status": "ok",
     "timestamp": 1700830592494,
     "user": {
      "displayName": "Sadia Khatun",
      "userId": "02347170218959633251"
     },
     "user_tz": -360
    },
    "id": "KD5FBKkZZDyt",
    "outputId": "2fb5fa8e-2efa-450b-ccdc-7192c87d963c",
    "papermill": {
     "duration": null,
     "end_time": null,
     "exception": null,
     "start_time": null,
     "status": "pending"
    },
    "tags": []
   },
   "outputs": [
    {
     "name": "stdout",
     "output_type": "stream",
     "text": [
      "Precision Score : 0.9355271994627267\n",
      "Recall Score : 0.9666897987508675\n",
      "f1 Score : 0.9508532423208191\n",
      "[[ 164   96]\n",
      " [  48 1393]]\n",
      "\n",
      "\n"
     ]
    },
    {
     "data": {
      "image/png": "[encoded data removed]",
      "text/plain": [
       "<Figure size 1000x1000 with 2 Axes>"
      ]
     },
     "metadata": {},
     "output_type": "display_data"
    }
   ],
   "source": [
    "precision_score_gb=precision_score(y_test,y_pred_test5)\n",
    "recall_score_gb=recall_score(y_test,y_pred_test5)\n",
    "f1_score_gb=f1_score(y_test,y_pred_test5)\n",
    "\n",
    "print(\"Precision Score :\",precision_score_gb)\n",
    "print(\"Recall Score :\",recall_score_gb)\n",
    "print(\"f1 Score :\",f1_score_gb)\n",
    "\n",
    "fpr_gb,tpr_gb,th_gb=roc_curve(y_test,y_pred_test5)\n",
    "fpr_gb,tpr_gb,th_gb\n",
    "\n",
    "#conconfusion_matrix\n",
    "CR=confusion_matrix(y_test, y_pred_test5)\n",
    "print(CR)\n",
    "print('\\n')\n",
    "\n",
    "fig, ax = plot_confusion_matrix(conf_mat=CR, figsize=(10, 10),\n",
    "                                show_absolute=True,\n",
    "                                show_normed=True,\n",
    "                                colorbar=True,\n",
    "                                cmap='Reds')"
   ]
  },
  {
   "cell_type": "markdown",
   "id": "66d3e008",
   "metadata": {
    "id": "N7N6GTI5Zh0m",
    "papermill": {
     "duration": null,
     "end_time": null,
     "exception": null,
     "start_time": null,
     "status": "pending"
    },
    "tags": []
   },
   "source": [
    "##  ROC"
   ]
  },
  {
   "cell_type": "code",
   "execution_count": 122,
   "id": "7ac73637",
   "metadata": {
    "executionInfo": {
     "elapsed": 1151,
     "status": "ok",
     "timestamp": 1700835944957,
     "user": {
      "displayName": "Sadia Khatun",
      "userId": "02347170218959633251"
     },
     "user_tz": -360
    },
    "id": "od84xhDUYBhL",
    "outputId": "8333549e-8082-48fe-d35d-5baef5607258",
    "papermill": {
     "duration": null,
     "end_time": null,
     "exception": null,
     "start_time": null,
     "status": "pending"
    },
    "tags": []
   },
   "outputs": [
    {
     "data": {
      "image/png": "[encoded data removed]",
      "text/plain": [
       "<Figure size 640x480 with 1 Axes>"
      ]
     },
     "metadata": {},
     "output_type": "display_data"
    }
   ],
   "source": [
    "#logistic regression\n",
    "plt.plot(fpr_lr,tpr_lr,label='LogisticRegression' ,\n",
    "         linewidth=2, color='C1')\n",
    "\n",
    "#support vactor machine\n",
    "plt.plot(fpr_sv,tpr_sv,label='support veactor machine' ,\n",
    "         linewidth=2, color='C3')\n",
    "\n",
    "#Decision Tree\n",
    "plt.plot(fpr_dt,tpr_dt,label='decision tree' ,\n",
    "         linewidth=2, color='C4')\n",
    "\n",
    "#random forest\n",
    "plt.plot(fpr_rf,tpr_rf,label='random Forest',\n",
    "         linewidth=2, color='C2')\n",
    "\n",
    "\n",
    "#GradientBoosting\n",
    "plt.plot(fpr_gb,tpr_gb,label='Gradient Boosting',\n",
    "         linewidth=2, color='C5')\n",
    "# #ada boost\n",
    "plt.plot(fpr_Ad,tpr_Ad,label='AdaBoostingClassifiers' ,\n",
    "         linewidth=2, color='C6')\n",
    "\n",
    "plt.plot([0,1],[0,1],'k--')\n",
    "plt.axis([0, 1, 0, 1])\n",
    "plt.ylabel('True Positive Rate(Recall)')\n",
    "plt.xlabel('False Positive Rate(1-𝑆𝑝𝑒𝑐𝑖𝑓𝑖𝑐𝑖𝑡𝑦 )')\n",
    "plt.legend(loc='lower right')\n",
    "plt.grid(True)\n",
    "plt.show()"
   ]
  },
  {
   "cell_type": "code",
   "execution_count": null,
   "id": "70c6c468-0e69-4c11-89fb-592825e197fd",
   "metadata": {},
   "outputs": [],
   "source": []
  }
 ],
 "metadata": {
  "colab": {
   "provenance": []
  },
  "kaggle": {
   "accelerator": "none",
   "dataSources": [
    {
     "datasetId": 618408,
     "sourceId": 2009678,
     "sourceType": "datasetVersion"
    }
   ],
   "isGpuEnabled": false,
   "isInternetEnabled": true,
   "language": "python",
   "sourceType": "notebook"
  },
  "kernelspec": {
   "display_name": "Python 3 (ipykernel)",
   "language": "python",
   "name": "python3"
  },
  "language_info": {
   "codemirror_mode": {
    "name": "ipython",
    "version": 3
   },
   "file_extension": ".py",
   "mimetype": "text/x-python",
   "name": "python",
   "nbconvert_exporter": "python",
   "pygments_lexer": "ipython3",
   "version": "3.11.4"
  },
  "papermill": {
   "default_parameters": {},
   "duration": 4.167806,
   "end_time": "2023-11-25T12:18:58.145183",
   "environment_variables": {},
   "exception": true,
   "input_path": "__notebook__.ipynb",
   "output_path": "__notebook__.ipynb",
   "parameters": {},
   "start_time": "2023-11-25T12:18:53.977377",
   "version": "2.4.0"
  }
 },
 "nbformat": 4,
 "nbformat_minor": 5
}
